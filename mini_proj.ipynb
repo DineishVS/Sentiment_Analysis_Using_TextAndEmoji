{
  "cells": [
    {
      "cell_type": "code",
      "execution_count": null,
      "metadata": {
        "colab": {
          "base_uri": "https://localhost:8080/"
        },
        "id": "9ryjwjudpdua",
        "outputId": "cd370dfa-36a3-491b-8cb0-78602ccef60b"
      },
      "outputs": [
        {
          "output_type": "stream",
          "name": "stdout",
          "text": [
            "Collecting contractions\n",
            "  Downloading contractions-0.1.73-py2.py3-none-any.whl.metadata (1.2 kB)\n",
            "Collecting textsearch>=0.0.21 (from contractions)\n",
            "  Downloading textsearch-0.0.24-py2.py3-none-any.whl.metadata (1.2 kB)\n",
            "Collecting anyascii (from textsearch>=0.0.21->contractions)\n",
            "  Downloading anyascii-0.3.2-py3-none-any.whl.metadata (1.5 kB)\n",
            "Collecting pyahocorasick (from textsearch>=0.0.21->contractions)\n",
            "  Downloading pyahocorasick-2.1.0-cp310-cp310-manylinux_2_5_x86_64.manylinux1_x86_64.manylinux_2_12_x86_64.manylinux2010_x86_64.whl.metadata (13 kB)\n",
            "Downloading contractions-0.1.73-py2.py3-none-any.whl (8.7 kB)\n",
            "Downloading textsearch-0.0.24-py2.py3-none-any.whl (7.6 kB)\n",
            "Downloading anyascii-0.3.2-py3-none-any.whl (289 kB)\n",
            "\u001b[2K   \u001b[90m━━━━━━━━━━━━━━━━━━━━━━━━━━━━━━━━━━━━━━━━\u001b[0m \u001b[32m289.9/289.9 kB\u001b[0m \u001b[31m11.1 MB/s\u001b[0m eta \u001b[36m0:00:00\u001b[0m\n",
            "\u001b[?25hDownloading pyahocorasick-2.1.0-cp310-cp310-manylinux_2_5_x86_64.manylinux1_x86_64.manylinux_2_12_x86_64.manylinux2010_x86_64.whl (110 kB)\n",
            "\u001b[2K   \u001b[90m━━━━━━━━━━━━━━━━━━━━━━━━━━━━━━━━━━━━━━━━\u001b[0m \u001b[32m110.7/110.7 kB\u001b[0m \u001b[31m6.9 MB/s\u001b[0m eta \u001b[36m0:00:00\u001b[0m\n",
            "\u001b[?25hInstalling collected packages: pyahocorasick, anyascii, textsearch, contractions\n",
            "Successfully installed anyascii-0.3.2 contractions-0.1.73 pyahocorasick-2.1.0 textsearch-0.0.24\n"
          ]
        }
      ],
      "source": [
        "!pip install contractions"
      ]
    },
    {
      "cell_type": "code",
      "execution_count": null,
      "metadata": {
        "colab": {
          "base_uri": "https://localhost:8080/"
        },
        "id": "nwdJQGILtVql",
        "outputId": "590f6c99-fe7f-44f1-ede1-36093cf63f49"
      },
      "outputs": [
        {
          "output_type": "stream",
          "name": "stdout",
          "text": [
            "Mounted at /content/drive\n"
          ]
        }
      ],
      "source": [
        "from google.colab import drive\n",
        "drive.mount('/content/drive')"
      ]
    },
    {
      "cell_type": "code",
      "execution_count": null,
      "metadata": {
        "id": "TyTB5Crf0XSh"
      },
      "outputs": [],
      "source": [
        "from sklearn.preprocessing import LabelEncoder"
      ]
    },
    {
      "cell_type": "code",
      "source": [
        "!kaggle datasets download -d nayan082/sentimentnewdataset"
      ],
      "metadata": {
        "colab": {
          "base_uri": "https://localhost:8080/"
        },
        "id": "puuWj7YDqJBY",
        "outputId": "22a2c077-b2a4-429a-8a79-47b86b9a484b"
      },
      "execution_count": null,
      "outputs": [
        {
          "output_type": "stream",
          "name": "stdout",
          "text": [
            "Dataset URL: https://www.kaggle.com/datasets/nayan082/sentimentnewdataset\n",
            "License(s): copyright-authors\n",
            "Downloading sentimentnewdataset.zip to /content\n",
            "  0% 0.00/568k [00:00<?, ?B/s]\n",
            "100% 568k/568k [00:00<00:00, 131MB/s]\n"
          ]
        }
      ]
    },
    {
      "cell_type": "code",
      "execution_count": null,
      "metadata": {
        "colab": {
          "base_uri": "https://localhost:8080/"
        },
        "id": "AdM3ZavyyBAW",
        "outputId": "d9eb047d-0e15-46e1-f08b-b05c99c5ddaa"
      },
      "outputs": [
        {
          "output_type": "stream",
          "name": "stderr",
          "text": [
            "[nltk_data] Downloading package stopwords to /root/nltk_data...\n",
            "[nltk_data]   Unzipping corpora/stopwords.zip.\n"
          ]
        },
        {
          "output_type": "stream",
          "name": "stdout",
          "text": [
            "                                                Text  Sentiment  \\\n",
            "0  @honkhaikey this one girl has cat maid q as th...          0   \n",
            "1                          So embarrassing. Lmfao. 😭          0   \n",
            "2  @BibIeCollege &amp; all the coloured people re...          0   \n",
            "3  @Sheer__Opulence Small Guards under 6feet...He...          0   \n",
            "4  @miIflvr I’m actually 5’9 just a cm off of 5’10 😭          0   \n",
            "\n",
            "                            processed_text  \n",
            "0                  one girl cat maid pfp 😭  \n",
            "1                     embarrassing lmfao 😭  \n",
            "2  amp coloured people reading kerimelle 😭  \n",
            "3      small guards 6feethere way get 65 😭  \n",
            "4                     actually 59 cm 510 😭  \n",
            "                                                     Text  Sentiment  \\\n",
            "316006  @Issascrazyworld I was trying to win some of t...          0   \n",
            "316007  Lesson learned: Tennis, table tennis and badmi...          3   \n",
            "316008  Picking up my photos from my photo shoot this ...          3   \n",
            "316009                      is drown in naked in revenge           0   \n",
            "316010  New blog post: Why isn't it working for me?  -...          0   \n",
            "\n",
            "                                           processed_text  \n",
            "316006              trying win cash know get squat though  \n",
            "316007  lesson learned tennis table tennis badminton u...  \n",
            "316008               picking photos photo shoot wednesday  \n",
            "316009                                drown naked revenge  \n",
            "316010      new blog post working miniminscom weight loss  \n"
          ]
        }
      ],
      "source": [
        "import pandas as pd\n",
        "import re\n",
        "import nltk\n",
        "from nltk.corpus import stopwords\n",
        "import contractions\n",
        "nltk.download('stopwords')\n",
        "\n",
        "\n",
        "def preprocess_text(text):\n",
        "    text = text.lower()\n",
        "    text = contractions.fix(text)\n",
        "    text = re.sub(r'http\\S+|www\\S+|https\\S+', '', text, flags=re.MULTILINE)\n",
        "    text = re.sub(r'@\\w+', '', text)\n",
        "    text = re.sub(r'#(\\w+)', r'\\1', text)\n",
        "    text = re.sub(r'[^\\w\\s\\U0001F600-\\U0001F64F\\U0001F300-\\U0001F5FF\\U0001F680-\\U0001F6FF\\U0001F700-\\U0001F77F]', '', text)\n",
        "    text = re.sub(r'\\b\\w\\b', '', text)\n",
        "    text = re.sub(r'(.)\\1+', r'\\1\\1', text)\n",
        "    stop_words = set(stopwords.words('english'))\n",
        "    text = ' '.join([word for word in text.split() if word not in stop_words])\n",
        "    text = re.sub(r'\\s+', ' ', text).strip()\n",
        "\n",
        "    return text\n",
        "\n",
        "\n",
        "# df = pd.read_csv('/content/drive/MyDrive/140.csv',encoding='ISO-8859-1')\n",
        "# df['text'] = df.iloc[:, -1]\n",
        "# df['processed_text'] = df['text'].apply(preprocess_text)\n",
        "# df.to_csv('/content/drive/MyDrive/preprocessed_dataset.csv', index=False)\n",
        "# print(df[['text', 'processed_text']].head())\n",
        "# df['sentiment'] = df.iloc[:,0]\n",
        "# print(df.head())\n",
        "# print(df.tail())\n",
        "\n",
        "\n",
        "emoji_df = pd.read_csv('/content/drive/MyDrive/large_tweets_data.csv')\n",
        "emoji_df['processed_text'] = emoji_df['Text'].apply(preprocess_text)\n",
        "emoji_df = emoji_df[['Text', 'Sentiment','processed_text']]\n",
        "df_140 = pd.read_csv('/content/drive/MyDrive/reduced_140data.csv',encoding='ISO-8859-1')\n",
        "df_140 = df_140[['Text','Sentiment','processed_text']]\n",
        "combined_df = pd.concat([emoji_df, df_140], ignore_index=True)\n",
        "combined_df.to_csv('/content/drive/MyDrive/preprocessed_dataset2.csv', index=False)\n",
        "\n",
        "#emoji_df.to_csv('/content/drive/MyDrive/preprocessed_dataset2.csv', index=False)\n",
        "print(combined_df.head())\n",
        "print(combined_df.tail())\n",
        "\n"
      ]
    },
    {
      "cell_type": "code",
      "source": [
        "import pandas as pd\n",
        "from sklearn.model_selection import train_test_split\n",
        "\n",
        "df_140 = pd.read_csv('/content/drive/MyDrive/140data.csv', encoding='ISO-8859-1')\n",
        "df_140['Text'] = df_140.iloc[:, -1]\n",
        "df_140['Sentiment'] = df_140.iloc[:, 0]\n",
        "df_140 = df_140.dropna(subset=['Sentiment'])\n",
        "\n",
        "\n",
        "df_140['Sentiment'] = df_140['Sentiment'].replace({4: 3})\n",
        "\n",
        "df_sampled, _ = train_test_split(df_140, train_size=300000, stratify=df_140['Sentiment'], random_state=42)\n",
        "df_sampled['processed_text'] = df_sampled['Text'].apply(preprocess_text)\n",
        "df_sampled.to_csv('/content/drive/MyDrive/reduced_140data.csv', index=False)\n",
        "print(df_sampled['Sentiment'].value_counts())\n",
        "print(df_sampled.head())\n",
        "\n"
      ],
      "metadata": {
        "colab": {
          "base_uri": "https://localhost:8080/",
          "height": 530
        },
        "id": "hBFaMAKJYrVo",
        "outputId": "027f1d1f-1473-481e-df6f-9e7232f156e3"
      },
      "execution_count": null,
      "outputs": [
        {
          "output_type": "error",
          "ename": "ParserError",
          "evalue": "Error tokenizing data. C error: Calling read(nbytes) on source failed. Try engine='python'.",
          "traceback": [
            "\u001b[0;31m---------------------------------------------------------------------------\u001b[0m",
            "\u001b[0;31mParserError\u001b[0m                               Traceback (most recent call last)",
            "\u001b[0;32m<ipython-input-6-369b4d3b5c72>\u001b[0m in \u001b[0;36m<cell line: 4>\u001b[0;34m()\u001b[0m\n\u001b[1;32m      2\u001b[0m \u001b[0;32mfrom\u001b[0m \u001b[0msklearn\u001b[0m\u001b[0;34m.\u001b[0m\u001b[0mmodel_selection\u001b[0m \u001b[0;32mimport\u001b[0m \u001b[0mtrain_test_split\u001b[0m\u001b[0;34m\u001b[0m\u001b[0;34m\u001b[0m\u001b[0m\n\u001b[1;32m      3\u001b[0m \u001b[0;34m\u001b[0m\u001b[0m\n\u001b[0;32m----> 4\u001b[0;31m \u001b[0mdf_140\u001b[0m \u001b[0;34m=\u001b[0m \u001b[0mpd\u001b[0m\u001b[0;34m.\u001b[0m\u001b[0mread_csv\u001b[0m\u001b[0;34m(\u001b[0m\u001b[0;34m'/content/drive/MyDrive/140data.csv'\u001b[0m\u001b[0;34m,\u001b[0m \u001b[0mencoding\u001b[0m\u001b[0;34m=\u001b[0m\u001b[0;34m'ISO-8859-1'\u001b[0m\u001b[0;34m)\u001b[0m\u001b[0;34m\u001b[0m\u001b[0;34m\u001b[0m\u001b[0m\n\u001b[0m\u001b[1;32m      5\u001b[0m \u001b[0mdf_140\u001b[0m\u001b[0;34m[\u001b[0m\u001b[0;34m'Text'\u001b[0m\u001b[0;34m]\u001b[0m \u001b[0;34m=\u001b[0m \u001b[0mdf_140\u001b[0m\u001b[0;34m.\u001b[0m\u001b[0miloc\u001b[0m\u001b[0;34m[\u001b[0m\u001b[0;34m:\u001b[0m\u001b[0;34m,\u001b[0m \u001b[0;34m-\u001b[0m\u001b[0;36m1\u001b[0m\u001b[0;34m]\u001b[0m\u001b[0;34m\u001b[0m\u001b[0;34m\u001b[0m\u001b[0m\n\u001b[1;32m      6\u001b[0m \u001b[0mdf_140\u001b[0m\u001b[0;34m[\u001b[0m\u001b[0;34m'Sentiment'\u001b[0m\u001b[0;34m]\u001b[0m \u001b[0;34m=\u001b[0m \u001b[0mdf_140\u001b[0m\u001b[0;34m.\u001b[0m\u001b[0miloc\u001b[0m\u001b[0;34m[\u001b[0m\u001b[0;34m:\u001b[0m\u001b[0;34m,\u001b[0m \u001b[0;36m0\u001b[0m\u001b[0;34m]\u001b[0m\u001b[0;34m\u001b[0m\u001b[0;34m\u001b[0m\u001b[0m\n",
            "\u001b[0;32m/usr/local/lib/python3.10/dist-packages/pandas/io/parsers/readers.py\u001b[0m in \u001b[0;36mread_csv\u001b[0;34m(filepath_or_buffer, sep, delimiter, header, names, index_col, usecols, dtype, engine, converters, true_values, false_values, skipinitialspace, skiprows, skipfooter, nrows, na_values, keep_default_na, na_filter, verbose, skip_blank_lines, parse_dates, infer_datetime_format, keep_date_col, date_parser, date_format, dayfirst, cache_dates, iterator, chunksize, compression, thousands, decimal, lineterminator, quotechar, quoting, doublequote, escapechar, comment, encoding, encoding_errors, dialect, on_bad_lines, delim_whitespace, low_memory, memory_map, float_precision, storage_options, dtype_backend)\u001b[0m\n\u001b[1;32m   1024\u001b[0m     \u001b[0mkwds\u001b[0m\u001b[0;34m.\u001b[0m\u001b[0mupdate\u001b[0m\u001b[0;34m(\u001b[0m\u001b[0mkwds_defaults\u001b[0m\u001b[0;34m)\u001b[0m\u001b[0;34m\u001b[0m\u001b[0;34m\u001b[0m\u001b[0m\n\u001b[1;32m   1025\u001b[0m \u001b[0;34m\u001b[0m\u001b[0m\n\u001b[0;32m-> 1026\u001b[0;31m     \u001b[0;32mreturn\u001b[0m \u001b[0m_read\u001b[0m\u001b[0;34m(\u001b[0m\u001b[0mfilepath_or_buffer\u001b[0m\u001b[0;34m,\u001b[0m \u001b[0mkwds\u001b[0m\u001b[0;34m)\u001b[0m\u001b[0;34m\u001b[0m\u001b[0;34m\u001b[0m\u001b[0m\n\u001b[0m\u001b[1;32m   1027\u001b[0m \u001b[0;34m\u001b[0m\u001b[0m\n\u001b[1;32m   1028\u001b[0m \u001b[0;34m\u001b[0m\u001b[0m\n",
            "\u001b[0;32m/usr/local/lib/python3.10/dist-packages/pandas/io/parsers/readers.py\u001b[0m in \u001b[0;36m_read\u001b[0;34m(filepath_or_buffer, kwds)\u001b[0m\n\u001b[1;32m    624\u001b[0m \u001b[0;34m\u001b[0m\u001b[0m\n\u001b[1;32m    625\u001b[0m     \u001b[0;32mwith\u001b[0m \u001b[0mparser\u001b[0m\u001b[0;34m:\u001b[0m\u001b[0;34m\u001b[0m\u001b[0;34m\u001b[0m\u001b[0m\n\u001b[0;32m--> 626\u001b[0;31m         \u001b[0;32mreturn\u001b[0m \u001b[0mparser\u001b[0m\u001b[0;34m.\u001b[0m\u001b[0mread\u001b[0m\u001b[0;34m(\u001b[0m\u001b[0mnrows\u001b[0m\u001b[0;34m)\u001b[0m\u001b[0;34m\u001b[0m\u001b[0;34m\u001b[0m\u001b[0m\n\u001b[0m\u001b[1;32m    627\u001b[0m \u001b[0;34m\u001b[0m\u001b[0m\n\u001b[1;32m    628\u001b[0m \u001b[0;34m\u001b[0m\u001b[0m\n",
            "\u001b[0;32m/usr/local/lib/python3.10/dist-packages/pandas/io/parsers/readers.py\u001b[0m in \u001b[0;36mread\u001b[0;34m(self, nrows)\u001b[0m\n\u001b[1;32m   1921\u001b[0m                     \u001b[0mcolumns\u001b[0m\u001b[0;34m,\u001b[0m\u001b[0;34m\u001b[0m\u001b[0;34m\u001b[0m\u001b[0m\n\u001b[1;32m   1922\u001b[0m                     \u001b[0mcol_dict\u001b[0m\u001b[0;34m,\u001b[0m\u001b[0;34m\u001b[0m\u001b[0;34m\u001b[0m\u001b[0m\n\u001b[0;32m-> 1923\u001b[0;31m                 \u001b[0;34m)\u001b[0m \u001b[0;34m=\u001b[0m \u001b[0mself\u001b[0m\u001b[0;34m.\u001b[0m\u001b[0m_engine\u001b[0m\u001b[0;34m.\u001b[0m\u001b[0mread\u001b[0m\u001b[0;34m(\u001b[0m  \u001b[0;31m# type: ignore[attr-defined]\u001b[0m\u001b[0;34m\u001b[0m\u001b[0;34m\u001b[0m\u001b[0m\n\u001b[0m\u001b[1;32m   1924\u001b[0m                     \u001b[0mnrows\u001b[0m\u001b[0;34m\u001b[0m\u001b[0;34m\u001b[0m\u001b[0m\n\u001b[1;32m   1925\u001b[0m                 )\n",
            "\u001b[0;32m/usr/local/lib/python3.10/dist-packages/pandas/io/parsers/c_parser_wrapper.py\u001b[0m in \u001b[0;36mread\u001b[0;34m(self, nrows)\u001b[0m\n\u001b[1;32m    232\u001b[0m         \u001b[0;32mtry\u001b[0m\u001b[0;34m:\u001b[0m\u001b[0;34m\u001b[0m\u001b[0;34m\u001b[0m\u001b[0m\n\u001b[1;32m    233\u001b[0m             \u001b[0;32mif\u001b[0m \u001b[0mself\u001b[0m\u001b[0;34m.\u001b[0m\u001b[0mlow_memory\u001b[0m\u001b[0;34m:\u001b[0m\u001b[0;34m\u001b[0m\u001b[0;34m\u001b[0m\u001b[0m\n\u001b[0;32m--> 234\u001b[0;31m                 \u001b[0mchunks\u001b[0m \u001b[0;34m=\u001b[0m \u001b[0mself\u001b[0m\u001b[0;34m.\u001b[0m\u001b[0m_reader\u001b[0m\u001b[0;34m.\u001b[0m\u001b[0mread_low_memory\u001b[0m\u001b[0;34m(\u001b[0m\u001b[0mnrows\u001b[0m\u001b[0;34m)\u001b[0m\u001b[0;34m\u001b[0m\u001b[0;34m\u001b[0m\u001b[0m\n\u001b[0m\u001b[1;32m    235\u001b[0m                 \u001b[0;31m# destructive to chunks\u001b[0m\u001b[0;34m\u001b[0m\u001b[0;34m\u001b[0m\u001b[0m\n\u001b[1;32m    236\u001b[0m                 \u001b[0mdata\u001b[0m \u001b[0;34m=\u001b[0m \u001b[0m_concatenate_chunks\u001b[0m\u001b[0;34m(\u001b[0m\u001b[0mchunks\u001b[0m\u001b[0;34m)\u001b[0m\u001b[0;34m\u001b[0m\u001b[0;34m\u001b[0m\u001b[0m\n",
            "\u001b[0;32mparsers.pyx\u001b[0m in \u001b[0;36mpandas._libs.parsers.TextReader.read_low_memory\u001b[0;34m()\u001b[0m\n",
            "\u001b[0;32mparsers.pyx\u001b[0m in \u001b[0;36mpandas._libs.parsers.TextReader._read_rows\u001b[0;34m()\u001b[0m\n",
            "\u001b[0;32mparsers.pyx\u001b[0m in \u001b[0;36mpandas._libs.parsers.TextReader._tokenize_rows\u001b[0;34m()\u001b[0m\n",
            "\u001b[0;32mparsers.pyx\u001b[0m in \u001b[0;36mpandas._libs.parsers.TextReader._check_tokenize_status\u001b[0;34m()\u001b[0m\n",
            "\u001b[0;32mparsers.pyx\u001b[0m in \u001b[0;36mpandas._libs.parsers.raise_parser_error\u001b[0;34m()\u001b[0m\n",
            "\u001b[0;31mParserError\u001b[0m: Error tokenizing data. C error: Calling read(nbytes) on source failed. Try engine='python'."
          ]
        }
      ]
    },
    {
      "cell_type": "code",
      "execution_count": null,
      "metadata": {
        "colab": {
          "base_uri": "https://localhost:8080/"
        },
        "id": "GsJBq6RgzpVm",
        "outputId": "cf704c2a-755e-46af-881b-bca061d58b9a"
      },
      "outputs": [
        {
          "output_type": "stream",
          "name": "stdout",
          "text": [
            "Collecting emoji\n",
            "  Downloading emoji-2.14.0-py3-none-any.whl.metadata (5.7 kB)\n",
            "Downloading emoji-2.14.0-py3-none-any.whl (586 kB)\n",
            "\u001b[?25l   \u001b[90m━━━━━━━━━━━━━━━━━━━━━━━━━━━━━━━━━━━━━━━━\u001b[0m \u001b[32m0.0/586.9 kB\u001b[0m \u001b[31m?\u001b[0m eta \u001b[36m-:--:--\u001b[0m\r\u001b[2K   \u001b[91m━━━━━━━━━━━━━━━━━━━━━\u001b[0m\u001b[91m╸\u001b[0m\u001b[90m━━━━━━━━━━━━━━━━━━\u001b[0m \u001b[32m317.4/586.9 kB\u001b[0m \u001b[31m10.2 MB/s\u001b[0m eta \u001b[36m0:00:01\u001b[0m\r\u001b[2K   \u001b[90m━━━━━━━━━━━━━━━━━━━━━━━━━━━━━━━━━━━━━━━━\u001b[0m \u001b[32m586.9/586.9 kB\u001b[0m \u001b[31m11.5 MB/s\u001b[0m eta \u001b[36m0:00:00\u001b[0m\n",
            "\u001b[?25hInstalling collected packages: emoji\n",
            "Successfully installed emoji-2.14.0\n",
            "                                                Text  Sentiment  \\\n",
            "0  @honkhaikey this one girl has cat maid q as th...          0   \n",
            "1                          So embarrassing. Lmfao. 😭          0   \n",
            "2  @BibIeCollege &amp; all the coloured people re...          0   \n",
            "3  @Sheer__Opulence Small Guards under 6feet...He...          0   \n",
            "4  @miIflvr I’m actually 5’9 just a cm off of 5’10 😭          0   \n",
            "\n",
            "                            processed_text  \n",
            "0                  one girl cat maid pfp 😭  \n",
            "1                     embarrassing lmfao 😭  \n",
            "2  amp coloured people reading kerimelle 😭  \n",
            "3      small guards 6feethere way get 65 😭  \n",
            "4                     actually 59 cm 510 😭  \n",
            "Training set size: 252808, Testing set size: 63203\n",
            "                                                Text  Sentiment  \\\n",
            "0  @honkhaikey this one girl has cat maid q as th...          0   \n",
            "1                          So embarrassing. Lmfao. 😭          0   \n",
            "2  @BibIeCollege &amp; all the coloured people re...          0   \n",
            "3  @Sheer__Opulence Small Guards under 6feet...He...          0   \n",
            "4  @miIflvr I’m actually 5’9 just a cm off of 5’10 😭          0   \n",
            "\n",
            "                            processed_text  \\\n",
            "0                  one girl cat maid pfp 😭   \n",
            "1                     embarrassing lmfao 😭   \n",
            "2  amp coloured people reading kerimelle 😭   \n",
            "3      small guards 6feethere way get 65 😭   \n",
            "4                     actually 59 cm 510 😭   \n",
            "\n",
            "                           text_with_emojis_replaced  \n",
            "0         one girl cat maid pfp  loudly_crying_face   \n",
            "1            embarrassing lmfao  loudly_crying_face   \n",
            "2  amp coloured people reading kerimelle  loudly_...  \n",
            "3  small guards 6feethere way get 65  loudly_cryi...  \n",
            "4            actually 59 cm 510  loudly_crying_face   \n"
          ]
        }
      ],
      "source": [
        "!pip install emoji\n",
        "from sklearn.model_selection import train_test_split\n",
        "import emoji\n",
        "import pandas as pd\n",
        "import re\n",
        "import nltk\n",
        "\n",
        "df2 = pd.read_csv('/content/drive/MyDrive/preprocessed_dataset2.csv')\n",
        "print(df2.head())\n",
        "X_train, X_test, y_train, y_test = train_test_split(df2['processed_text'], df2['Sentiment'], test_size=0.2, random_state=42)\n",
        "\n",
        "print(f\"Training set size: {len(X_train)}, Testing set size: {len(X_test)}\")\n",
        "\n",
        "\n",
        "def replace_emojis(text):\n",
        "    if isinstance(text, str):\n",
        "        return emoji.demojize(text, delimiters=(\" \", \" \"))\n",
        "    else:\n",
        "        return text\n",
        "\n",
        "df2['text_with_emojis_replaced'] = df2['processed_text'].apply(replace_emojis)\n",
        "\n",
        "print(df2.head())"
      ]
    },
    {
      "cell_type": "code",
      "source": [
        "import nltk\n",
        "from nltk.corpus import sentiwordnet as swn\n",
        "from nltk.corpus import wordnet as wn\n",
        "\n",
        "nltk.download('sentiwordnet')\n",
        "nltk.download('wordnet')\n",
        "\n",
        "positive_words = set()\n",
        "negative_words = set()\n",
        "\n",
        "all_words = set(wn.all_lemma_names())\n",
        "\n",
        "for word in all_words:\n",
        "\n",
        "    senti_synsets = list(swn.senti_synsets(word))\n",
        "\n",
        "    if senti_synsets:\n",
        "\n",
        "        for senti_synset in senti_synsets:\n",
        "\n",
        "            positive_score = senti_synset.pos_score()\n",
        "            negative_score = senti_synset.neg_score()\n",
        "\n",
        "            if positive_score > 0.5:\n",
        "                positive_words.add(word)\n",
        "            elif negative_score > 0.5:\n",
        "                negative_words.add(word)\n",
        "\n",
        "print(\"Positive Words:\", positive_words)\n",
        "print(\"Negative Words:\", negative_words)"
      ],
      "metadata": {
        "colab": {
          "base_uri": "https://localhost:8080/"
        },
        "id": "kGMVtrNOUPf1",
        "outputId": "1a9809d7-c2e5-460d-bb90-63861bba79bd"
      },
      "execution_count": null,
      "outputs": [
        {
          "output_type": "stream",
          "name": "stderr",
          "text": [
            "[nltk_data] Downloading package sentiwordnet to /root/nltk_data...\n",
            "[nltk_data]   Unzipping corpora/sentiwordnet.zip.\n",
            "[nltk_data] Downloading package wordnet to /root/nltk_data...\n"
          ]
        },
        {
          "output_type": "stream",
          "name": "stdout",
          "text": [
            "Positive Words: {'reassertion', 'infectious_agent', 'honeyed_words', 'spiritedness', 'commonsensible', 'meanspirited', 'astounded', 'venerating', 'well-situated', 'humane', 'loved', 'sensationalism', 'publishable', 'provocative', 'starry-eyed', 'puritanical', 'white_magic', 'plucky', 'revered', 'conscious', 'sportiveness', 'pleased', 'mom', 'pall', 'intelligent', 'playfulness', 'verisimilitude', 'convivial', 'white_elephant', 'probity', 'noticeable', 'good-humored', 'awing', 'seemly', 'corrective', 'respond', 'diviner', 'healthful', 'distinction', 'relapsing', 'discoverable', 'belong', 'euphonic', 'marvelous', 'anthelmintic', 'modishness', 'asteriated', 'rightness', 'caroche', 'savory', 'rarified', 'rosy-cheeked', 'sneak', 'appetent', 'direct', 'isolable', 'attractive', 'elfin', 'essential', 'aesthetical', 'good_humor', 'banner', 'lordly', 'trustful', 'truth', 'going-over', 'provable', 'authentic', 'certified', 'cleanable', 'amusing', 'strike', 'perked_up', 'clean_bill_of_health', 'charming', 'high_quality', 'show-stopper', 'unclimbable', 'deluxe', 'revealing', 'gettable', 'fawner', 'attester', 'sanguineness', 'reconcilable', 'education', 'pricelessness', 'cleared', 'fermentable', 'intellectual', 'cyanogenetic', 'pleasant', 'young', 'apple_polisher', 'labelled', 'regardful', 'accent', 'wiliness', 'contrived', 'sanative', 'euphonious', 'stalwart', 'superordinate', 'pleasingness', 'expectant', 'arable', 'law_of_effect', 'preciousness', 'profanation', 'sanctimoniousness', 'kinky', 'acclamation', 'last_word', 'blind_spot', 'competence', 'innovational', 'heart', 'jocular', 'radiating', 'naive', 'mbd', 'research_worker', 'tastefulness', 'testimonial', 'logical_fallacy', 'simple', 'hope', 'quantifiable', 'sophistication', 'accessible', 'preachification', 'idealistic', 'tried', 'idolatrous', 'moralization', 'seeing', 'brilliance', 'amazing', 'aphrodisiac', 'adept', 'sinless', 'implacable', 'in_a_heartfelt_way', 'hyperbolic', 'licit', 'hyperkinetic_syndrome', 'music', 'jest', 'topper', 'exaggerated', 'fine', 'hard-core', 'crucial', 'agog', 'honour', 'acquittal', 'tidy', 'clean-living', 'answerable', 'advantageously', 'killing', 'bluffness', 'laudability', 'extractable', 'superiority', 'hyperbolise', 'jocund', 'foremost', 'liquifiable', 'training', 'perfecter', 'awe-inspiring', 'sniffy', 'louche', 'spinnable', 'thoroughly', 'plaudit', 'arrant', 'background', 'inaptness', 'overrefined', 'shine', 'coherence', 'paint_the_lily', 'genteel', 'unblemished', 'pain-free', 'logicalness', 'seraphic', 'elan', 'given', 'hearts', 'acquirable', 'taken_with', 'placate', 'diligent', 'suavity', 'divertingly', 'major', 'partial', 'naturalisation', 'couthie', 'knavish', 'ignitable', 'pukka', 'calibre', 'overfond', 'raw_beauty', 'purposelessness', 'spiffing', 'gold_standard', 'enervating', 'constitutional', 'head_and_shoulders_above', 'wonder', 'picturesqueness', 'fitness', 'bowing', 'important', 'swaggering', 'friskiness', 'paperboard', 'mental_balance', 'methodism', 'stout', 'serviceable', 'suited', 'hold', 'revelation', 'bantering', 'square_deal', 'topping', 'correctitude', 'mutability', 'pietistical', 'appeal', 'superfine', 'androgyny', 'bonzer', 'amorousness', 'assets', 'broke', 'craftiness', 'lyrical', 'closest', 'beat', 'benefit', 'rosy', 'impassable', 'just', 'derivable', 'first_water', 'incumbent_on', 'effaceable', 'get-at-able', 'venal', 'houri', 'liked', 'reverence', 'eclat', 'bitter_chocolate', 'bounden', 'formidable', 'righteous', 'couthy', 'kindliness', 'incumbent', 'finished', 'moralistic', 'guileful', 'insurable', 'book_of_revelation', 'administrable', 'good_weather', 'discerning', 'ambrosial', 'leering', 'first-rate', 'politeness', 'prefer', 'gentlemanly', 'keeping', 'somatogenic', 'splendid', 'clastic', 'overstate', 'relish', 'come-at-able', 'off-colour', 'combustibleness', 'categorical_imperative', 'extolment', 'sustainable', 'defendable', 'ratiocinative', 'fairness', 'successful', 'diacritic', 'buoyancy', 'mutable', 'demon', 'revere', 'invasive', 'cheerfulness', 'encouraging', 'refurbishment', 'antipode', 'fair_weather', 'mean', 'think', 'discriminate', 'livable', 'synchytrium', 'ratability', 'goldmine', 'advisability', 'straight_and_narrow', 'dishonest', 'grotesquery', 'singable', 'get_the_hang', 'condition', 'discretion', 'coruscate', 'sterile', 'apotheosis', 'truckler', 'remedial', 'noble', 'morality', 'cultivated', 'leap_out', 'bland', \"kaposi's_varicelliform_eruption\", 'bald-faced', 'irresistible', 'aphrodisia', 'received', 'disabuse', 'shapelessness', 'unpainful', 'versatile', 'merciful', 'legendary', 'finer', 'astonished', 'sly', 'practiced', 'frothy', 'preternatural', 'hen', 'exemplary', 'brazen-faced', 'valuableness', 'salad_green', 'capricious', 'danceable', 'fidelity', 'charitable', 'mindful', 'evitable', 'eudemon', 'stylishness', 'gradable_opposition', 'principle', 'take', 'truthful', 'savoury', 'beats', 'sedulousness', 'elaborately', 'nonsuch', 'sociable', 'meek', 'noble-minded', 'value', 'likable', 'disillusioning', 'salad_greens', 'jimhickey', 'plus', 'popularity', 'prim', 'backstair', 'complaisant', 'conditions', 'weaned', 'obtainable', 'esthetic', 'worth', 'attentiveness', 'best_of_all', 'gay', 'unworthy', 'friendly', 'disreputableness', 'titillating', 'slavelike', 'world-class', 'beatification', 'emotion', 'upper-level', 'contribute', 'neat', 'momma', 'delectable', 'vindicatory', 'breaking', 'red-blooded', 'attributable', 'goodish', 'thought', 'perfectible', 'placidity', 'awless', 'take_over', 'abasement', 'chumminess', 'contributing', 'indecorous', 'maternalistic', 'concrete', 'prosperity', 'fantastic', 'spiritless', 'honor', 'saw', 'unperturbed', 'wondrous', 'unstained', 'lustrous', 'greatest', 'vivid', 'quality', 'gentility', 'admirableness', 'artfulness', 'moralism', 'sublime', 'balmy', 'humanist', 'infatuated', 'moneymaking', 'la-di-da', 'ingenuousness', 'demonstrable', 'elvish', 'commonsensical', 'evident', 'debonair', 'good-naturedness', 'balletomania', 'identity', 'straightarrow', 'proper', 'fatal', 'vice', 'know-how', 'self-assured', 'utiliser', 'high-minded', 'humor', 'tasty', 'right_to_liberty', 'innovative', 'pacify', 'coherent', 'pleasantry', 'kindhearted', 'unnerving', 'feel_like_a_million_dollars', 'euphony', 'sweet', 'epic', 'beatific', 'climbable', 'masters', 'reliability', 'exaggerate', 'handsome', 'loveliness', 'good', 'jump_out', 'metal-cutting', 'public-spirited', 'hot', 'rangeland', 'bubbling', 'meaningfulness', 'functionality', 'quiet', 'fertilizable', 'incorrupt', 'finely', 'admirable', 'word-splitting', 'safe', 'mum', 'unrighteousness', 'verifiable', 'shockable', 'corruption', 'courteous', 'zany', 'fairy_story', 'plummy', 'double-dyed', 'pilot_chart', 'dazzled', 'thomas_carew', 'thoughtful', 'smoothy', 'emotional', 'unimpassioned', 'openhearted', 'overstated', 'infra_dig', 'purchasable', 'responsible', 'crazy', 'auspice', 'glorified', 'pretension', 'reliableness', 'propriety', 'solid', 'frustrating', 'life-and-death', 'amorous', 'indeterminateness', 'compliance', 'punctually', 'idealized', 'maculate', 'rose-colored', 'indiscreetness', 'paternalistic', 'sundress', 'consideration', 'bounce_back', 'enamoredness', 'purity', 'gilded', 'salutary', 'improving', 'delicious', 'jekyll_and_hyde', 'trustingness', 'reasonableness', 'self-righteous', 'amoralism', 'becoming', 'preventable', 'explicable', 'stuffiness', 'raid', 'ace', 'intriguing', 'measure_up', 'ascertainable', 'popularisation', 'indeterminacy', 'gratifying', 'minimal_brain_damage', 'naval_chart', 'pay_dirt', 'highfalutin', 'prodigious', 'upper', 'clear', 'titillation', 'close', 'aimlessness', 'alertness', 'straight-laced', 'fair', 'squeezable', 'cultivation', 'caliber', 'purposefulness', 'heretical', 'naked_as_a_jaybird', 'plainness', 'proclaim', 'suiting', 'flirtation', 'competent', 'angelical', 'fortunate', 'sudden_infant_death_syndrome', 'dignified', 'screwballer', 'reputable', 'stimulating', 'do_good', 'hot_stuff', 'good-looking', 'redemptive', 'deniable', 'exchangeable', 'humdinger', 'boss', 'bring_down', 'gingerly', 'unbend', 'auspices', 'unsurpassable', 'craft', 'envy', 'jump', 'soigne', 'acquired_immunity', 'method', 'modest', 'fineness', 'intricately', 'sedate', 'comme_il_faut', 'reusable', 'respectability', 'reserve', 'stinger', 'undeceive', 'superbia', 'extravagancy', 'well-mannered', 'worthful', 'enervated', 'grippe', 'impalpable', 'trust', 'pomp', 'decent', 'twee', 'reclaimable', 'measurable', 'inelegant', 'bulletproof_vest', 'nonesuch', 'obsequious', 'consider', 'quail', 'positive', 'skilful', 'broad', 'distinguishable', 'degeneracy', 'dignity', 'facetiousness', 'bare-assed', 'placating', 'labeled', 'sugarcoat', 'fitter', 'polar', 'song_and_dance', 'lovable', 'indefiniteness', 'unstable', 'easy', 'ethereal', 'indecent', 'highland_fling', 'discriminating', 'sexy', 'expiable', 'fortuna', 'trueness', 'desired', 'precious', 'guarded', 'transferability', 'unassumingness', 'subclass_copepoda', 'debatable', 'genial', 'footloose', 'genius', 'flu', 'hunted', 'esteemed', 'satisfaction', 'elysian', 'organic', 'agree', 'nice', 'choiceness', 'indignity', 'all_important', 'competency', 'infectious', 'punctilious', 'bonnie', 'elated', 'flirting', 'keen', 'family_sphaeriaceae', 'crystalline', 'self-assertive', 'healing', 'loveable', 'fertile', 'elegance', 'totality', 'hale', 'constant', 'dulcet', 'favorable', 'clear-eyed', 'fantabulous', 'feel_like_a_million', 'modulated', 'polish', 'duplicable', 'subversion', 'antipodes', 'qualify', 'better', 'deep', 'higher-ranking', 'belonging', 'straightlaced', 'amiable', 'penmanship', 'good_humour', 'divert', 'clear-sighted', 'copesettic', 'good-natured', 'lead', 'top-flight', 'tamer', 'scintillating', 'essentiality', 'revelation_of_saint_john_the_divine', 'commercialize', 'ungraciousness', 'liquid', 'antimicrobic', 'manifest', 'on_the_qui_vive', 'ascendable', 'selflessness', 'enlivening', 'associable', 'eudaimonia', 'undress', 'family_peronosporaceae', 'scruple', 'laughable', 'noble-mindedness', 'mastered', 'kind-hearted', 'blessedly', 'cause_to_be_perceived', 'actual_sin', 'reconstructive', 'gain', 'grotesqueness', 'apposable', 'aseptic', 'adventurous', 'elusive', 'hyperpyrexia', 'sought_after', 'wormlike', 'large-hearted', 'reenlistment', 'rosiness', 'garden_of_eden', 'rose-cheeked', 'honeymoon', 'prophylactic', 'all-important', 'wash', 'viability', 'harmonious', 'discriminative', 'lighter', 'profitableness', 'joviality', 'gruntle', 'discreet', 'parasitaxus_ustus', 'contractile', 'indulgent', 'errant', 'monumental', 'heal', 'benign', 'maternal_quality', 'gilt-edged', 'foxiness', 'rousing', 'quaint', 'confidential', 'hospitableness', 'singularity', 'unflurried', 'oblique', 'nonsensical', 'variety', 'renewable', 'anthelminthic', 'overcautious', 'unflustered', 'gorgeous', 'hedonism', 'well-fixed', 'lucrativeness', 'tricky', 'euphonical', 'good_will', 'inspirational', 'momentousness', 'withdrawnness', 'jolliness', 'antithesis', 'bowed', 'conventional', 'analyzable', 'reform', 'bang-up', 'motherliness', 'lighthearted', 'sainted', 'cute', 'potty', 'classics', 'times', 'specular', 'self-love', 'noblesse_oblige', 'basal', 'iniquity', 'groveling', 'successfulness', 'promising', 'compressible', 'lysogenic', 'cringing', 'prepared', 'oppugn', 'tranquillity', 'natural_virtue', 'controversial', 'cloying', 'label', 'shape', 'assertable', 'comradeship', 'nectarous', 'loving-kindness', 'antimicrobial', 'magna_cum_laude', 'clear-cut', 'decency', 'mundanity', 'artful', 'cheer', 'civilised', 'eudaemonia', 'superb', 'reward', 'gladdened', 'sweet_talker', 'removable', 'magnetic', 'splendour', 'fit', 'closer', 'comically', 'splendor', 'somatogenetic', 'accepted', 'exhaustive', 'outstanding', 'utterer', 'mild', 'considerateness', 'family_lepiotaceae', 'tender', 'groveler', 'fairy_tale', 'honorable', 'elevated', 'yearned-for', 'jocularity', 'wholeness', 'gossamer', 'wily', 'emphasis', 'mellisonant', 'accommodate', 'fool', 'selective', 'beauteousness', 'kindness', 'reproducibly', 'lusty', 'proficient', 'right-hand', 'overmodest', 'deferential', 'esteem', 'rarefied', 'covering', 'must', 'attestant', 'dissident', 'admiringly', 'adoringly', 'naturalization', 'uninfected', 'alive', 'outrank', 'humiliation', 'gallant', 'uneven', 'democratic', 'profitability', 'adulate', 'facetious', 'melodious', 'tastiness', 'out-and-outer', 'emotionality', 'all_right', 'zestfulness', 'exhaustively', 'cautious', 'warping', 'prize', 'youthful', 'dignifying', 'smoothness', 'walking_on_air', 'healthfulness', 'patience', 'transmissible', 'precise', 'well-wishing', 'wanted', 'sanctimony', 'changeable', 'disreputability', 'fullness', 'mathematical', 'dilettantish', 'bliss', 'dilettanteish', 'excellent', 'warmer', 'first-rater', 'bestiality', 'upright', 'disdainful', 'corruptible', 'diverted', 'benignant', 'mommy', 'healthier', 'round-eyed', 'downright', 'better_off', 'whole', 'tribute', 'repose', 'comradery', 'avertable', 'hence', 'charmer', 'quotable', 'respected', 'honeyed', 'chivalry', 'overcompensate', 'delicacy', 'intimate', 'absurd', 'phlegmatical', 'sense_of_purpose', 'relieved', 'crackerjack', 'eudaemon', 'bootlicker', 'warmheartedness', 'smasher', 'favourable_position', 'genteelness', 'opposite', 'unnavigable', 'purifying', 'remember_oneself', 'ruly', 'defensible', 'thoroughgoing', 'ideal', 'cock-and-bull_story', 'well-qualified', 'class', 'emancipative', 'positivity', 'propellent', 'raiseable', 'in_the_altogether', 'o.k.', 'infection', 'recovered', 'in_the_raw', 'jumping', 'serendipitous', 'adhd', 'plain', 'load-bearing', 'dependability', 'industrial', 'exalted', 'roast_lamb', 'favorable_position', 'word-perfect', 'derisory', 'helminthic', 'coquetry', 'propellant', 'love', 'heart-whole', 'salubriousness', 'devoted', 'amusingly', 'transmittable', 'narcissism', 'in_and_of_itself', 'plaudits', 'worshipful', 'crack', 'venerableness', 'deserts', 'staid', 'quotability', 'lust_after', 'amiability', 'disadvantageous', 'superstitious', 'masterpiece', 'adjustive', 'affirmative', 'victorian', 'trustworthiness', 'rightfulness', 'centenarian', 'advantageousness', 'personable', 'choice', 'urbanity', 'kill', 'felicitation', 'softness', 'higher-up', 'sane', 'mutafacient', 'incorruptness', 'perceptiveness', 'clownlike', 'bouncing', 'depravation', 'eros', 'playful', 'vivacious', 'amused', 'optimistic', 'sparkly', 'expendable', 'abruptness', 'rationality', 'point_of_honor', 'get_over', 'worthy', 'heatable', 'wide-eyed', 'decorousness', 'genus_synchytrium', 'brag', 'cognoscible', 'goody-goody', 'hearty', 'amoralist', 'politesse', 'avertible', 'magnify', 'outlined', 'rehabilitation_program', 'intrinsically', 'softheaded', 'pivotal', 'assuage', 'sphaeriaceae', 'shakable', 'prosperous', 'erotic', 'qualified', 'dazzle', 'overdraw', 'unmarred', 'covered', 'preeminent', 'propulsive', 'sounder', 'breeding', 'clownish', 'unrespectability', 'pushful', 'blither', 'smashing', 'off_the_hook', 'poster_board', 'convenient', 'ablative', 'craftsman', 'proud', 'wellbeing', 'best', 'clemency', 'potentiality', 'sexual_morality', 'prissy', 'preciosity', 'sentimental', 'energy', 'unmistakable', 'soundness', 'led', 'laudable', 'tame', 'utilizer', 'cultivable', 'disillusion', 'sedulity', 'saphead', 'erasable', 'devil-may-care', 'impeccability', 'actable', 'venerability', 'stayman_winesap', 'benighted', 'favor', 'fitting', 'gainful', 'everlasting', 'vivacity', 'voluptuary', 'copesetic', 'uxoriousness', 'heterodox', 'aroused', 'sexually_attractive', 'specifiable', 'luxe', 'harmonizable', 'nicety', 'amicable', 'rank', 'tasteful', 'mild-mannered', 'jocose', 'luxurious', 'out-and-out', 'rude', 'affectionately', 'lucrative', 'stark_naked', 'acceptable', 'smash', 'rambouillet', 'happiness', 'restorative', 'account', 'admire', 'parasite_yew', 'unpretentious', 'wonderment', 'prolific', 'wished-for', 'sure-handed', 'saintly', 'ruttish', 'cockeyed', 'questioning', 'groveller', 'gusto', 'insolent', 'unostentatious', 'calligraphy', 'acknowledgeable', 'imperfectible', 'good_word', 'beholden', 'neighborly', 'truly', 'squeamishness', 'select', 'imposingly', 'gladsome', 'in_an_elaborate_way', 'bonheur', 'well-thought-of', 'lech_after', 'approachable', 'good_temper', 'venerate', 'abused', 'marvel', 'indefinity', 'chastity', 'laud', 'exalt', 'niminy-piminy', 'edifying', 'disputable', 'guile', 'expressible', 'delicate', 'up', 'right-minded', 'certain', 'coy', 'of_the_essence', 'perverseness', 'pronounce', 'on_the_nose', 'pictorial', 'marvellous', 'liveable', 'grand', 'stark', 'scruples', 'drinkable', 'cracking', 'professed', 'innateness', 'flirt', 'portentous', 'wholesomeness', 'favorableness', 'rectifiable', 'longanimity', 'brassy', 'gentlemanlike', 'joking', 'strong', 'as_such', 'biosafety_level_1', 'disrespectful', 'add', 'extol', 'light', 'properness', 'uncivil', 'definite', 'opulent', 'homicidal', 'mildness', 'reverend', 'cuckoo-bumblebee', 'profound', 'strait_and_narrow', 'seventh_heaven', 'compensated', 'possessive', 'ad_hominem', 'coherency', 'murderous', 'empyreal', 'necessary', 'jesting', 'righteousness', 'appealing', 'decomposable', 'stick_out', 'congruity', 'honourable', 'qualifying', 'indetermination', 'longed-for', 'differentiable', 'stultify', 'astonied', 'knowable', 'shaft_louse', 'reserves', 'enlightened', 'lucky', 'adoptable', 'screwball', 'inconstancy', 'childlike', 'lovesome', 'valuable', 'delightful', 'smooth_out', 'faithful', 'sanitation', 'tameable', 'artistic', 'abolishable', 'fitted', 'civilization', 'master', 'self-respect', 'lightsome', 'mellowed', 'ethical', 'unbeholden', 'shortness', 'smooth', 'correctness', 'reconciling', 'changefulness', 'sinlessness', 'highly', 'good_manners', 'peronosporaceae', 'warm', 'exhaustible', 'humanitarian', 'thoughtless', 'frederick_i', 'perceptible', 'desiccated', 'smoothie', 'appropriateness', 'right', 'shining', 'catching', 'cherished', 'doubly', 'altruistic', 'pleasant-smelling', 'exportable', 'slyness', 'beneficent', 'disenchanted', 'appeasable', 'correct', 'frustrative', 'mollify', 'redoubtable', 'discourteous', 'associate_professor', 'beneficence', 'well-proportioned', 'living', 'inoffensive', 'approval', 'maternity', 'full-blown', 'tight-laced', 'timid', 'positiveness', 'semiskilled', 'advisable', 'essentialness', 'straitlaced', 'strenuously', 'cot_death', 'virtue', 'bigheartedness', 'importunate', 'shrillness', 'unpassable', 'topnotch', 'raisable', 'neighbourly', 'kudos', 'halcyon', 'anomy', 'propelling', 'nonpareil', 'cover', 'debonaire', 'glow', 'beaten', 'hoity-toity', 'gigot', 'cuteness', 'getatable', 'popularization', 'pronounceable', 'guiltless', 'peachy', 'affectionateness', 'immodest', 'horny', 'ruddiness', 'sciolistic', 'compliment', 'investigator', 'enjoy', 'criollo', 'penitentiary', 'cheat', 'supercilious', 'elfish', 'interest', 'addressable', 'agreeableness', 'commendable', 'honorableness', 'comprehendible', 'invaluableness', 'unhealthful', 'dainty', 'restoration', 'knock_out', 'amplify', 'leading', 'serve', 'tops', 'elagatis_bipinnulata', 'wonderfulness', 'toaster', 'homological', 'larger-than-life', 'defiled', 'backgrounding', 'cleaner', 'dilettante', 'cloy', 'phlegmatic', 'inconsequent', 'heady', 'in_good_taste', 'utter', 'fine-looking', 'fulgent', 'judicious', 'credited', 'researcher', 'established', 'scrumptious', 'per_se', 'menopon_gallinae', 'suaveness', 'wages', 'sightly', 'pious', 'warmness', 'pride', 'credits', 'undismayed', 'manageable', 'physical_fitness', 'wean', 'laureate', 'beneficial', 'goodness', 'off-color', 'think_the_world_of', 'fathomable', 'steerable', 'happy', 'discernible', 'beaming', 'levelheaded', 'foxy', 'beam', 'bright', 'narcism', 'masterful', 'gallantry', 'prettiness', 'baking_chocolate', 'cheating', 'immateriality', 'stirring', 'made', 'privileged', 'tillable', 'so-so', 'appreciation', 'poltroon', 'defined', 'imperious', 'helpfulness', 'prudish', 'radiate', 'providential', 'of_import', 'dead', 'empyrean', 'unemotional', 'nifty', 'dignify', 'amatory', 'voluptuousness', 'soft_on', 'ozone_sickness', 'mellifluous', 'healthy', 'ignitible', 'holier-than-thou', 'randy', 'lepiotaceae', 'romantic', 'bib-and-tucker', 'tangible', 'upbeat', 'inconsequential', 'life-or-death', 'bully', 'benevolence', 'potable', 'burnability', 'remunerative', 'euphonous', 'haptoglobin', 'feisty', 'extendible', 'meticulous', 'takings', 'evil', 'like', 'closeness', 'salubrious', 'due', 'congruousness', 'controllable', 'undeceived', 'sound', 'firm', 'intimately', 'sanely', 'paragon', 'assured', 'idoliser', 'governable', 'worldliness', 'passion', 'juicy', 'miraculous', 'ascendible', 'sincere', 'debonnaire', 'de_luxe', 'appeasing', 'indifferent', 'exhilarated', 'original', 'disenchanting', 'unassertive', 'logicality', 'respectful', 'liking', 'reassured', 'rainbow_runner', 'degage', 'rich', 'insightful', 'whiteness', 'preventative', 'judicial', 'eden', 'health', 'judges', 'good_spirit', 'delible', 'masterly', 'enamored', 'aloofness', 'homologic', 'cultivatable', 'apparent', 'taken', 'contestable', 'ladylike', 'good-humouredness', 'loving', 'graphic', 'moral', 'innocent', 'adoration', 'white', 'virtuoso', 'note', 'tricksy', 'suitableness', 'wormy', 'well-heeled', 'breezy', 'pure', 'bettering', 'benefit_concert', 'serenity', 'edified', 'gold_mine', 'realizable', 'replaceable', 'packable', 'sids', 'devious', 'luscious', 'grotesquerie', 'complete', 'blazing', 'judge', 'unruffled', 'excellence', 'fear', 'puncturable', 'equity', 'top-grade', 'comfortable', 'bloom', 'profit', 'taking', 'hardcore', 'sparkle', 'disarming', 'glaring', 'accommodating', 'lust', 'accomplished', 'sap', 'extricable', 'manageability', 'accepting', 'antiseptic', 'exactitude', 'duplicatable', 'trustiness', 'pushy', 'terrific', 'saintlike', 'palpable', 'find', 'fabulous', 'preeminence', 'daintiness', 'worsened', 'thwarting', 'unsatisfactoriness', 'placable', 'untainted', 'pollyannaish', 'patent', 'suave', 'ideality', 'attraction', 'barefaced', 'virtuous', 'broken', 'whole-souled', 'posterboard', 'mirthful', 'affection', 'merited', 'smartness', 'idiotic', 'engaging', 'copasetic', 'golden_age', 'yummy', 'brusqueness', 'humanistic', 'excusable', 'prudent', 'self-respecting', 'greater', 'time', 'droll', 'transcendent', 'unsullied', 'rage', 'vest', 'buffoonish', 'estimable', 'inspired', 'distressingness', 'held', 'adjustable', 'poker_face', 'mercy', 'awake', 'good_for_you', 'asset', 'cheering', 'inappositeness', 'benevolent', 'fragrant', 'idolizer', 'howling', 'nutritiveness', 'high-grade', 'anticipant', 'principled', 'altruism', 'swell', 'grandeur', 'top-quality', 'abuse', 'enlightening', 'conformation', 'hog_cholera', 'contain', 'enhancer', 'compensate', 'playable', 'credible', 'liberal', 'congruence', 'cross-fertilization', 'ma', 'haler', 'spot-check', 'nutritiousness', 'sterling', 'rehabilitate', 'affectionate', 'extractible', 'executability', 'parasiticidal', 'philia', 'hyperbolize', 'enviousness', 'spinnbar', 'serendipity', 'bona_fide', 'blush', 'steamy', 'boon', 'sensibleness', 'eater', 'synergistically', 'thorough', 'class_sporozoa', 'desirability', 'duty-bound', 'congenial', 'faithfulness', 'general_manager', 'hermaphroditism', 'masterstroke', 'communicable', 'logic', 'values', 'tiptop', 'comely', 'pietistic', 'respect', 'slap-up', 'cordon_bleu', 'capability', 'paid', 'reversible', 'prestigious', 'bluff', 'abatable', 'coveted', 'pretentiousness', 'foolish', 'niceness', 'naked', 'peri', 'extravagance', 'weaning', 'self-confident', 'admirability', 'waggish', 'well', 'appease', 'concupiscence', 'redeeming', 'steadfastness', 'donate', 'bubbly', 'vibrant', 'not_bad', 'civilisation', 'disabused', 'prodigy', 'ducal', 'omissible', 'good-temperedness', 'reaffirmation', 'anicteric', 'vermifuge', 'blinding', 'surpassing', 'honored', 'sensible', 'epicurean', 'hygienic', 'smoother', 'ravishing', 'carminative', 'lovingness', 'please', 'jollity', 'collapsible', 'flatus-relieving', 'comprehensible', 'valued', 'retributive', 'cognisable', 'commercialized', 'honours', 'piquant', 'slicker', 'enthusiastic', 'comprehensiveness', 'conciliate', 'honourableness', 'divination', 'a-one', 'sapient', 'uninviting', 'making', 'health_hazard', 'audacious', 'fevered', 'comeuppance', 'sneaky', 'vindicated', 'fair_deal', 'good_nature', 'unprintable', 'deferent', 'jolly', 'contractable', 'pilot', 'bare-ass', 'liquefiable', 'pleaser', 'drama', 'conformity', 'gentle', 'square', 'worse', 'hold_out', 'brazen', 'favourable', 'sanctimonious', 'agreeability', 'mellow', 'beautiful', 'blithe', 'comparable_to', 'credit', 'fictive', 'recyclable', 'infatuation', 'recuperative', 'camaraderie', 'freshness', 'jimdandy', 'archetype', 'biodegradable', 'constructive', 'pleasing', 'dodgy', 'manageableness', 'well-off', 'sparkling', 'on_the_button', 'base', 'lustfulness', 'pharisaic', 'picturesque', 'implausible', 'junk_food', 'unbending', 'bodacious', 'letter-perfect', 'get_well', 'exalting', 'temperateness', 'sumptuous', 'physical_attraction', 'tenderness', 'beguiling', 'wellborn', 'compassionate', 'justness', 'dead-on', 'advantage', 'refinement', 'genuinely', 'alterative', 'glamour', 'conspicuous', 'opposable', 'well-kept', 'primary', 'scintillate', 'high-mindedness', 'get_worse', 'divine', 'adventuresome', 'bluffer', 'antifungal', 'crispness', 'frolicsomeness', 'indiscriminate', 'unkindly', 'serious', 'algidity', 'grace', 'top-notch', 'lofty', 'smoothed', 'rattling', 'decorous', 'identicalness', 'sincerity', 'foil', 'halal', 'unity', 'curtness', 'frailty', 'mordaciously', 'judiciousness', 'superior', 'jovial', 'cherubic', 'fruitfulness', 'warmth', 'lucid', 'unshaken', 'justifiable', 'uncanny', 'welfare', 'shady', 'sunshine', 'delighted', 'highbrowed', 'mama', 'exonerated', 'sensational', 'lotusland', 'homely', 'dear', 'hifalutin', 'lamb_roast', 'thoughtfulness', 'sexual_desire', 'blitheness', 'staring', 'affirmativeness', 'disport', 'be_well', 'selfless', 'elaborate', 'influenza', 'energetically', 'satisfier', 'serving', 'quintessential', 'spotty', 'sharp-sightedness', 'glove_leather', 'sanitary', 'holding', 'interesting', 'groomed', 'treasured', 'homogeneity', 'human-centered', 'getable', 'winsome', 'sweet-faced', 'magnanimous', 'props', 'brilliant', 'incisive', 'polyvalent', 'untroubled', 'antibacterial', 'shine_at', 'acute', 'model', 'lenify', 'hit', 'kindly', 'sodding', 'skillful', 'meet', 'sanitisation', 'aesthetic', 'hemiparasite', 'scratchy', 'dazzling', 'glamor', 'saving', 'hairsplitting', 'stainless', 'reputability', 'good-hearted', 'orthodox', 'brio', 'excel_at', 'maestro', 'attract', 'stealthy', 'stunning', 'ludicrous', 'resolute', 'bravura', 'invigoration', 'contrary', 'marketable', 'self-asserting', 'cordial', 'worship', 'luxuriant', 'bonny', 'blithesome', 'strait-laced', 'humoring', 'super', 'discernable', 'well-preserved', 'emotionalism', 'attractiveness', 'eyes', 'gracious', 'class_act', 'admiration', 'diagonalizable', 'falsifiable', 'copernican', 'unfrightened', 'infant_death', 'entertaining', 'humour', 'color', 'glorious', 'menopon_palladum', 'valorous', 'uniqueness', 'bail_out', 'matter_to', 'saint', 'mamma', 'regard', 'idyllic', 'forbearance', 'anticipative', 'redound', 'printable', 'standoffishness', 'pureness', 'felicity', 'renovation', 'sheer', 'peculiar', 'mummy', 'trustfulness', 'clever', 'mincing', 'purify', 'applaudable', 'culture', 'awful', 'crib_death', 'expensiveness', 'felicitous', 'furtive', 'maintained', 'haughty', 'sure', 'infective_agent', 'eye_candy', 'see', 'upfront', 'cross-fertilisation', 'tremendous', 'instrumentalism', 'groundbreaking', 'perfect', 'unperceptiveness', 'lecherousness', 'animation', 'duly', 'cheerful', 'radiance', 'olympian', 'bang', 'unaffectedness', 'disillusioned', 'charged', 'priggish', 'aphrodisiacal', 'golden', 'attention_deficit_hyperactivity_disorder', 'self-sealing', 'kind', 'simplicity', 'fat', 'road_sense', 'leg_of_lamb', 'different', 'gross', 'contained', 'warp', 'safeness', 'errorless', 'irrepressibility', 'overbearing', 'brick', 'anaphrodisiac', 'mundaneness', 'swank', 'fairytale', 'sportively', 'mimetic', 'haleness', 'sweetmeat', 'fateful', 'abidance', 'benefic', 'moving', 'eye', 'esthetical', 'smart', 'zest', 'gainly', 'ingratiating', 'highfaluting', 'first-class', 'sweet_nothings', 'play_down', 'incorruption', 'preposterous', 'give', 'lovely', 'well-disposed', 'theorem', 'method_acting', 'tongue-in-cheek', 'clean-cut', 'splendiferous', 'benefaction', 'take_care', 'politic', 'indelicate', 'tested', 'merry', 'beating', 'filigree', 'salubrity', 'fecund', 'adroitly', 'praise', 'minimal_brain_dysfunction', 'rechargeable', 'admired', 'appositeness', 'maternalism', 'pharisaical', 'disparate', 'wholehearted', 'right-down', 'carew', 'effervescent', 'remoteness', 'in_two_ways', 'possible', 'look_up_to', 'preferred', 'perverted', 'carefulness', 'self-worth', 'deliverable', 'comeupance', 'chicness', 'payoff', 'impure', 'top-hole', 'muggins', 'goodwill', 'tranquility', 'grovelling', 'aware', 'summum_bonum', 'wiseness', 'simply', 'explainable', 'well-turned', 'gainfulness', 'interested', 'veracious', 'yeatsian', 'human-centred', 'pretty', 'magnificence', 'godly', 'naif', 'prideful', 'mastering', 'first', 'preventive', 'furtively', 'on_the_sly', 'auspicious', 'break', 'peeled', 'clean-handed', 'unblinking', 'comeliness', 'favour', 'proclaimed', 'perspicacious', 'graciousness', 'high-flown', 'cunning', 'rehabilitative', 'obliging', 'bribable', 'supreme', 'modesty', 'cleavable', 'progressive', 'great', 'catholic', 'absolute', 'majestic', 'toothsome', 'notice', 'cyanogenic', 'large-minded', 'understated', 'idealism', 'smitten', 'honest', 'substantial', 'inviting', 'freakish', 'innocence', 'unromantic', 'enervate', 'vested', 'blissfulness', 'discovery', 'conspicuousness', 'grandness', 'casuistry', 'prehensile', 'scintillation', 'restrained', 'toying', 'logical', 'detectable', 'imitation', 'accept', 'phagocytic', 'washed', 'extremely', 'prime', 'awesome', 'retractable', 'ungracious', 'fettle', 'big_deal', 'wellness', 'pucka', 'wonderful', 'judging', 'identifiable', 'groovy', 'deducible', 'dalliance', 'self-respectful', 'curative', 'romanticism', 'anomie', 'reducible', 'compliments', 'sanguine', 'bisexuality', 'colour', 'cloud_nine', 'highbrow', 'tolerant', 'foreboding', 'crafty', 'voluptuous', 'tastelessness', 'affable', 'unsurmountable', 'penitential', 'unaffected', 'fecundity', 'deserve', 'submissive', 'integrity', 'wickedness', 'rotatable', 'half-baked', 'good-humoured', 'advantageous', 'princely', 'well-favored', 'younger', 'arguable', 'largeness', 'exigent', 'well-conducted', 'respects', 'chichi', 'simpleness', 'suitability', 'chicken_louse', 'deserving', 'sensualism', 'pathology', 'amazed', 'finish', 'full-blooded', 'congratulations', 'discriminatory', 'paying', 'merriment', 'ambrosian', 'wassailer', 'narrow-minded', 'unscalable', 'docility', 'animating', 'receive', 'foulness', 'good-time', 'backstairs', 'wheeze', 'assertive', 'stunned', 'diacritical', 'fly-by-night', 'unmutilated', 'amuse', 'tamable', 'exacting', 'light-hearted', 'wisdom', 'wary', 'mental_soundness', 'thinking', 'microscopic', 'supporting', 'injudiciousness', 'lotus_land', 'obliged', 'demure', 'dewy-eyed', 'comicality', 'showstopper', 'ill-being', 'sanitization', 'expert', 'believable', 'comradeliness', 'diverting', 'stealth_fighter', 'skilled', 'spiritedly', 'consummate', 'unbent', 'abject', 'eczema_vaccinatum', 'gruffness', 'delouse', 'fond', 'blandness', 'mannerly', 'valiant', 'recuperate', 'high-level', 'importance', 'unclogged', 'fungicidal', 'reparable', 'gentleness', 'chirography', 'artlessness', 'stoppable', 'washable', 'better-looking', 'clean', 'glary', 'superlative', 'dandy', 'apocalypse', 'uma', 'merit', 'mutableness', 'sympathetic', 'soft_spot', 'burnable', 'winning', 'archangel', 'workmanlike', 'healed', 'pleasant-tasting', 'germfree', 'vitality', 'full_professor', 'gaiety', 'praiseworthiness', 'decorum', 'putrefaction', 'sybaritic', 'flush', 'mammy', 'procurable', 'shrug_off', 'deserved', 'magnified', 'well-being', 'change', 'buildup', 'corking', 'attention_deficit_disorder', 'chirpiness', 'wholesome', 'corn-fed', 'respectable', 'interpretable', 'really', 'blessed', 'resplendent', 'ear', 'learned', 'cold', 'congeniality', 'brazenly', 'unadulterated', 'praiseworthy', 'sexless', 'mirrorlike', 'flushed', 'aweless', 'chic', 'cut', 'untarnished', 'perversity', 'exculpated', 'hakham', 'tomfool', 'therapeutic', 'sacred', 'abstemious', 'fab', 'relapse', 'glowing', 'profits', 'discriminable', 'straight', 'ripe', 'glorify', 'looseness', 'shakeable', 'relieve', 'extendable', 'heaven-sent', 'shrinkable', 'blue_ribbon', 'lifelike', 'acclaim', 'aptness', 'reason', 'persevering', 'painfulness', 'laudableness', 'leaded', 'enforceable', 'premium', 'absolved', 'naturalness', 'inelegance', 'idealised', 'vantage', 'acquainted', 'delight', 'cooking_chocolate', 'romance', 'dedication', 'have_it_coming', 'kosher', 'well-tried', 'contagious', 'sinkable', 'penetrable', 'vivification', 'productive', 'ingenious', 'conciliable', 'retributory', 'kept_up', 'fraud_in_law', 'okay', 'raw', 'vicissitude', 'ennoble', 'ridiculous', 'gift_wrap', 'amenities', 'mouth-watering', 'stand_out', 'reverent', 'benight', 'instrumentality', 'diffident', 'make', 'giving', 'washing', 'disenchant', 'divinity', 'gratification', 'collapsable', 'indistinguishability', 'hygiene', 'ranked', 'downplay', 'wise', 'classic', 'fetching', 'in_love', 'greathearted', 'ranking', 'turned_on', 'dried-out', 'fondness', 'homogeneousness', 'raiding', 'meaninglessness', 'glad', 'high-ranking', 'well-favoured', 'unrespectable', 'pridefulness', 'affirmable', 'in_the_buff', 'moralisation', 'moralizing', 'likeable', 'favourableness', 'eminence', 'belongings', 'slick', 'semiparasite', 'cured', 'depravity', 'in_demand', 'primo', 'considered', 'price', 'exactness', 'copepoda', 'extraordinary', 'immorality', 'chaste', 'commonsense', 'extremeness', 'courtesy', 'undaunted', 'surreptitious', 'conduce', 'good-humoredness', 'rakish', 'sophisticated', 'maintainable', 'scrupulousness', 'spunky', 'mettlesomeness', 'square-toed', 'avoidable', 'good_enough', 'raffish', 'self-regard', 'dearly', 'farfetched', 'impeccant', 'dependableness', 'transplantable', 'civilized', 'vernal', 'eager', 'angelic', 'sagacious', 'confiding', 'capableness', 'inflated', 'polite', 'primping', 'confirmable', 'exhilarating', 'pronounced', 'question', 'surmountable', 'heroic', 'copacetic', 'amenity', 'cultured', 'blest', 'ennobling', 'preferable', 'musical', 'alright', 'amative', 'shapely', 'soignee', 'suit', 'sporozoa', 'melodic', 'depletable', 'alert', 'call_into_question', 'well-bred', 'trusting', 'conscientiousness', 'dirigible', 'level-headed', 'cognizable', 'erudite', 'know', 'agreed', 'congratulation', 'toffee-nosed', 'serve_well', 'breakthrough', 'character', 'hygienical', 'reliable', 'desirableness', 'joke', 'gild_the_lily', 'vim', 'impressively', 'navigational_chart', 'pacific', 'deific', 'soft', 'grandiose', 'sanguinity', 'combustibility', 'accommodative', 'well-to-do', 'lysis', 'live'}\n",
            "Negative Words: {'untimely', 'pavor_nocturnus', 'stricture', 'asocial', 'ergotism', 'criminal_negligence', 'mothy', 'securer', 'stiff', 'unexportable', 'corporal_punishment', 'vioxx', 'intermittent_tetanus', 'parthenogenetic', 'desert_rheumatism', 'pains', 'maidism', 'confused', 'unfeminine', 'invalidism', 'mission_impossible', 'unmarketable', 'desolation', 'unmodifiable', 'ulitis', 'secondary', 'crossness', 'unmanly', 'steeper', 'cross-grained', 'incongruousness', 'second-class', 'undistinguishable', 'at_fault', 'aching', 'dressing_down', 'citrophilous_mealybug', 'antagonistic', 'nostalgic', 'condole_with', 'ill-humoured', 'undone', 'insecure', 'disheartening', 'incommodiousness', 'dunghill', 'griping', 'negativism', 'bias', 'unthankful', 'torturous', 'vituperative', 'incompatible', 'scrubby', 'unchivalrous', 'spoil', 'dostoevski', 'unoriented', 'dying', 'guilt_pang', 'oily', 'wrong', 'albinism', 'slummy', 'miliary_tuberculosis', 'doubler', 'blood_disorder', 'sympathy', 'upsetting', 'marasmus', 'human_death', 'spastic', 'bitter_end', 'dilaudid', 'derisive', 'whiny', 'compromising', 'madcap', 'nettle', 'boundlessness', 'unchristianly', 'unmelodious', 'family_ruscaceae', 'grimy', 'provisional', 'sepulchral', 'chaotic', 'harm', 'foregoing', 'inattentive', 'exorbitant', 'long-sufferance', 'detested', 'irreligion', 'busybodied', 'ungummed', 'destructiveness', 'dread', 'bit', 'unseasonable', 'nonfunctional', 'health_care', 'obstipate', 'scantness', 'offenceless', 'unproductive', 'ruggedness', 'irrelevant', 'polyneuritis', 'arraign', 'neutral', 'unembodied', 'solicitous', 'faux', 'unshrinkable', 'ruffian', 'black_eye', 'out-herod', 'meekness', 'unmerited', 'unable', 'jinxed', 'bronchitic', 'unremedied', 'nonreflective', 'self-induced', 'mousey', 'riotous', 'frosting', 'sick', 'unlined', 'attributive_genitive', 'sloppy', 'froth_at_the_mouth', 'blanketed', 'remittent', 'ambulate', 'pour_cold_water_on', 'settlings', 'unpermed', 'st._thomas', 'ill_nature', 'short-handed', 'ill_health', 'spill_over', 'invalidating', 'wailing', 'genus_phytophthora', 'uninfluenced', 'traumatic', 'uncultivatable', 'ungratifying', 'dystopia', 'stoic', 'unchristian', 'nonaged', 'nonparametric_statistic', 'gummed', 'habit-forming', 'unwashed', 'overflowing', 'dolor', 'villainousness', 'unofficial', \"hurler's_syndrome\", 'brokenheartedness', 'inflaming', 'denigratory', 'defense', 'larcenous', 'astasia', 'undoable', 'poisonous', 'iniquitous', 'swinish', 'misapprehend', 'noncommunicable', 'incapable', 'unrepentant', 'depreciatory', 'scornful', 'objurgate', 'unsarcastic', 'demoralize', 'sinful', 'unpasteurized', 'keeping', 'innate', 'ratbite_fever_bacterium', 'incurious', 'sticky', 'quite', 'anechoic', 'unclaimed', 'untheatrical', 'diseased', 'fancy', 'paucity', 'uncategorized', 'unachievable', 'drifter', 'yellow-tipped', 'primness', 'gynobase', 'foster_brother', 'labor_pains', 'alienating', 'dishonest', 'ruefulness', 'ugliness', 'fixed_phagocyte', 'rofecoxib', \"hansen's_disease\", 'discretion', 'minatory', 'frostbite', 'sessile', 'pang', 'inoperable', 'unapprehensive', 'maliciousness', 'unspecified', 'mephistophelean', 'tell_off', 'acold', 'untipped', 'morganatic', 'general-purpose', 'legendary', 'posttraumatic_stress_disorder', 'antisocial', 'rudimentary', 'bumble', 'underage', 'raw_wool', 'procrastination', 'tailless', 'laic', 'worried', 'complementary', 'tragical', 'vulnerability', 'distribution_free_statistic', 'malignment', 'gory', 'repugnant', 'ammoniuria', 'xenophobic', 'coccidioidomycosis', 'unconsecrated', 'persistent', 'nonproprietary', 'second_class', 'unsightliness', 'distaste', 'academic', 'freakishness', 'conserved', 'assistant_professor', 'crucifixion', 'indecency', 'forgoing', 'downhearted', 'zinc_deficiency', 'augean', 'inviolable', 'untanned', 'mocking', 'sullenness', 'commercial-grade', 'mortify', 'pitiable', 'rachitis', 'watchful', 'ill_humor', 'undrawn', \"ne'er\", 'muddy_up', 'hypercritical', 'resistless', 'choosey', 'pathological', 'bewail', 'comforted', 'shorts', 'doomsday', 'downcast', 'torturesome', 'genus_hackelia', 'incontrovertible', 'tough', 'epiglottitis', 'fatal', 'surly', 'doughy', 'unsexy', 'step', 'sulky', 'undemocratic', 'gotterdammerung', 'grotty', 'clamminess', 'insomniac', 'blaze', 'swoon', 'weather', 'stunted', 'decertify', 'nonunionized', 'reductio_ad_absurdum', 'uncontroversial', 'punishable', 'howler', 'ignoble', 'smut', 'amazement', 'unlaureled', 'plaint', 'hell_to_pay', 'undimmed', 'fellow_feeling', 'rueful', 'lewd', 'unsatiable', 'crude', 'disorganisation', 'cleansing', 'clumsy', 'unselfishness', 'keep', 'solid', 'glumness', 'impracticable', 'problem', 'dejectedness', 'brooding', 'bothered', 'genus_pithecia', 'lactose_intolerance', 'ill-formed', 'bloodcurdling', 'scolytus_multistriatus', 'inerrant', 'debasing', 'incapacity', 'incoherent', 'seducer', 'laputan', 'watertight', 'spare', 'mangle', 'unpermissive', 'antipathetic', 'disgruntlement', 'titillated', 'humble', 'misleadingly', 'hideous', 'dankness', 'invade', 'scrimy', 'afterthought', 'ungratified', 'balder', 'sunk', 'promiscuous', 'beguiled', \"erb's_palsy\", 'modest', 'pounding', 'gall', 'latent', 'hidden', 'sunday_punch', 'hateful', 'pediculosis', 'surefooted', 'remorseful', 'trashy', 'demonic', 'squandered', 'stink_up', 'evenness', 'scantiness', 'blue-blind', 'arrhythmic', 'uncousinly', 'morbidness', 'dishevelled', 'space_cadet', 'impressiveness', 'ineluctability', 'tenured', 'churlish', 'cheapness', 'axenic', 'satisfaction', 'adynamic', 'rejected', 'deviltry', 'tortured', 'mitigative', 'hesitant', 'acrophobic', 'raspy', 'summary_judgement', 'spurious', 'henpecked', 'earthy', 'unhewn', 'languor', 'trick', 'dirty-faced', 'inevitable', 'idle', 'guilt_trip', 'katabolic', 'impuissance', 'daemon', 'prudery', 'lachrymose', 'colour_vision_deficiency', 'teasing', 'unremorseful', 'threat', 'insomnia', 'shabbiness', 'uncomprehensible', 'non', 'poignancy', 'apractic', 'root_rot', 'adventive', 'rowdy', 'ungoverned', 'unfunctional', 'dystrophy', 'minor_surgery', 'unsanitariness', 'precarious', 'opposition', 'smarm', 'unsusceptible', 'locoism', 'unmarked', 'stygian', 'nonchalance', 'benign', 'violent', 'ungodliness', 'salix_pendulina_blanda', 'uncorrectable', 'tricky', \"reiter's_syndrome\", 'unoffending', 'discourtesy', 'potato_fungus', 'barbarity', 'wreck', 'unaged', 'large_indefinite_amount', 'unwholesome', 'knock', 'numb', 'katzenjammer', 'vagrant', 'atrocity', 'untrustworthiness', 'amebiosis', 'sisyphean', 'infectious_hepatitis', 'lightsomeness', 'grieving', 'peritoneal_inflammation', 'unswayed', 'artful', 'immaculate', 'unexpired', 'notorious', 'epilepsia_minor', 'unbodied', 'fraud_in_fact', 'colicky', 'realist', 'mutually_exclusive', 'unfueled', 'lowliness', 'kissing_disease', 'reprieve', 'wound', 'ill-scented', 'fabrication', 'slacker', 'cronyism', 'loth', 'depraved', 'immoderateness', 'rampant', 'unregularity', 'scummy', 'cumbersome', 'excruciating', 'spoiling', 'exorbitance', 'chastise', 'letdown', 'disaffected', 'soft_water', 'retract', 'murder', 'spasm', 'faltering', 'foster-sister', 'celebrex', 'quick_temper', 'genus_nimravus', 'complicated', 'onerousness', 'scold', 'unframed', 'spitefulness', 'penitent', 'unaggressive', 'naturism', 'still', 'delicacy', 'uncheckable', 'acridness', 'contempt', 'negativeness', 'pelagius', 'spasmodic_laryngitis', 'unrestricted', 'unfriendliness', 'depressing', 'abnormal', 'system_error', 'armageddon', 'inert', 'hypersomnia', 'replica', 'disabled', 'off-line', 'plain', 'hopeless', 'half-hearted', 'covert', 'marred', 'tormented', 'nonarbitrary', 'sentiment', 'rap', 'endangered', 'substitutable', 'letter_stock', 'alas', 'bubonic_plague', 'poignant', 'officious', 'accident', 'tight', 'infallibility', 'unparallel', 'guilt_feelings', 'discredited', 'pneumonic', 'animalize', 'fractious', 'provoking', 'misunderstanding', 'kill', 'loss', 'softness', 'impetuous', 'not_intrusive', 'unlisted', 'soured', 'deceptive', 'perversive', 'nondenominational', 'radio-opaque', 'be_amiss', 'leprosy', 'insufficiency', 'nonparticulate', 'trauma', 'amorally', 'vilification', 'burns', 'sympathiser', 'putrefy', 'replication', 'libelous', 'vicious', 'glossitis', 'despondency', 'misconduct', 'bulimic', 'proctalgia', 'nonsectarian', 'blinder', 'dog_in_the_manger', 'unspecialized', 'reek', 'despisal', 'excited', 'crushing', 'unimpregnated', 'spoiled', 'moderate', 'strangles', 'uncurtained', 'green', 'oesophagitis', 'disgustful', 'immunocompromised', 'flummery', 'leanness', 'disorderly', 'lacking', 'flim-flam', 'originality', 'tragic', 'flat-footed', 'jawed', 'hyperadrenocorticism', 'apyretic_tetanus', \"sod's_law\", 'backlog', 'straightforward', 'second-rate', 'shortsighted', 'mussitation', 'inadvisable', 'unintrusive', 'defensiveness', 'peptic_ulceration', 'naturalistic', 'belittling', 'night_blindness', 'fumble', 'riled', 'putrid', 'neurasthenia', 'bosworth_field', 'unbroken', 'article_of_faith', 'heedless', 'limited_liability', 'unscrupulous', 'mongrel', 'unlikable', 'imperfect', 'sad', 'avirulent', 'blank_out', 'disfigure', 'restless', 'adversity', 'unestablished', 'ill_humour', 'lay', 'depressed', 'right_away', 'judgment_on_the_pleadings', 'godless', 'intransigent', 'herculean', 'pink-tipped', 'undetermined', 'alleviant', 'vitiate', 'subordinate_clause', 'portentous', 'rasher', 'uninsurable', 'flippant', 'strong', 'sorrow', 'bumpkin', 'imaginary', 'unoccupied', 'nonkosher', 'indefeasible', 'borderline_schizophrenia', 'opprobrious', 'mousy', 'achlamydeous', 'antipathy', 'sinusitis', 'one-sided', 'cardiopulmonary_arrest', 'homesick', 'sleazy', 'malignity', 'real', 'stink', 'stay-at-home', 'commoner', 'smutty', 'resentful', 'cad', 'repulsive', 'burke', 'stardust', 'condescension', 'summary_judgment', 'faithful', 'saturnine', 'unshuttered', 'frenzied', 'out', 'woebegone', 'unwarmed', 'victimize', 'at_variance', 'ungentlemanly', 'sulphurous', 'unreality', 'screw_up', 'septic', 'absentee', 'waste_of_energy', 'gelid', 'unsmiling', 'death', 'deceitful', 'uncomplimentary', 'exclusive', 'amphibolips', 'pain', 'invalid', 'antihemophilic_factor', 'onslaught', 'bastard', 'comforts', 'dyspeptic', 'cretinism', 'inappropriateness', 'hotheaded', 'halitosis', 'mopes', 'enormity', 'bloody-minded', 'unimpressed', 'bog', 'sensitive', 'desensitising', 'laxity', 'insatiable', 'narcolepsy', 'jolting', 'hysterical', 'disinclination', 'rigidity', '2-dimensional', 'snuffly', 'liver_cancer', 'offensive', 'cyclodestructive_surgery', 'obliquity', 'inflamed', 'overcredulous', 'offish', 'unresolvable', 'indirect', 'stomach_flu', 'call_down', 'insatiate', 'incommutable', 'braces', 'theory', 'useless', 'fragility', 'gymnopilus_validipes', 'adiabatic', 'automysophobia', 'frown', 'meager', 'patzer', 'heady', 'proinflammatory', 'ulcerous', 'thrilled', 'pitilessness', 'overcritical', 'upheaval', 'off-color', 'polyarteritis_nodosa', 'oppressiveness', 'peptic_ulcer', 'reform_judaism', 'revulsion', 'suprainfection', 'intumescency', 'strict', 'stirring', 'thyroiditis', 'unsheathed', 'convallariaceae', 'soiling', 'crown_of_thorns', 'fireproof', 'nontraditional', 'fable', 'minacious', 'unimportance', 'black_bile', 'invading', 'unhappy', 'tragic_flaw', 'sophistic', 'meddling', 'bully', 'unperplexed', 'keratalgia', 'fiction', 'rigour', 'flagrant', 'outcaste', 'demerit', 'dissonant', 'awry', 'heartbreaking', 'crooked', 'ornithine', 'clap', 'fuzzy', 'uncompensated', 'deceivingly', 'unprofessional', 'macabre', 'self-reproach', 'harshness', 'worrying', 'unsafe', 'appreciative', 'echt', 'kitsch', 'chromoblastomycosis', 'creeps', 'wearing', 'recantation', 'stinking', 'arctic', 'respite', 'despondence', 'dutch-elm_beetle', 'confined', 'filthy', 'illicitness', 'raddled', \"saint_ignatius'_itch\", 'melursus', 'bitter', 'pyrosis', 'moldiness', 'undependableness', 'current_intelligence', 'unprofitability', 'muddy', 'glandular_fever', 'ingrown_hair', 'ill-starred', 'fear', 'hatchet_job', 'ticklish', 'burked', 'neurofibromatosis', 'dissimilar', 'immoveable', 'determinate', 'disablement', 'aloneness', 'impeccable', 'anhedonia', 'disgrace', 'frozen', 'scathing', 'disfigured', 'willful_neglect', 'schlep', 'amicability', 'body_guard', 'vagabond', 'foreignness', 'apple_rust', 'nonwoody', 'inequality', 'unattainable', 'bawl_out', 'spontaneous', 'nonimitative', 'disembodied', 'intumescence', 'asexual', 'analgesia', 'vesicatory', 'smartness', 'hatless', 'fenoprofen', 'prostatitis', 'terefah', 'obstinance', 'neuter', 'pitiful', 'uncontrollable', 'nonarboreal', 'forced', 'awfully', 'incoordination', 'deadened', 'chalcid_wasp', 'spotted_fever', 'megalohepatia', 'bedevil', 'bitterness', 'infantile_paralysis', 'stay_up', 'debunking', 'nervous_exhaustion', 'unrecognizable', 'curtainless', 'truculence', 'bacteroides', 'indignant', 'ruin', 'anthrax', 'lividness', 'rheumatic_fever', 'unobtrusiveness', 'punk', 'unstylish', 'atrocious', 'bottom_rot_fungus', 'cardiospasm', 'eupnoea', 'unranked', 'euphoriant', 'dog', 'alienage', 'relinquish', 'judgement_on_the_pleadings', 'claustrophobic', 'maleficence', 'inapplicable', 'obscure', 'peccant', 'nebbish', 'small_indefinite_quantity', 'steal', 'forgo', 'confident', 'catachresis', 'addictive', 'large-grained', 'duodenal_ulcer', 'rocky', 'blown', 'ethnic', 'undivided', 'littler', 'short', 'self-indulgence', 'impersonal', 'unregulated', 'chastening', 'facilitation', 'cellulitis', 'malaise', 'wilder', 'unneighborly', 'grave', 'unthinking', 'visiting', 'burnt-out', 'purse-proud', 'ungathered', 'exasperation', 'white_pine_blister_rust', 'unprocessed', 'agamic', 'opinion', 'garden_snail', 'potboiler', \"von_recklinghausen's_disease\", 'red', 'hypocalcemia', 'bracing', 'ribald', 'queasy', 'non_compos_mentis', 'hostile', 'unsold', 'thorn-tipped', 'worse', 'improper', 'incurability', 'unstressed', 'uneducated', 'ceratostomella_ulmi', 'inexplicitness', 'exposed', 'cyclooxygenase-2', 'undernourish', 'soiled', 'spinocerebellar_disorder', 'botch_up', 'troublous', 'due_process_of_law', 'base', 'ruth', 'cole', 'heaviness', 'urodynia', 'unsmoothed', 'meagreness', 'knocked-out', 'genus_boehmeria', 'compassionate', 'shouted', 'inconvertibility', 'shielded', 'counterfeit', 'endocervicitis', 'drab', 'lacerate', 'tearfulness', 'impractical', 'artless', 'unwelcome', 'formless', 'tuneless', 'casualty', 'earthquake', 'unmalleable', 'upset_stomach', 'gracelessness', 'ozena', 'get_around', 'guiltiness', 'abominably', 'foreign', 'curmudgeonly', 'mitigatory', 'adult_respiratory_distress_syndrome', 'ill-use', 'stodgy', 'ruffianly', 'humbleness', 'frying', 'discolouration', 'unsurpassed', 'dishonorableness', 'alleviator', 'regrettably', 'dispossessed', 'leptomeningitis', 'unconditioned', 'dilatoriness', 'god-awful', 'impoverished', 'despising', 'queasiness', 'loath', 'undefiled', 'recrudescent', 'hit', 'unfavorableness', 'average', 'mess_up', 'devilish', 'out-of-school', 'nerve-racking', 'unerect', 'unlovely', 'unlovable', 'unpotted', 'unbaptized', 'spiteful', 'noncontagious', 'conundrum', 'glossodynia', 'subtlety', 'extensiveness', 'glorious', 'restlessness', 'hated', 'peccable', 'obstinacy', 'bitters', 'diuresis', 'riot_gun', 'fussy', 'disgruntle', 'balminess', 'placidness', 'lousy', 'sure', 'hex', 'pill', 'unchanged', 'atoxic', 'yobo', 'unmodernized', 'nudnick', 'lidless', 'adult_education', 'jerky', 'pseudococcus_fragilis', 'swelling', 'colour_blindness', 'perplexity', 'gross', 'scowling', 'warp', 'unprovided_for', 'heterogenous', 'debauched', 'nervous_breakdown', 'fateful', 'brassica_oleracea_acephala', 'inequitable', 'fall_through', 'indelicacy', 'futureless', 'unregretful', 'burned-out', 'bacteriological_warfare', 'raging', 'coin-operated', 'run-down', 'bearable', 'not', 'gladness', 'poorness', 'slim_chance', 'blocked', 'apomictic', 'steady', 'perverted', 'osteolysis', 'unconformist', 'unfitting', 'shivery', 'worrisome', 'falseness', 'indisputable', 'unimpeachable', 'suspicious', 'verminous', 'putrefactive', 'cheesy', 'unharmonious', 'kept', 'shrimpy', 'crusty', 'embarrassing', 'nonparametric_statistics', 'livery', 'limited', 'rot-resistant', 'denigrating', 'catty', 'absolute', 'synchytrium_endobioticum', 'damages', 'extraneous', 'burdenless', 'unregistered', 'distressed', 'convulsion', 'stomach_upset', 'ghastly', 'excruciation', 'hydromorphone', 'noncrucial', 'putrid-smelling', 'unsympathising', 'jaundiced', 'restrained', 'discontent', 'inexactness', 'preservation', 'double', 'unavowed', 'erysipelas', 'damage', 'push', 'impulsive', 'manic', 'ill-tempered', 'handicap', 'joyless', 'ulcerated', 'hostility', 'weeping', 'unstrain', 'pleurodynia', 'pauli_exclusion_principle', 'tolerant', 'fidgety', 'unsurmountable', 'scabies', 'osteitis', 'sombreness', 'unexpendable', 'hard_up', 'lightheartedness', 'throw', 'inopportune', 'triskaidekaphobic', 'deflection', 'hollywood', 'uninhibited', 'inerrable', 'smilacaceae', 'fresh', 'osteomyelitis', 'shallow', 'labor_pain', 'prolixity', 'defence', 'nonsteroidal', 'catastrophic', 'leatherjacket', \"talk_through_one's_hat\", 'pertinacious', 'contingent', 'static', 'costochondritis', 'dispiritedness', 'trachoma', 'bloodthirstiness', 'bemire', 'coccidiomycosis', 'rugged', 'mooneye', 'excoriation', 'acrid', 'disgusted', 'guilty', 'daze', 'gridlock', 'uninventive', 'degenerate', 'unchristlike', 'unlikely', 'of_unsound_mind', 'erythroblastosis', 'factor_ix', 'clean', 'stinking_wattle', 'begrime', 'chronic_obstructive_pulmonary_disease', 'manic_depression', 'cartilaginous', 'unemotionality', 'malnourishment', 'stereotypical', 'antihemophilic_globulin', 'difference', 'inept', 'unfriendly', 'agonising', 'wilting', 'unrighteous', 'aggravation', 'bodiless', 'curdle', 'outer', 'inaccessibility', 'egregious', 'undeserved', 'devil', 'amicableness', 'pericarditis', 'libellous', 'oedema', 'overheat', 'faulty', 'inconsequence', 'self-pity', 'unwise', 'standing', 'ustilaginales', 'untethered', 'scourge', 'psychotherapist', 'nisi', 'unenforceable', 'unfeasible', 'colewort', 'unscientifically', 'tumultuous', 'nonporous', 'hydromorphone_hydrochloride', 'undiplomatic', 'asynergia', 'horrible', 'ill-affected', 'exiguous', 'well-groomed', 'constrained', 'catabolic', 'uncommercial', 'weak_point', 'fellow_traveller', 'unneighbourly', 'buggy', 'tingle', 'horrendous', 'roofless', 'frivolousness', 'antsy', 'preserver', 'insensibility', 'relaxed', 'wallop', 'crud', 'prickling', 'crabby', 'censurable', 'charitableness', 'aliquant_part', 'compunction', 'hypothecate', 'immorality', 'antisemitic', 'injure', 'unyielding', 'nightmarish', 'flaccid_paralysis', 'wrongness', 'manic-depressive_psychosis', 'depreciative', 'unpaved', 'regional_enteritis', 'dirt', 'wall', 'extrinsic', 'noncivilized', 'nonvoluntary', 'fenoprofen_calcium', 'uncongenial', 'deprivation', 'doomed', 'imputrescible', 'dogged', 'unstaged', 'hyperemesis', 'leery', 'disquieting', 'infrangible', 'heathen', 'unsuspected', 'draggled', 'undelineated', 'wintry', 'glomerulonephritis', 'unserviceable', 'open', 'unalike', 'ponstel', 'boisterous', 'visionary', 'careless', 'approximative', 'nonreticulate', 'infrequent', 'admonishing', 'lactase_deficiency', 'soft', 'despair', 'bloodshot', 'unsupportive', 'setterwort', 'phony', 'lie_low', 'lead_on', 'crotchety', 'knockout_punch', 'corrupting', 'terror', 'unsworn', 'naproxen', 'whiff', 'skew_arch', 'plucky', 'ruck', 'insuperable', 'inharmonious', 'blemish', 'voiceless', 'arena_theater', 'airtight', 'filthiness', 'malevolence', 'down_in_the_mouth', 'impossible', \"bear's_foot\", 'strangeness', 'ungeared', 'antihaemophilic_globulin', 'rebuff', 'manic-depressive', 'indulgence', 'unreformable', 'authentic', 'badly', 'pessimism', 'patchy', 'amenia', 'carefreeness', 'atrociousness', 'acacia_cambegei', 'descriptive_clause', 'dryer', 'matinee_idol', 'low-level', 'chewing_out', 'untravelled', 'settled', 'broad-minded', 'bogus', 'angriness', 'muddied', 'unbound', 'charmed', 'nonlegal', 'resistant', 'smear', 'biliousness', 'naive', 'lipochondrodystrophy', 'disruptive', 'bollix', 'suborn', 'crabbedness', 'unheaded', 'heterologous', 'unassailable', 'indifference', 'ruination', 'unpublishable', 'steps', 'hayseed', 'comfort', 'relax', 'unappendaged', 'difficult', 'standoffish', 'chawbacon', 'infernal', 'gassy', 'loathly', 'asymmetrical', 'unconnected', 'horribly', 'abetalipoproteinemia', 'dress_down', 'hobbler', 'querulous', 'nonobligatory', 'anxious', 'lambast', 'wild', 'stone-deaf', 'nonextant', 'dolefulness', 'idler', 'impatience', 'unargumentative', 'fingermark', 'contrariness', 'lymphadenitis', 'indigestible', 'inconsistent', 'out_of_place', 'stupefying', 'antihaemophilic_factor', 'haywire', 'unfeasibility', 'attaint', 'private_foundation', 'foam_at_the_mouth', 'cacodaemon', 'syncope', 'lassa_fever', 'blameable', 'eased', 'reformative', 'mourning', 'dyspepsia', 'incomprehensible', 'carcinoma_in_situ', 'picturesqueness', 'put_off', 'gloom', 'clinical_psychologist', 'lifeless', 'impaired', 'unformed', 'dismal', 'mournful', 'dearth', 'afflicted', 'augean_stables', 'invisible', 'assimilative', 'barren', 'fault', 'repellent', 'misdirect', 'unsatiated', 'modified', 'color_blindness', 'ruined', 'amalgamative', 'discreditable', 'heartache', 'uncool', 'misrepresentation', 'pervert', 'incommunicative', 'dissatisfactory', 'paraplegic', 'trench_fever', 'twang', 'unused', 'solitariness', 'radioprotection', 'prudishness', 'painless', 'xerodermia', 'slighting', 'hyaline_membrane_disease', 'unmitigable', 'pyorrhoea', 'ungallant', 'stimulate', 'unfaithful', 'lovelorn', 'catcall', 'untaught', 'subject', 'cheerfulness', 'hexed', 'creepy-crawlies', 'steep', 'nerve-wracking', 'unrequited', 'incontestible', 'unpropitious', 'oral_contract', 'hopelessly', 'nonnomadic', 'out_or_keeping', 'repellant', 'deplorable', 'perverse', 'defamation', 'dislogistic', 'kwashiorkor', 'unwearable', 'alternative_energy', 'irresistible', 'functional_disorder', 'niffy', 'corrupted', 'unsatisfying', 'dysuria', 'untraceable', 'irrevocable', 'grating', 'boehmeria', 'hazy', 'son_of_a_bitch', 'antiphlogistic', 'left-handed', 'captivated', 'growing_pains', 'tin_ear', 'counterrevolutionary', 'calvary', 'layman', 'angry', 'vaccinia', 'large_indefinite_quantity', 'superfluous', 'infectious_mononucleosis', 'mucocutaneous_lymph_node_syndrome', 'astigmatism', 'moon_blindness', 'hypertrophic_cardiomyopathy', 'irregularity', 'contrition', 'inflammatory_bowel_disease', 'sorrowful', 'stabbing', 'discordant', 'unorganised', 'meagerness', 'irretrievable', 'spleen', 'troubling', 'denuded', 'tribulate', 'flexeril', 'grumpiness', 'bigheaded', 'spermicidal', 'displeased', 'hard_cheese', 'indecorous', 'fantastic', 'discommode', 'foolhardy', 'ill_will', 'indian_hemp', 'disinclined', 'unlit', 'understaffed', 'lumber', 'devilry', 'unimproved', 'bronchial_pneumonia', 'monstrous', 'delirious', 'racking', 'alley_cat', 'crotchetiness', \"hirschsprung's_disease\", 'unstrained', 'two-dimensional', 'cooly', 'shrewish', 'unrecognisable', 'stinker', 'juvenile_amaurotic_idiocy', 'resile', 'immobilizing', 'bloat', 'cold-blooded', 'dour', 'subdued', 'nonparametric', 'agonizing', 'terribly', 'smashed', 'scowl', 'nonsubmergible', 'unrepresentative', 'mistaken', 'wartwort', 'unreal', 'necessitarian', 'rue', 'obstipation', 'salix_pendulina', 'esophagitis', 'kinanesthesia', 'unreserved', 'smirk', 'heartsick', 'incontrovertibleness', 'nonnormative', 'pinch', 'unclear', 'seamy', 'subhuman', 'necessitous', 'middling', 'tyrosinemia', 'sporadic', 'heartsickness', 'unpressed', 'moroseness', 'culpable', 'riddle', 'undesirable', \"legionnaires'_disease\", 'jarring', 'uncorrupted', 'unneighborliness', 'sunniness', 'muff', 'granite', 'invincibility', 'dusty', 'overexertion', 'termagant', 'obscurity', 'regret', 'cheerless', 'disconnected', 'stranger', 'amenorrhea', 'pulseless_disease', 'disturb', 'exigency', 'unsung', 'stillborn_infant', 'yucky', 'uncommitted', 'nervous_prostration', 'agony', 'stimulating', 'unlike', 'unstarred', 'protecting', 'frothing', 'leadless', 'noncompetitive', 'unsatisfied', 'grudging', 'smell', 'untreated', 'heathenish', 'wanness', 'fly', 'desensitise', 'floating', 'smite', 'make_relaxed', 'table_wine', 'off_year', 'trashiness', 'galled', 'kvetch', 'crying', 'tinny', 'unthoughtful', 'play_a_trick_on', 'hypoactive', 'penniless', 'uncolored', 'noncivilised', 'imitative', 'lightheadedness', 'out_of_work', 'slating', 'refute', 'positive', 'grumble', 'badness', 'unappealing', 'tearful', 'unpersuasive', 'flyblown', 'annoyed', 'unstable', 'inalienable', 'indecent', 'inessentiality', 'agitating', 'mistake', 'atrabilious', 'unmethodical', 'unspecialised', 'misbehavior', 'palliation', 'moodiness', 'malnourished', 'psychoneurotic', 'emendation', 'stale', 'blackwater_fever', 'invariable', 'unfortunate', 'wanting', 'rumpled', 'regretful', 'hurt', 'unessential', 'reprehensible', 'cynical', 'ineffective', 'relentlessness', \"pott's_disease\", 'confounding', 'calamitous', 'controvert', 'mischievousness', 'cattle_plague', 'thunderous', 'snot-nosed', 'teased', 'exciting', 'alarmed', 'unloving', 'rascality', 'christmas_factor', 'smaller', 'faster', 'wanton', 'untilled', 'bawling_out', 'trying', 'misnomer', 'stir', 'physical_therapist', 'impracticability', 'pithecia', 'umbrageous', 'denigrative', 'fetid', 'uvulitis', 'cry', 'deplorably', 'uncalled-for', 'lukewarm', 'wounded', 'grass_tree_family', 'unservile', 'blow', 'astonishment', 'rhinostenosis', 'weathered', 'prophylactic', 'abduction', 'discombobulated', 'untouched', 'blameful', 'infinitude', 'liar', 'unluckily', 'nonstandard', 'bronchiolitis', 'feodor_dostoevski', 'untrammelled', 'ozaena', \"devil's_milk\", 'apathetic', 'malinger', 'uncontrived', 'get_stuck', 'relentless', 'tone_deafness', 'self-love', 'solace', 'iniquity', 'damaged', 'nonconductive', 'lumbering', 'tubeless_tire', 'reckless', 'tubercular', 'underactive', 'sombre', 'coprolalia', 'trouble-free', 'cheer', 'carpal_tunnel', 'jaundice', 'indiscernible', 'shock', 'immovable', 'dolorous', 'calumny', 'cauliflower_ear', 'anesthetic', 'retraction', 'pathos', 'gaucheness', 'blister_rust', 'muttering', 'motionless', 'unreliableness', 'depigmentation', 'irritated', 'nondisposable', 'sorry', 'buttoned-up', 'alizarin_yellow', 'dysphagia', 'epileptic_seizure', 'dissident', 'mourn', 'sickly', 'chide', 'undynamic', 'algophobic', 'bolshy', 'amoebic_dysentery', 'unnatural', 'uncaulked', 'downgrade', 'unsectarian', 'unsupportable', 'acritical', 'nudnik', 'gas-tight', 'windiness', 'frightful', 'untenanted', 'grime', 'invisibility', 'warmer', 'infiniteness', 'squalidness', 'blood_disease', 'untempting', 'neglectful', 'misunderstood', 'fat_chance', 'mishap', 'ropey', 'disoblige', 'incorrect', 'tracheitis', 'unkind', 'motiveless', 'nonrhythmic', 'regional_ileitis', 'scatophagy', 'condemnable', 'malnourish', 'phoney', 'unsinkable', 'untamed', 'soil-building', 'heart_failure', 'demonisation', 'unthinkable', 'roguishness', 'unmanful', 'ravaging', 'hepatic_coma', 'seediness', 'pid', 'strayer', 'fixation', 'wilt_disease', 'nearby', 'unsound', 'heartless', 'redneck', 'tingling', 'incompetent_person', 'nonmetal', 'low_quality', 'attributive_genitive_case', 'down', 'crack', 'castigate', 'unethical', 'brave_out', 'unfavorable', 'uncheerfulness', 'faultless', 'permanent', 'comstockery', 'misdeed', 'unbranded', 'cox-2', 'sympathize_with', 'bollocks', 'triviality', 'incontestable', 'illicit', 'heartbroken', 'unemployed', 'carbuncled', 'derogative', 'jerry-built', 'haggada', 'moth-eaten', 'icterogenic', 'hick', 'incommode', 'martyrdom', 'valley_fever', 'fallacious', 'unaccustomed', 'encephalitis', 'sleep_terror_disorder', 'unglazed', 'distressful', 'impugn', 'troubled', 'cervicitis', 'keratoderma_blennorrhagica', 'orchidalgia', 'sweet_roll', 'carpal_tunnel_syndrome', 'pasteurization', 'glossodynia_exfoliativa', 'tenesmus', 'supine', 'unarticulated', 'out_of_sight', 'hemorrhagic_septicemia', 'untechnical', 'darkness', 'sleaze', 'pointless', 'devastating', 'cholera_morbus', 'noncontentious', 'peeve', 'invisibleness', 'worst', 'blowing_up', 'inflammatory_disease', 'scribble', 'delusions_of_persecution', 'nonsensitive', 'rude', 'besieged', 'grundyism', 'xeroderma', 'hallucinating', 'moped', 'cursory', 'apocynum_cannabinum', 'untraversed', 'ungrateful', 'legless', 'rummage', 'injuriousness', 'bemock', 'illogicality', 'unlaurelled', 'fuddled', 'diluted', 'clown', 'weather-bound', 'stench', 'usualness', 'severely', 'unsatisfiable', 'odd-job', 'billowy', 'sequela', 'specious', 'unpredictable', 'strong_belief', 'abused', 'homeliness', 'squalid', 'undependability', 'missed', 'immunocompetence', 'peeved', 'tete_a_tete', 'faint', 'slate-black', 'obloquy', 'wounding', 'destroyed', 'unbarreled', 'adverse_opinion', 'genus_amphibolips', 'martyniaceae', 'untouchable', 'seedy', 'anaerobe', 'unsympathetic', 'severity', 'coolie', 'delude', 'shot', 'cyclobenzaprine', 'alleviative', 'geometrical_irregularity', 'failure', 'junior', 'opt_out', 'contemptuous', 'uncommunicative', 'cruel', 'bruising', 'overheating', 'castigation', 'transcendental', 'attrition', 'insouciant', 'pisser', 'outrageous', \"cushing's_syndrome\", 'grumbling', 'articulate', 'bad-mannered', 'ill-humored', 'aquaphobic', 'discredit', 'criminal', 'anti-semitic', 'hubris', 'oafish', 'rheumatism_weed', 'suffering', 'mutter', 'souchong', 'by-and-by', 'gradual', 'begrudge', 'deceptiveness', 'hostilities', 'hellhound', 'apology', 'take_to_task', 'shut-in', 'rancour', 'welsher', 'crabbiness', 'detached', 'refuter', 'indigent', 'displeasure', 'deadly', \"lafora's_disease\", 'bum', 'no-go', 'fob', 'manic_depressive_illness', 'neandertal', 'slay', 'fore-and-aft_sail', 'unconvinced', 'saturated', 'hardheartedness', 'inconvertible', 'abnormality', 'orneriness', 'unpainted', 'tumid', 'relinquished', 'catarrhal_fever', 'dispiriting', 'viewless', 'disagreeableness', 'kink', 'wrath', 'unredeemable', 'pseudophloem', 'buffoon', 'unclean', 'risky', 'unpromised', 'stressed', 'outlawed', 'unshapely', 'despite', 'reproving', 'fire-resisting', 'fell', 'lysine_intolerance', 'cleaner', 'all-purpose', 'dyspneic', 'kale', 'distasteful', 'risk', 'rough', 'thorny', 'besiege', 'hemoglobinopathy', 'bad-tempered', 'blackball', 'temporal_arteritis', 'inconvenient', 'respiratory_distress_syndrome_of_the_newborn', 'assailable', 'coarse', 'complaining', 'unhealthy', 'hypoproteinemia', 'acne', 'nonconformist', 'prejudicious', 'scrawl', 'loosen_up', 'frowsty', 'defective', 'unwell', 'varicose', 'unobtrusive', 'roughshod', 'dependent', 'unrhythmic', 'antifeminist', 'indiscrete', 'no', 'gloomy', 'prudence', 'sole', 'mutism', 'undescriptive', 'evil', 'yob', 'capillary_fracture', 'unplayable', 'liable', 'firm', 'discrepant', 'alienated', 'urticate', 'blain', 'stubborn', 'murderess', 'dizzy', \"tietze's_syndrome\", 'brutalize', 'pejorative', 'squalor', 'sufficient', 'jaw', 'unblended', 'indie', 'unbrainwashed', 'shitty', 'nonretractile', 'unfixed', 'maddening', 'small_indefinite_amount', 'dysostosis_multiplex', 'unhappily', 'delinquency', 'misfortunate', 'unengaged', 'defenseless', 'grievous', 'genus_sivapithecus', 'discoloration', 'cowpox', 'inarticulate', 'associative', 'rococo', 'off-street', 'reproachful', 'inhuman_treatment', 'hard', 'commiserative', 'ruthlessness', 'frosty', 'outsider', 'excise_tax', 'disability', 'hairlessness', 'glaring', 'egotistic', 'afraid', 'dishonorable', 'ruthless', 'curiousness', 'irascibility', 'two-timing', 'crappy', 'inexpedient', 'indeterminable', 'sickening', 'eldritch', 'bubo', 'iron-storage_disease', 'billowing', 'unvented', 'savage', 'sore', 'dishonourableness', 'frangibleness', 'infertile', 'sciara', 'fried', 'corrupt', 'noncurrent', 'lapse', 'save', 'spine-tipped', 'fingerless', 'tart', 'insensitiveness', 'epidemic_parotitis', 'blowing', 'abuse', 'overemotional', 'disdain', 'confabulation', 'anxiousness', 'savings', 'false', 'uncurbed', 'unusable', 'forwardness', 'vertiginous', 'confusing', 'unfeeling', 'thrombasthenia', 'unopposed', 'low-spirited', 'ratty', 'forget', 'unaccepted', 'unrefined', 'rebutter', 'bankruptcy', 'worriment', 'dissolute', 'thomas', 'hepatitis_a', 'incalculable', 'keep_down', 'cedar-apple_rust', 'unsparing', 'preinvasive_cancer', 'shlep', 'salix_blanda', 'bank_failure', 'poignance', 'swollen', 'handless', 'heartburn', 'perfunctory', 'bobble', 'pluralist', 'unmindful', 'pontifical', 'comforting', 'hemofil', 'family_colchicaceae', 'weakening', 'nearsighted', 'mishandle', 'torn', 'vileness', 'oil_change', 'uncoated', 'gentle', 'nephritis', 'orthogonal', 'footsure', 'chilly', 'repudiation', 'insulting', 'cry_for', 'devilment', 'stinky', 'paranoia', 'expressiveness', 'disorganization', 'fiendish', 'insusceptible', 'untypical', 'solitary', 'bone-dry', 'unprovoked', 'cholecystitis', 'hatemonger', 'animalise', 'unleaded_gasoline', 'cacogenesis', 'rough-spoken', 'bull', 'spinelessness', 'reasonless', 'urocystis_cepulae', 'uncontaminating', 'unguided', 'irredeemable', 'opportunistic_infection', 'rhizopus', 'woeful', 'prejudiced', 'realistic', 'extralegal', 'skanky', 'dark', 'nonexistent', 'degraded', 'incompressible', 'enteritis', 'lean', 'nonviscid', 'pissed_off', 'nauseating', 'unreflective', 'delighted', 'uncongeniality', 'directed_verdict', 'homely', 'futilely', 'contrite', 'humbled', 'anguished', 'amateur', 'artificially', 'never', 'alpine_scurvy', 'fail-safe', 'ill-famed', 'subduedness', 'doubting_thomas', 'put_out', 'anger', 'brood', 'flatter', 'nonrepresentative', 'saint_thomas', 'windy', 'irregular', 'untroubled', 'inconsolable', 'stingy', 'demoralising', 'supportable', 'saving', 'glandular_plague', 'unclassifiable', 'malevolent', 'bereft', 'estranged', 'nonnative', 'crummy', 'unbooked', 'dostoyevsky', 'headless', 'grizzle', 'probationary', 'adamantine', 'impenetrable', 'directed_study', 'fearful', 'autistic', 'overacting', 'canker', 'demoralise', 'corrosion-resistant', 'unconventional', 'technical_knockout', 'unvendible', 'pricking', 'sparing', 'untransmutable', 'foggy', 'dirty', 'exclusion_principle', 'agammaglobulinemia', 'roiled', 'pledge', 'sheer', 'unmannerly', 'trip', 'ambiguous', 'unregenerated', 'incapableness', 'indisposed', 'bitchy', 'stolid', 'noncombining', 'calumnious', 'dolour', 'entranced', 'illogicalness', 'immunodeficient', 'somewhere', 'nephrogenic_diabetes_insipidus', 'enigma', 'unbearable', 'inconvenience', 'undistributed', 'dark_comedy', 'placative', 'demise', 'feigned', 'tendonitis', 'clashing', 'cut_across', 'gloominess', 'short-circuit', 'hitting', 'hinayana_buddhism', 'thankless', 'moody', 'unfavourableness', 'despiteful', 'flatulent', 'sufferable', 'smart', 'demoralizing', 'get_back', 'foul-smelling', 'concern', 'blocking', 'gruff', 'anorexia_nervosa', 'care', 'egotistical', 'gravity_bomb', 'hours', 'disquieted', 'colchicaceae', 'windburned', 'panic', 'woefully', 'genus_zygophyllum', 'irrefutable', 'impairment', 'helpless', 'tuberculous', 'mischief', 'paranoid', 'desperate', 'disgruntled', 'unattached', 'weird', 'promptly', 'inattentiveness', 'sadly', 'mismatched', 'fogbound', 'careworn', 'unwholesomeness', 'unknowingness', 'apt', 'undue', 'oophoritis', 'misleading', 'phthirius', 'troublesomeness', 'misanthropical', 'nonnatural', 'unrestrained', 'withdrawal_symptom', 'stupid', 'shapeless', 'stereotyped', 'foul', 'poorly', 'inquisition', 'inexorable', 'hamming', 'positive_fraud', 'rotten', 'irreducible', 'incendiary', 'air-dry', 'underbelly', 'shaky', 'daltonism', 'unobtainable', 'rigourousness', 'dastard', 'dysphoric', 'tatterdemalion', 'furuncle', 'high-risk', 'imitation', 'noninvasive', 'ball_up', 'tenonitis', 'enthralled', 'deception', 'unsuasible', 'rare', 'palsied', 'extant', 'peaked', 'insolubility', 'tentative', 'grudge', 'imponderable', 'washed-up', 'hypochondriac', 'small', 'yahoo', 'traducement', 'balefulness', 'placatory', 'aphonic', 'largeness', 'illegitimate', 'lysinemia', 'puniness', 'unsolder', 'low_status', 'intolerable', 'misanthropic', 'feodor_mikhailovich_dostoyevsky', 'factor_viii', 'nonpublic', 'sob', 'spina_bifida', 'stinging', 'churn_up', 'calumniation', 'unmalicious', 'uncomely', 'waterproofed', 'pyelonephritis', 'sympathizer', 'disconcerting', 'tubeless', 'wary', 'nonmoving', 'pong', 'impracticableness', 'grungy', 'nonsexual', 'snuffling', 'primary_dysmenorrhea', 'listless', 'pyorrhea_alveolaris', 'unblushing', 'blame', 'malodourous', 'abject', 'lugubriousness', 'conventionalized', 'congestive_heart_failure', 'shifty', 'enduring', 'detestable', 'bitch', 'second-degree_burn', 'unparliamentary', 'undefended', 'colour-blind', 'unburdened', 'unwrapped', 'the_devil', 'mastoiditis', 'scleritis', 'unadvisable', 'enraged', 'unextended', 'mania', 'profoundly_deaf', 'unsuited', 'gladfulness', 'unconscionable', 'putrefaction', 'flush', 'fuddle', 'threatening', 'pastness', 'hamartia', 'lambaste', 'forego', 'amorphous', 'stabile', 'softhearted', 'horrifying', 'gidgee', 'common', 'endanger', 'stereotypic', 'asystole', 'pestilence', 'staleness', \"too_big_for_one's_breeches\", 'aversive', 'out-of-the-way', 'low', 'handicapped', 'bullshit', 'nefarious', 'unconquerable', 'unalterability', 'niff', 'bounder', 'dropsy', 'hurting', 'comfortless', 'whiney', 'broken-backed', 'shlockmeister', 'lonesomeness', 'unexcelled', 'affliction', 'melancholy', 'job', 'hell', 'brush_down', 'fyodor_mikhailovich_dostoevsky', 'dissentient', 'deceit', 'troublesome', 'cruelness', 'unpledged', 'frangibility', 'torturing', 'lugubrious', 'dysthymic_depression', 'unmitigated', 'glad', 'substitute', 'hardness', 'hypochondriacal', 'fluff', 'shit', 'mispronunciation', 'inflame', 'eupnea', 'nonviable', 'incorruptible', 'tiring', 'loco_disease', 'achy', 'ruscaceae', 'biting', 'epicondylitis', 'composite_number', 'earned_run_average', 'ptsd', 'snooty', 'uncategorised', 'unrestrictive', 'jerry-builder', 'unspeakable', 'epididymitis', 'color_vision_deficiency', 'ill-omened', 'freewoman', 'floater', 'plaintiveness', 'closed-minded', 'mordant', 'unfocused', 'nettled', 'spondylarthritis', 'unforbearing', 'stoical', 'bronchospasm', 'squalling', 'rotgut', 'noisome', 'befouled', 'nerve', 'survivor_guilt', 'disturbance', 'selfishness', 'fearlessness', 'ill-natured', 'multiple_neuritis', 'motormouth', 'restrictiveness', 'black_operation', 'dismissive', 'weepiness', 'uncheerful', 'unfamiliar', 'final', 'hepatitis', 'prickle', 'untrammeled', 'spondylitis', 'unanalyzed', 'nickel-and-dime', 'remorseless', 'nonachiever', 'ragged', 'abreact', 'gingivitis', 'spastic_bladder', 'grouchy', 'resentment', 'mangled', 'confuse', 'hypothesis', 'minor', 'cod_oil', 'whoop', 'blind', 'enlightenment', 'utility', 'heavyheartedness', 'unhearing', 'conceit', 'germ_warfare', 'bummer', 'incommunicado', 'unendurable', 'immobile', 'gumming', 'painful_sensation', 'ad-lib', 'concealed', 'maladjustment', 'slaying', 'untidy', 'stipulative_definition', 'going-over', 'dreadful', 'abasia', 'moon_around', 'wrongful', 'unmixed', 'innocuous', 'crudeness', 'nudism', 'free_electron', 'cystitis', 'chicken_kiev', 'unasked', 'stern', 'unspotted', 'ruthfulness', 'deuteranopia', 'beastly', 'roguery', 'glossalgia', 'fluctuation', 'none', 'rebuke', 'otc', 'breathless', 'impecunious', 'meagerly', 'below_the_belt', 'demoralized', 'simple', 'get_the_goods', 'sometime', 'unselective', 'unposed', 'overdelicate', 'crocodile_tears', 'unwilling', 'melancholic', 'nanism', 'coordination', 'amethopterin', 'kick_around', 'ira', 'persuasion', 'prejudicial', 'hysterical_neurosis', 'plague', 'illogic', 'tardiness', 'crudity', 'unsoiled', 'involuntary', 'killing', 'gargoylism', 'for_sure', 'expose', 'unoiled', 'gloat', 'unarmed', 'maliciously', 'storm-beaten', 'irradiation', 'profligate', 'stew', 'abulic', 'unboundedness', 'bitchiness', 'heel', 'unheated', 'defamatory', 'wimpish', 'overjoyed', 'premonition', 'virulent', 'maltreat', 'unshaded', 'dumb_bomb', 'alienism', 'mumble', 'swollen-headed', 'debauch', 'earth', 'nonconducting', 'dishonesty', 'manky', 'doom', 'unremunerative', 'choker', 'nonprofessional', 'parsimonious', 'blasting', 'enrage', 'unspoiled', 'busy', 'stiffness', 'disruption', 'spite', 'sun_spurge', 'vesicant', 'famished', 'sound_pollution', \"takayasu's_arteritis\", 'inapposite', 'pensive', 'shrew', 'venomous', 'draw_a_blank', 'proud_flesh', 'deface', 'aboveboard', 'paresthesia', 'rubbishy', 'pissed', 'wring_from', 'neanderthal', 'well-meaning', 'malodor', 'burned-over', 'cock-a-doodle-doo', 'disturbing', 'unrhythmical', 'villainy', 'obnoxious', 'irrevokable', 'unforgiving', 'remorse', 'drear', 'sicken', 'cheapjack', 'demon', 'pompous', 'unconcern', 'lumpy', 'ambivalent', 'day_of_reckoning', 'wishfulness', 'misguided', 'on_the_hook', 'repel', 'lecherous', 'supertwister', 'wrenching', 'nonequivalent', 'graver', 'gouty', 'downfall', 'unconcerned', 'contumacious', 'humbug', 'exiguity', 'hard_put', 'blubbery', 'falter', 'inferiority', 'disingenuous', 'bumptiousness', 'lamentably', 'imposition', 'white_lung', 'disgraced', 'unscientific', 'sinus', 'malign', 'stemless', 'xanthorrhoeaceae', 'cockiness', 'mire', 'untrue', 'schistorrhachis', 'under_the_weather', 'unlamented', 'flutter', 'cry_out_for', 'nonarbitrable', 'unpronounceable', 'urinary_incontinence', 'foetid', 'weep', 'schlockmeister', 'get_the_best', 'naughty', 'shitwork', \"riggs'_disease\", 'ko_punch', 'costalgia', 'achondritic', 'exhausting', 'prying', 'putrefacient', 'starved', 'ugly', 'mindless', 'asternal', 'load', 'psychopathologic', 'unfocussed', 'schizotypal_personality', 'glacial', 'sadness', 'ulcerative_colitis', 'unpicturesque', 'blackguard', 'mischance', 'tearaway', 'unstained', 'unpardonable', 'fox', 'preconception', 'chalcid', 'undeveloped', 'unreliable', 'uncritical', 'cozen', 'hot_water', 'undertow', 'go_around', 'casteless', 'aneroid', 'equine_distemper', 'polio', 'hangover', 'fake', 'misconstrue', 'poverty-stricken', 'force-feed', 'interfering', 'predicament', 'earful', 'hydrophobic', 'sharp', 'fair_hearing', 'unfortunately', 'bronzed_diabetes', 'uncompounded', 'straiten', 'trouble', 'forlornness', 'non-u', 'menacing', 'condemnatory', 'ophthalmia', 'fast', 'uncompetitive', 'deprecatory', 'hot', 'unappetizing', 'cheerlessness', 'shake', 'unmodernised', 'sleepless', 'stubbornness', 'smelly', 'cattish', 'chew_out', 'psychotic', 'lossless', 'unsavory', 'daimon', 'fries', 'funereal', 'pretension', 'straits', 'undesigned', 'smash_up', 'awkward', 'cruddy', 'soochong', 'methotrexate_sodium', 'wrongfulness', 'lament', 'maculate', 'cacography', 'bother', 'fouled', 'bare', 'burned', 'deliquium', 'unblessed', 'uncertain', 'compassion', 'phobic', 'life-threatening', 'conceited', 'pelvic_inflammatory_disease', 'chagrin', 'sauciness', 'nonresident', 'crankiness', 'dropsical', 'slack', 'dostoevsky', 'butterfingered', 'inclemency', 'tousled', 'radiopaque', 'foolishly', 'adulterous', 'possibility', 'acridity', 'wearying', 'bring_down', 'mal_rosso', 'joylessness', 'turn_off', 'pushiness', 'unsated', 'hyperadrenalism', 'discombobulate', 'low-down', 'undermanned', 'unfastidious', 'unarticulate', 'pleuralgia', 'uncomfortable', 'shooting', 'insensitive', 'anguish', 'misconceive', 'misbehaviour', 'hajj', 'insincerity', 'offending', 'plume-tipped', 'placating', 'achromia', 'family_xanthorrhoeaceae', 'mournfulness', 'easy', 'quandary', 'uncooperative', 'likely', 'unpropitiousness', 'halfhearted', 'conventionalised', 'huffish', 'occupational_therapy', 'grunt', 'apprehensive', 'tastelessly', 'purposeless', 'inequity', 'lamenting', 'nonmandatory', 'constructive_eviction', 'vanity', 'dyslogistic', 'abjuration', 'sinister', 'misconception', 'undisputable', 'light-mindedness', 'edematous', 'diabolic', 'cordiality', 'fretful', 'scary', 'moan', 'tetanic', 'gateway_drug', 'misinterpret', 'grubby', 'silly', 'pestis_bubonica', 'sigmoid_vein', 'melancholia', 'shameless', 'horrific', 'libertine', 'boneless', 'comfy', 'earned_run', 'disobedient', 'deprecating', 'ungetatable', 'exception', 'unkempt', 'achlorhydria', 'discorporate', 'nonmetallic', 'guilt', 'wrongheaded', 'liverish', 'scupper', 'rationalization', 'reluctant', 'cruelty', 'unemployment', 'hypothetical_creature', 'hypoglycemia', 'unfeathered', 'lighter', 'impassive', 'nontechnical', 'posthitis', 'head', 'noncontroversial', 'nirvana', 'quiescent', 'stink_out', 'emotional_disorder', 'gammy', 'erythroderma', 'pallidness', 'hollowness', 'ragnarok', 'pucker', 'uneasy', 'unction', 'mysophilia', 'fry', 'surprising', 'onion_smut', 'unbaptised', 'disconfirming', 'mono', 'nauseate', 'offended', 'unuseable', 'induced', 'fyodor_dostoevsky', 'bypass', 'slowgoing', 'brace', 'uniformity', 'fright', \"dog's_dinner\", 'unevenness', 'ill-usage', 'mistranslation', 'pale', 'unforeseeable', 'bollocks_up', 'mallophaga', 'tender', 'mummery', 'curdled', 'ruinous', 'megalomaniacal', 'irascible', 'dimmer', 'go_out', 'unquestioning', 'harrowing', 'inexactitude', 'cocksucker', 'canal', 'must', 'malcontent', 'wide_of_the_mark', 'sting', 'unhindered', 'anasarcous', \"moeller's_glossitis\", 'brainish', 'gregariousness', 'indistinct', 'cattiness', 'speak_up', 'disarranged', 'billingsgate', 'unrecognized', 'loneliness', 'wanted', 'gripes', 'nonechoic', 'rebellious', 'smarting', 'tragedy', 'excite', 'mistreated', 'aversion', 'hapless', 'giddy', 'phrenitis', 'flippancy', 'by_artificial_means', 'short_temper', 'articulated', 'sardonic', 'paraquat_poisoning', 'stylised', \"dog's_breakfast\", 'tenacious', 'sulkiness', 'caviller', 'shoot', 'vers_libre', 'helleborus_foetidus', 'devastation', 'muzzy', 'overheated', 'long-windedness', 'lamentations', 'quibbler', 'unorganized', 'positivity', 'stylized', 'jumpy', 'collywobbles', 'starless', 'sprain', 'valdecoxib', 'polish_off', 'uncultivable', 'unretrievable', 'fervent', 'subfamily_smilacaceae', 'hinayana', 'throe', 'uncoerced', 'profaned', 'decanoic_acid', 'rubor', 'unpleasant-smelling', 'puzzle', 'misquotation', 'amebiasis', 'malodour', 'misuse', 'cacophonic', 'pansinusitis', 'bungled', 'ungroomed', 'foreigner', 'pitiless', 'unsized', 'intimidation', 'scarred', 'hypoglycaemia', 'subnormal', 'unasterisked', 'cephalitis', 'skulk', 'rainproof', 'cleanness', 'beastliness', 'nonconforming', 'mephitis', 'ill-timed', 'scut_work', 'meddlesome', 'pull_a_fast_one_on', 'unsociable', 'abhorrent', 'supernatural', 'alloyed', 'unsensational', 'inauspiciousness', 'block', 'unsent', 'settling', 'accidental_injury', 'vesiculitis', 'unwisely', 'pulseless', 'canicola_fever', 'generous', 'inexorability', 'social_work', 'fire', 'muscle_spasm', 'extort', 'fire-retardant', 'unsupported', 'rubbery', 'bag', 'thievishness', 'antipathetical', 'motherfucker', 'genuine', 'stationary', 'conflicting', 'mal_de_la_rosa', 'erroneous', 'unpitying', 'sleaziness', 'revolting', 'skank', 'hot_potato', 'ersatz', 'no-frills', 'injured', 'venomed', 'nonlinguistic', 'slavish', 'destructive', 'nonadhesive', 'ataxia', 'exasperating', 'renege', 'cautionary', 'immaturity', 'immobilize', 'cordless', 'supersaturated', 'hypothyroidism', 'corrected', 'unplaced', 'agonise', 'injury', 'ards', 'chafed', 'agamous', 'unemployable', 'undomestic', 'pallid', 'corky', 'insidious', 'demeaning', 'pinkness', 'celecoxib', 'rebarbative', 'glop', 'rot', 'nongregarious', 'doleful', 'unforced', 'deaf', 'horror', 'blindside', 'iron_overload', 'periarteritis_nodosa', 'clapperclaw', 'splenitis', 'intangible', 'fatherless', 'kidney_failure', 'backsliding', 'asphyxia', 'have_words', 'susurration', 'rube', 'short-staffed', 'blue', 'gastritis', 'stuck', 'unappeasable', 'black_diamond', 'lenitive', 'interrogator', 'murdered', 'warm', 'light-minded', 'unreciprocated', 'unnoticeable', 'abrasiveness', 'hysteria', 'close-minded', 'demonization', 'unerring', 'unregretting', 'maggoty', 'unvoluntary', 'tarsitis', 'inoffensive', 'resourceless', 'positiveness', 'horrid', 'wasted', 'opine', 'waterproof', 'unsympathizing', 'ungratefulness', 'foundering', 'agamogenetic', 'scratch', 'backslide', 'lamentation', 'scurrilous', 'stroppy', 'unenviable', 'wholeheartedness', 'myxoedema', 'scurrility', 'reprimand', 'cardiac_insufficiency', 'shame', 'resent', 'villainous', 'phthirus', 'encopresis', 'unfed', 'sick_joke', 'dominated', 'itch', 'nalfon', 'unworkmanlike', 'regrettable', 'gum', 'alleviated', 'victimized', 'coldheartedness', 'fastest', 'dm', 'nemesis', 'impoverishment', 'nonconformity', 'forswearing', 'recant', 'broken-down', 'wimpy', 'incumbrance', 'prolixness', 'major_affective_disorder', 'unsophisticated', 'refractory', 'ungregarious', 'flax_rust_fungus', 'apostate', 'dreaminess', 'self-torture', 'tall', 'natural', 'heterological', 'steamed', 'fungus_gnat', 'wild_ginger', 'severeness', 'unavailability', 'nyctalopia', 'trounce', 'visit', 'foregone', 'anurous', 'desolate', 'invocation', 'unpeaceful', 'stupidity', 'reproduction', 'bright', 'ill-fated', 'inseparable', 'endure', 'satisfactoriness', 'cheating', 'chapelgoer', 'manginess', 'rebut', 'tumescent', 'foster-brother', 'dead', 'nefariousness', 'self-conceited', 'usurious', 'grandiloquent', 'remarry', 'artificial', 'unripened', 'unnaturalness', 'unresisting', 'unsolvability', 'unmarried', 'plonk', 'afflictive', 'conquest', 'undenominational', 'hurly_burly', 'aspiration_pneumonia', 'heinousness', 'mule', 'waver', 'won', 'unreactive', 'meningitis', 'bollix_up', 'haematoma', 'dreck', 'appeasing', 'inhuman', 'indifferent', 'lousiness', 'olein', 'imprudent', 'throes', 'peritonsillar_abscess', 'unleaded_petrol', 'perturbing', 'dateless', 'feel_for', 'unsteady', 'myometritis', 'diphtheria', 'unleaded', 'nystagmus', 'slut', 'play_tricks', 'unsoured', 'pure', 'contemptible', 'prurient', 'unloaded', 'unperceivable', 'easygoing', 'resistance', 'malicious', 'dyspnoeic', 'wigless', 'devious', 'lapsed', 'missing', 'unsymbolic', 'self-flagellation', 'comfortable', 'throw_cold_water_on', 'dependent_clause', 'unfirm', 'indirectly', 'unqualified', 'sharp-worded', 'unfairness', 'countermand', 'unsettled', 'ravenous', 'bang_up', 'endurable', 'murmuration', 'delayed', 'shoddiness', 'swelled', 'pestilent', 'asthmatic', 'czestochowa', 'unfertilised', 'dangerous', 'fresher', 'filth', 'drooping', 'rotavirus', 'false_verdict', 'convulsive', 'maul', 'untitled', 'creepy', 'hereditary_cerebellar_ataxia', 'keratitis', 'kicking', 'loutish', 'congenital_megacolon', 'foamy', 'schlock', 'unsanctified', 'lasting', 'tendinitis', 'suck', 'unpleasingness', 'smuts', 'wrecked', 'pythium_debaryanum', 'haggard', 'nauseated', 'laxness', 'black_and_white', 'obscene', 'bumbling', 'unearthly', 'indeterminate', 'sneering', 'mortifying', 'malfunctioning', 'roughneck', 'dumb', 'phytophthora_infestans', 'angina', 'quasi-royal', 'idolisation', 'bump_off', 'spoilt', 'negative_stimulus', 'undernourished', 'neuralgia', 'unreliability', 'apraxia', 'malignancy', 'amoebiosis', 'shout', 'gonorrhoea', \"hurler's_disease\", 'melampsora_lini', 'whoreson', 'censorious', 'bona_fide', 'fusty', 'bellyful', 'fatality', 'lyme_arthritis', 'anaesthetic', 'asynchronous', 'mock', 'visually_impaired_person', 'terrifying', 'tat', 'muck_up', 'wide', 'unordered', 'naked', 'uneatable', 'dyspnoeal', 'steadfastness', 'myxedema', 'fyodor_dostoyevsky', 'over-the-counter', 'mulishness', 'immobilise', 'non-invertible', 'waste_of_effort', 'homebody', 'soundproof', 'distress', 'untoward', 'odynophagia', 'scurvy', 'pretence', 'sordidness', 'notional', 'overcome', 'rash', 'polycystic_kidney_disease', 'wartweed', 'porphyria', 'hairline_fracture', 'short-change', 'diabetes_mellitus', 'chronic_gastritis', 'paranormal', 'satiety', 'messiness', 'burdensomeness', 'willing', 'fingerprint', 'admonitory', 'incomplete_fracture', 'poriferous', 'provisionary', 'vulvitis', 'bodge', 'direful', 'irreplaceable', 'barbarousness', 'unpaintable', 'average_out', 'thrown', 'thomas_the_doubting_apostle', 'acute_anterior_poliomyelitis', 'caprylic_acid', 'burnt', 'mendacious', 'bad', 'retiring', 'absent', 'pass', 'diabolical', 'complaintive', 'serious', 'moneyless', 'luridness', 'repentant', 'unwrinkled', 'myopathy', 'unconscientiousness', 'rhizoctinia_solani', 'capric_acid', 'unbecoming', 'chalcid_fly', 'presentiment', 'carbuncular', 'last', 'unease', 'uncanny', 'unwritten', 'upset', 'woe', 'sunshine', 'unlivable', 'heartiness', 'family_convallariaceae', 'pneumonia', 'rheumatism', 'unawareness', 'virus', 'disadvantageously', 'cramp', 'kail', 'stressful', 'unhurried', 'naprosyn', 'unmodified', 'repugnance', 'airy', 'damaging', 'light-duty', 'colic', 'stiff-necked', 'loathsome', 'nonglutinous', 'twinge', 'acentric', 'compulsive', 'hellish', 'shaken', 'scratchy', 'mefenamic_acid', 'dysphemistic', 'fierce', 'untapped', 'undecided', 'semirigid', 'hard-pressed', 'bextra', 'tref', 'milk_intolerance', 'eviction', 'disgusting', 'pancreatitis', 'junior-grade', 'vexed', 'nonpsychoactive', 'remonstrate', 'tushery', 'discreetness', 'debased', 'unfashionable', 'berating', 'glum', 'groan', 'shirty', 'panic_disorder', 'carbonado', \"mug's_game\", 'rockweed', 'exposure', 'inhumane', 'disagreeable', 'incapability', 'cataclysmal', 'ail', 'inadequacy', 'humility', 'trumped-up', 'immune', 'messy', 'rust-resistant', 'ill-chosen', 'intransigence', 'nervous', 'toxicity', 'newsless', 'settle', 'different', 'bipolar_disorder', 'era', 'subvert', 'sniffly', 'unadapted', 'deplore', 'perilous', 'consumptive', 'aphakia', 'bronchopneumonia', 'unthematic', 'bronchitis', 'ungrammatical', 'hydrops', 'unfinished', 'lung-like', 'unresolved', 'caveat_emptor', 'conviction', 'morbidity', 'mother_fucker', 'regardless', 'meralgia', 'soil', 'godlessness', 'unappreciated', 'cryopathy', 'puff_up', 'frivolous', 'miserable', 'heterogeneousness', 'stray', 'coarse-grained', 'peremptory', 'workhouse', 'unseemly', 'blurry', 'tumefy', 'nonsocial', 'somberness', 'degrading', 'go_to_pot', 'burn', 'slippery', 'day-old', 'pretty', 'incidental', 'complex_absence', 'grisly', 'spielmeyer-vogt_disease', 'unpermissiveness', 'inflammation', 'brutal', 'uncontaminated', 'doctrinaire', 'sleekness', 'self-torment', 'wet_lung', 'excusatory', 'unlawful', 'derecognise', 'morose', 'letter_bond', 'diabetic', 'haj', 'smitten', 'dissipated', 'dickensian', \"reiter's_disease\", 'latent_schizophrenia', 'casuistry', 'fellow_traveler', 'urethritis', 'stealth_bomber', 'dry', 'entrancement', 'illegitimacy', 'breakability', 'robustness', 'forked', 'secure', 'genital_torture', 'kawasaki_disease', 'dolourous', 'unsalaried', 'skulking', 'necrotizing_enteritis', 'fixed', 'feodor_mikhailovich_dostoevsky', 'jaggedness', 'jeering', 'downheartedness', 'acerb', 'amour_propre', 'leaner', 'colitis', 'amenorrhoea', 'inexorableness', 'nongranular', 'hardhearted', 'satiation', 'turgid', 'pusillanimous', 'off', 'nonchristian', 'disapprove', 'scarey', 'disinherited', 'windburnt', 'grind_to_a_halt', 'algolagnia', 'squally', 'emergency', 'unfit', 'reproof', 'fulsomeness', 'venous_sinus', 'irreverent', 'abstentious', 'bungling', 'bad_luck', 'solacement', 'undiagnosable', 'exacting', 'rancor', 'euphoric', 'insolvent', 'carelessness', 'saddle_sore', 'maltreated', 'terrible', 'mental_anguish', 'grief-stricken', 'circumspection', 'bite', 'lyme_disease', 'fumbling', 'lapsing', 'protected', 'otherworldly', 'depression', 'order_uredinales', 'livedo', 'unsoldierly', 'low-spiritedness', 'malnutrition', 'ill-used', 'wailful', 'mismatch', 'meningism', 'express', 'fyodor_dostoevski', 'stupor', 'unfavorable_position', 'moon_about', 'culpable_negligence', 'blamable', 'unsealed', 'straying', 'parlous', 'delusory', 'little', 'petit_mal', 'bogy', 'cold', 'confound', 'feodor_dostoevsky', 'sexless', 'besieging', \"murphy's_law\", 'dutch_courage', 'runty', 'toxoid', 'cardiac_arrest', 'nerves', 'unseasoned', 'unteach', 'unhappiness', 'cankerous', 'distressing', 'adamant', 'pebble-grained', 'unholy', 'cholecystectomy', 'desensitize', 'morbid', 'fearfulness', 'reject', 'unpalatable', 'helplessness', 'blemished', 'hobbledehoy', 'insurmountable', 'removed', 'aliquant', 'acid', 'pyorrhea', 'incompetent', 'hadj', 'unstudied', 'revoke', 'apprehension', 'schizoid', 'ropy', 'impose', 'confuter', 'disheveled', 'mismated', 'anatoxin', 'disappointment', 'cancer_of_the_liver', 'bloodthirsty', 'perplexed', 'assimilating', 'pettifogger', 'dire', 'chiding', 'gristly', 'status_asthmaticus', 'immature', 'frowzled', 'casual', 'tetany', 'ragamuffin', 'crackers', 'loose', 'haymaker', 'pellicularia_filamentosa', 'minus', 'done_for', 'honorary', 'alleviatory', 'lecturing', 'wild_pitch', 'diplococcus_pneumoniae', 'uninterested', 'shin_splints', 'subaltern', 'sanguinary', 'deaf_as_a_post', 'lividity', 'glee', 'irreality', 'heterologic', 'feodor_dostoyevsky', 'vain', 'hematoma', 'torment', 'contrarious', 'sullen', 'hooligan', 'unfree', 'unbleached', 'erb-duchenne_paralysis', 'masked', 'aperient', 'mumbling', 'chagrined', 'unsweet', 'pinched', 'abort', 'unchecked', 'peril', 'unlucky', 'rachischisis', 'unrealizable', 'prick', 'revolt', 'genus_phthirus', 'immorally', 'untempered', 'ramsay_hunt_syndrome', 'chalcidfly', 'unprocurable', 'smell_up', 'knockabout', 'redness', 'genus_chlamydia', 'haredi', 'distressfulness', 'murmur', 'frigid', 'defunct', 'inflict', 'canard', 'unhampered', 'offensiveness', 'unliveable', 'unlearned', 'gonorrhea', 'enthusiasm', 'nonsubmersible', 'nonreversible', 'pneumococcus', 'grizzled', 'condemning', 'inessential', 'deny', 'unsolicited', 'idolization', 'unalterable', 'beetle-browed', 'nullipara', 'disconsolateness', 'shabby', 'unbarrelled', 'snotty', 'wicked', 'pretense', 'inadequate', 'unbridled', 'touch-and-go', 'triolein', 'foetor', 'pettiness', 'immoral', 'uninquisitive', 'citrulline', 'incorrectness', 'funky', 'dutch_elm_fungus', 'braced', 'unfathomable', 'esurient', 'berate', 'indigestion', 'sorrowing', 'methotrexate', 'concubinage', 'psychopathic', 'peritonitis', 'remove', 'reformatory', 'synovitis', 'victimise', 'utility-grade', 'inappropriate', 'euphorbia_helioscopia', 'mope', 'venom', 'pagan', 'unquestionable', 'unconfirmed', 'single', 'fabled', 'sentimentality', 'torrid', 'humbling', 'offenseless', 'immutable', 'animadvert', 'stung', 'reductive', 'unweathered', 'yellow', 'ureteritis', 'occult', 'mental_exhaustion', 'lamentable', 'too_bad', 'fetor', 'stirred', 'unmourned', 'gum-lac', 'discomfiture', 'astigmia', 'inauspicious', 'murmuring', 'nonmotile', 'scrimpy', 'outlaw', 'dickhead', 'indivisible', 'poise', 'valvular_incompetence', 'agonised', 'ill-treated', 'asynergy', 'fugly', 'quinsy', 'disastrous', 'unwind', 'unbeloved', 'noncommercial', 'upbraiding', 'abysmally', 'yobbo', 'painful', 'dysentery', 'achromasia', 'open-collared', 'atypical', 'unisex', 'in_straitened_circumstances', 'inflexibility', 'poor', 'jerking', 'disturbed', 'genus_pythium', 'white-pine_rust', 'elusiveness', 'complain', 'mitral_valve_prolapse', 'unacknowledged', 'satanic', 'lymphadenoma', 'closed-door', 'no-go_area', 'protect', 'condole', 'unawakened', 'opened', 'vindictive', 'bullet-headed', 'impervious', 'unnerved', 'phantom_limb_syndrome', 'myopic', 'ominous', 'nimravus', 'undefendable', 'hydra', 'nonrestrictive_clause', 'cantankerous', 'musty', 'dereliction', 'despondent', \"crohn's_disease\", 'intestate', 'unauthorised', 'rigidness', 'snorty', 'secular', 'hydronephrosis', 'anosmia', 'unbanded', 'blank', 'misguide', 'orphan_site', 'un-come-at-able', 'sulfurous', 'sordid', 'misalign', 'unsteadiness', 'variability', 'layperson', 'beaten-up', 'poliomyelitis', 'shuddery', 'celiac_disease', 'out-of-date', 'ungentle', 'aortitis', 'multiple_voting', 'dispense_with', 'cancerous', 'mean', 'asymptomatic', 'retinitis', 'unindustrialized', 'ruthful', 'affectedness', 'perkiness', 'cretinous', 'unsightly', 'congenital_afibrinogenemia', 'tuberculoid_leprosy', 'unnaturally', 'distrain', 'sterile', 'glowering', 'distastefulness', 'heterogeneity', 'untrusting', 'entrapment', 'relegation', 'refractory_anaemia', 'inadvisability', 'staunchness', 'brain-teaser', 'jobless', 'ill-treat', 'talentlessness', 'dishonored', 'preternatural', 'shouting', 'tepid', 'third-rater', 'uncombable', 'conformist', 'hypocalcaemia', 'homeless', 'photoretinitis', 'agitative', 'nontoxic', 'agoraphobic', 'retired', 'shenanigan', 'quetch', 'health_problem', 'baleful', 'whole_blood', 'insignificantly', 'phytophthora', 'intangible_asset', 'regrets', 'small-time', 'intumescent', 'rigorousness', 'hypothetical', 'play_a_joke_on', 'due_process', 'bedraggled', 'unassuming', 'unscripted', 'pkd', 'bumpy', 'confounded', 'physiotherapist', 'uncompartmented', 'heartlessness', 'dwarfism', 'offing', 'mischief-making', 'snoopiness', 'repulse', 'appendicitis', 'easing', 'rationalisation', 'thought', 'placidity', 'ingratitude', 'haggadah', 'odiousness', 'intestinal_colic', 'heartbreak', 'inflammatory', 'insufficient', 'frightening', 'ill-treatment', 'dystopian', 'mitigating_circumstance', 'unimpressionable', 'boding', 'mothproof', 'alienation', 'gift_horse', 'want', 'sallow', 'wretched', 'dispirited', 'ham-fisted', 'sweltering', 'unmovable', 'impertinence', 'throaty', 'cacophonous', 'hair-raising', 'affright', 'lower', 'bubble_over', 'probable', 'sweet', 'miffed', 'anoxia', 'beatific', 'fragile', 'nonchurchgoing', 'unbowed', 'chemical_diabetes', 'mortified', 'emotionlessness', 'uppish', 'speculate', 'ungodly', 'ire', 'sarcastic', 'mayidism', 'wistful', 'quiet', 'algophilia', 'mysophobic', 'lubricious', 'vena_sigmoideus', 'somber', 'bogie', 'edema', 'green-blindness', 'metralgia', 'steel', 'plaintive', 'unendowed', 'ataxy', 'debase', 'ill-smelling', 'dyspnoea', 'deceptively', 'scrawny', 'twilight_of_the_gods', 'dreadfully', 'disparaging', 'unripe', 'crepuscular', 'apologise', 'latent_diabetes', 'vitriolic', 'commiseration', 'dishonour', 'gruesome', 'nonexempt', 'undisciplined', 'clear', 'titillation', 'incomprehension', 'fair', 'fakeer', 'unattractive', 'needy', 'sciarid', 'plainness', 'colly', 'lazarus', 'untrustworthy', 'undyed', 'uncropped', 'undependable', 'tritanopic', 'overblown', 'nonresistant', 'closed', 'unpowered', 'shlock', 'erythema', 'imposing', 'unbeneficed', 'nonhuman', 'chirpy', 'slattern', 'resourcefulness', 'dissenting', 'impermissibility', 'chasten', 'unarbitrary', 'pallor', 'victimised', 'call_on_the_carpet', 'algophobia', 'eyesore', 'impalpable', 'pity', 'mumps', 'malapropos', 'free_verse', 'subtle', 'pasteurellosis', 'motor_ataxia', 'unexpansive', 'dishonor', 'hound', 'woozy', 'animadversion', 'insubordinate', 'recalcitrant', 'obstinate', 'polar', 'vestigial', 'sucking', 'unacceptability', 'unsyllabled', 'moribund', 'polydipsia', 'outdated', 'crabbed', 'porous', 'costume', 'stuffy', 'nonenterprising', 'disconcertment', 'potato_wart_fungus', 'contradictory', 'unvaccinated', 'blistering', 'ingenuous', 'osculate', 'long-suffering', 'isolated', 'hemochromatosis', 'brutalise', 'caustic', 'zygophyllum', 'untidiness', 'unmingled', 'dysmenorrhea', 'vixenish', 'undated', 'ghetto', 'reproach', 'negative', 'cacodemon', 'incompatibility', 'hydrogen_sulfide', 'nonretractable', 'balancer', 'immoderation', 'mortal', 'impolitic', 'unconscientious', 'disappointing', 'stonyhearted', 'unusual', 'thyroid', 'unstoppable', 'croup', \"cushing's_disease\", 'nonaggressive', 'ungentlemanlike', 'elusive', 'bluntness', 'dysphoria', 'unfitness', 'fulminant', 'nosiness', 'sanguineous', 'overcompensation', 'disgust', 'incongruity', \"bright's_disease\", 'parathion_poisoning', 'black-and-white', 'disapproving', 'go_to_the_dogs', 'caseous', 'distemper', 'errant', 'baseborn', 'rottenly', 'querulousness', 'unsubmissive', 'unmusical', 'heinous', 'cryoanesthesia', 'losses', 'sitting', 'hoo-ha', 'unexchangeable', 'conventional', 'coronary_failure', 'pain_sensation', 'delusive', 'unshockable', 'persnickety', 'indefensible', 'repletion', 'unimpeded', 'impaction', 'uredinales', 'scrofulous', 'evil-minded', 'heartrending', 'malignance', 'nontransmissible', 'insensitivity', 'smelling', 'unmannered', 'raunchy', 'apologize', 'counterfactuality', 'pound', 'noninstitutionalised', 'caviler', 'accumulation', 'abusive', 'dysthymia', 'bush', 'abominable', 'nondeductible', 'torture', 'stain', 'refractory_anemia', 'jinx', 'leptospira', 'fraught', 'unexploited', 'nonessential', 'apathy', 'hallucination', 'befuddled', 'sloppiness', 'ulalgia', 'gladsomeness', 'neuralgy', 'apotropaic', 'hagada', 'unexampled', 'afflict', 'blurred', 'insoluble', 'unacceptableness', 'severe', 'reprobate', 'nagging', 'paleness', 'disdainful', 'vena_pulmanalis_inferior', 'whammy', 'soft-boiled', 'butcherly', 'wavering', 'unconstitutional', 'seriousness', 'continuing_trespass', 'unworthiness', 'admissible', 'unhealthiness', 'curse', 'perniciousness', 'relieved', 'underachiever', 'unruly', 'distributive_shock', 'glassless', 'kite', 'nasty', 'unenterprising', 'preserves', 'irritating', 'off-putting', 'overanxiety', 'waive', 'sticking', 'seamless', 'forbidding', 'unbreakable', 'thickspread', 'abase', 'discontented', 'unreplaceable', 'meagre', 'tetanilla', 'unbefitting', 'anovulation', 'corked', 'indistinguishable', 'unacceptable', 'allergic', 'undatable', 'militia', 'unhealthfulness', 'regent', 'fanciful', 'archness', 'slovenly_woman', 'aboulic', 'adverse', 'disprover', 'neoprene', 'undemonstrative', 'brave', 'nebbech', 'unbitter', 'muteness', 'end_of_the_world', 'metrorrhagia', 'onychosis', 'luminescence', 'untrustiness', 'pseudo', 'nephritic', 'synthetic', 'brush', 'undistorted', 'conscience', 'hypogammaglobulinemia', 'unsuspecting', 'resolution', 'mentally_ill', 'luckless', 'derogatory', 'kick', 'shiftiness', 'snide', 'unhardened', 'error', 'danger', 'stormy', 'smashing', 'gutsy', 'underivative', 'frail', 'incensed', 'piteous', 'plight', 'undeniable', 'sophistical', 'slightness', 'citrophilus_mealybug', 'cracker', 'puffy', 'mental_block', 'penalty', 'coxsackievirus', 'alien', 'heterogeneous', 'estrangement', 'pellagra', 'damnable', 'rank', 'forgotten', 'unrealistic', 'execrable', 'smash', 'wrinkle', 'intractable', 'unfruitful', 'schizophrenic', 'beggarly', 'renal_insufficiency', 'unfailing', 'stagnant', 'hypoparathyroidism', 'untruthful', 'heavy-handed', 'nonmagnetic', 'underbred', 'inaccessible', 'sheltered', 'urchin', 'varicosity', 'histiocytosis', 'underdog', 'apologetic', 'swingeing', 'profitless', 'unindustrialised', 'spot', 'delicate', 'amoebiasis', 'unencumbered', 'fiend', 'partial_breach', 'ham-handed', 'remissness', 'lowly', 'professed', 'slaughterous', 'unapproachability', 'preserved', 'unlikeable', 'harmful', 'unequalised', 'unenlivened', 'fall_flat', 'scorn', 'flax_rust', 'light', 'shook', 'untraditional', 'nonreflecting', 'veto', 'unadjusted', 'acute_glossitis', 'phlebitis', 'slanderous', 'dangerousness', 'infamous', 'cardiogenic_shock', 'bemoan', 'irremediable', 'pernicious', 'inedible', 'misunderstand', 'respiratory_distress_syndrome', 'disquiet', 'reserves', 'pro-inflammatory', 'ineffectual', 'immunocompetent', 'flagging', 'independent', 'feodor_mikhailovich_dostoevski', 'unregenerate', 'misquote', 'gothic', 'inferior_pulmonary_vein', 'tackiness', 'cholecystokinin', 'grumpy', 'unsorted', 'stuck-up', 'unfertilized', 'detest', 'rancid', 'keratosis_pilaris', 'begrimed', 'scalenus_syndrome', 'lecture', 'dirtying', 'onus', 'correct', 'forgetful', 'drier', 'objectionable', 'smuttiness', 'corruptive', 'inapt', 'vexing', 'barbarous', 'disconcertion', 'smooth-haired', 'crimson', 'pathologic', 'view', 'maleficent', 'blister', 'lustful', 'air-tight', 'unbuttoned', 'cross', 'inactive', 'simulated', 'spirillum_minus', 'smudgy', 'desensitizing', 'relinquishing', 'tecophilaeacea', 'salacious', 'effortlessness', 'salt', 'noninstitutionalized', 'punctureless', 'supercilious', 'in_time', 'prevaricator', 'nonliving', 'family_tecophilaeacea', 'inexpiable', 'in_the_lurch', 'unjust', 'slip', 'gastroenteritis', 'easiness', 'strained', 'immatureness', 'unsavoury', 'repulsion', 'inextricable', 'amiss', 'bloodiness', 'dissonate', 'inclement', 'free', 'myoclonus_epilepsy', 'unadorned', 'immateriality', 'privileged', 'puzzling', 'mismanage', 'unsocial', 'frosted', 'sharp-set', 'speculative', 'shaking', 'grief', 'giardiasis', 'inanimateness', 'renal_failure', 'abrasive', 'christless', 'queer', 'chintzy', 'spots', 'inextinguishable', 'intransigency', 'uneffective', 'rasping', 'disadvantage', 'in_a_bad_way', 'botch', 'incommensurable', 'chasteness', 'flyer', 'mustiness', 'wrinkleless', 'traumatophobia', 'soggy', 'hesitating', 'harsh', 'wan', 'untoasted', 'incorruptibility', 'unmerchantable', 'lowness', 'mistreat', 'spotted', 'unrecognised', 'turmoil', 'affective_disorder', 'constipation', 'mistrustful', 'family_martyniaceae', 'unprofitableness', 'unwitting', 'incredulous', 'unexceeded', 'ex_gratia', 'fearsome', 'slain', 'infuriating', 'sour', 'atonement', 'fantastical', 'unskilled', 'sit_up', 'assimilatory', 'underperformer', 'lowest', 'stewing', 'fervid', 'torturer', 'laid_up', 'terrific', 'disordered', 'scolding', 'wisconsin_weeping_willow', 'untuneful', 'unstratified', 'clement', 'constipated', 'sober', 'rigid', 'demoralised', 'cheap', 'idol', 'bilious', 'malevolency', 'otiose', 'inexcusable', 'denudate', 'ransacking', 'black', 'disinfection', 'keratosis_blennorrhagica', 'destitute', 'icy', 'stick', 'outraged', 'anisotropic', 'slew', 'repudiate', 'prejudice', 'curdling', 'louse_up', 'agonize', 'meat_grinder', 'stewed', 'uncollectible', 'nonunionised', 'swell', 'anxiety', 'unmanlike', 'unfluctuating', 'dissimulative', 'ailing', 'genus_lappula', 'generalized', 'undeclared', 'blush', 'sperm-filled', 'unworkable', 'theater_in_the_round', 'unresponsive', 'unrelenting', 'obscureness', 'cataclysmic', 'trouncing', 'enuresis', 'nonmusical', 'inaccurate', 'unworldly', 'surging', 'inadmissibility', 'fire-resistive', 'niceness', 'sure-footed', 'un-american', 'frivolity', 'baneful', 'derecognize', 'rag', 'foul_up', 'unrevised', 'sadist', 'maltreatment', 'misfit', 'commercial', 'cleanse', 'expiation', 'mislead', 'fooling', 'diverticulitis', 'sufferance', 'hate', 'unpleasant', 'unsuitable', 'itchy', 'approximate', 'unhelpfulness', 'immotile', 'comforter', 'unavoidability', 'unseeable', 'saved', 'mediocre', 'contriteness', 'endarteritis', 'boorish', 'euphemistic', 'slackness', 'palliative', 'wave_off', 'square', 'burning', 'rinderpest', 'cussedness', 'outrageousness', 'flop', 'detrimental', 'infeasible', 'chew_up', 'vulgar', 'dingy', 'bacon-lettuce-tomato_sandwich', 'beakless', 'unscheduled', 'sootiness', 'veritable', 'excuse', 'unmilitary', 'poverty', 'burning_bush', 'disconsolate', 'gloating', 'brain-fag', 'choleric', 'caddish', 'acerbic', 'preserve', 'bittersweet', 'strain', 'unpasteurised', 'flagitious', 'lacerated', 'inanimate', 'ill-mannered', 'fyodor_mikhailovich_dostoyevsky', 'unquiet', 'aphasic', 'disrespect', 'yokel', 'non-living', 'prurigo', 'frost', 'ashamed', 'damping_off_fungus', 'overflow', 'befuddle', 'mired', 'unlighted', 'infelicitous', 'botched', 'unoriginal', 'impenitent', 'penurious', 'ungracefulness', 'touchy', 'burden', 'through_with', 'fyodor_mikhailovich_dostoevski', 'legal_injury', 'uniformness', 'unenergetic', 'discouraging', 'old_bag', 'dissonance', 'joyful', 'hamlet', 'smelt', 'roughness', 'deprave', 'stunning', 'unequalized', 'dejected', 'corticium_solani', 'vocalic', 'unsounded', 'fuck_up', 'lower-ranking', 'noncritical', 'huffishness', 'color-blind', 'shake_up', 'semiabstract', 'lead_astray', 'gravelly', 'misery', 'malingering', 'conspiracy_of_silence', 'order_ustilaginales', 'snorter', 'cryoanaesthesia', 'pigheaded', 'gutter', 'incommensurate', 'bankrupt', 'unappetising', 'mucky', 'brokenhearted', 'calumniatory', 'unthreatening', 'pathetic', 'drawn', 'negativity', 'awful', 'sharper', 'excise', 'misdeal', 'petty', 'guilty_conscience', 'done_with', 'icky', 'tsuris', 'disingenuousness', 'deficient', 'unpersuadable', 'nonrestrictive', 'unlax', 'erroneous_belief', 'sourness', 'underproduction', 'grim', 'inferior', 'unswept', 'weighty', 'inaccuracy', 'commotion', 'bogey', 'disobliging', 'speechless', 'discomposure', 'psychopathological', 'greasy', 'limitlessness', 'untrusty', 'unknown', 'generalised', 'moth-resistant', 'abjure', 'pertness', 'deceive', 'susurrus', 'infected', 'bawdy', 'stunt', 'unrest', 'ophthalmitis', 'repelling', 'colonel_blimp', 'offerer', 'go-as-you-please', 'megalomanic', 'foreswear', 'foaming', 'reeking', 'inadmissible', 'indelicate', 'malice', 'bush-league', 'cloud', 'uninquiring', 'snootiness', 'unvarnished', 'low-grade', 'bleary', 'shamed', 'intestinal_flu', 'imperviable', 'ornery', 'uncontested', 'boil', 'yenta', 'loads', 'puzzled', 'encumbrance', 'coronary_insufficiency', 'temperate', 'infeasibility', 'rather', 'icteric', 'retracted', 'fraudulence', 'symptomless', 'unexceptionable', 'displeasing', 'untoughened', 'uneasiness', 'unimaginative', 'gymnosporangium_juniperi-virginianae', 'beat-up', 'worn', 'hands-off', 'to-do', 'blt', 'superannuated', 'crossbench', 'deprecative', 'emotional_disturbance', 'limper', 'camp_follower', 'disdainfulness', 'leisurely', 'honest', 'impertinent', 'fibrous_dysplasia_of_bone', 'ungraded', 'flat', 'immaterial', 'scuff', 'concentrated', 'shoddy', 'undeterminable', 'dispatch', 'cholangitis', 'forged', 'improbable', 'jolty', 'speak_out', 'stimulated', 'bypast', 'insouciance', 'oversolicitous', 'dyspnea', 'intermittent_cramp', 'agonized', 'have', 'factitious', 'nonmilitary', 'welcher', 'hepatomegaly', 'borecole', 'negatively', 'imposed', 'passing', 'foreboding', 'wordiness', 'dud', 'atrociously', 'pruritus', 'wickedness', 'lamented', 'unipolar_depression', 'unanswered', 'dyssynergia', 'unforfeitable', 'undernourishment', 'counterintuitive', 'foster_sister', 'unclassified', 'addled', 'lost', 'inalterable', 'gibelike', 'untraveled', 'incorporeality', 'asshole', 'foulness', 'battered', 'non-conducting', 'sorrowfulness', 'truculency', 'mephistophelian', 'obsession', 'acidemia', 'tone-deaf', 'wilt', 'ductless', 'amity', 'ravishment', 'granuloma', 'undecorated', 'coffee_roll', 'fire-resistant', 'changeless', 'tko', 'hackelia', 'neurotic', 'other', 'yet', 'dilute', 'senseless', 'blameworthy', 'haemoglobinopathy', 'inquisitor', 'rampageous', 'rootless', 'rigor', 'extortionate', 'uncollected', 'unmoving', 'sweltry', 'amebic_dysentery', 'choosy', 'genus_melursus', 'invariability', 'arduous', 'humiliating', 'amyloidosis', 'unfertile', 'dim', 'scaleless', 'dislike', 'sound_off', 'silent', 'defensibility', 'pushing', 'tawdry', 'odoriferous', 'genus_phthirius', 'bone_dry', 'scabrous', 'unauthorized', 'pasteurisation', 'flub', 'imbecility', 'colpocystitis', 'bungle', 'kerfuffle', 'bog_down', 'intolerant', 'insensate', 'unadulterated', 'freeman', 'apraxic', 'emptiness', 'cop_out', 'un-get-at-able', 'deep_supporting_fire', 'misgiving', 'spotting', 'bullheaded', 'bane', 'poor-spirited', 'weakness', 'reductio', 'straight', 'profane', 'coxsackie_virus', 'sore-eyed', 'sensibility', 'genus_bacteroides', 'foolproof', 'unpeaceable', 'pseudobulb', 'nonchalant', 'unagitated', 'unappreciative', 'uninspired', 'rickets', 'oligospermia', 'relaxing', 'wistfulness', 'depressive', 'nonenzymatic', 'censure', 'reprobation', 'camp', 'unfavourable', 'uncompassionate', 'raw', 'ease', 'ill', 'unchallengeable', 'ridiculous', 'malodorous', 'stinking_hellebore', 'vitiated', 'arteritis', 'bravery', 'joyous', 'indomitability', 'wail', 'hypobetalipoproteinemia', 'humiliate', 'puny', 'noise_pollution', 'univalent', 'turbulent', 'prejudge', 'unlaced', 'injured_party', 'lappula', 'out_of_stock', 'ill-sorted', 'associatory', 'chilling', 'humiliated', 'taunting', 'incontrovertibility', 'nastiness', 'abstinent', 'irreligiousness', 'unconsolable', 'offend', 'snub', 'imperceptible', 'suffer', 'bruise', 'nonunion', 'unforested', 'new', 'nonallele', 'mischievous', 'hoo-hah', 'fraudulent', 'superciliousness', 'paraesthesia', 'blepharitis', 'bereaved', 'levity', 'uncorrected', 'bald', 'alalia', 'shark', 'manic_disorder', 'effortfulness', 'unwary', 'feeblemindedness', 'dreary', 'orchitis', 'misspelling', 'irreclaimable', 'harmfulness', 'pestiferous', 'unconscious', 'unmanageable', 'founder', 'poised', 'have_the_best', 'demimonde', 'ileitis', 'spasmodic', 'dyspneal', 'lifelessness', 'forswear', 'unfermented', 'order_mallophaga', 'unprofitable', 'blasphemous', 'dreaded', 'trollop', 'mussy', 'mononucleosis'}\n"
          ]
        }
      ]
    },
    {
      "cell_type": "code",
      "execution_count": null,
      "metadata": {
        "colab": {
          "base_uri": "https://localhost:8080/"
        },
        "id": "nhimZcBm6eF8",
        "outputId": "88098d0a-f18b-4ea6-ff5e-f3a6b7883b1c"
      },
      "outputs": [
        {
          "output_type": "stream",
          "name": "stdout",
          "text": [
            "Requirement already satisfied: emoji in /usr/local/lib/python3.10/dist-packages (2.14.0)\n",
            "                            processed_text  emoji_score\n",
            "0                  one girl cat maid pfp 😭          1.0\n",
            "1                     embarrassing lmfao 😭         -3.0\n",
            "2  amp coloured people reading kerimelle 😭         -1.0\n",
            "3      small guards 6feethere way get 65 😭         -3.0\n",
            "4                     actually 59 cm 510 😭         -1.0\n",
            "                                           processed_text  emoji_score\n",
            "316006              trying win cash know get squat though         -2.0\n",
            "316007  lesson learned tennis table tennis badminton u...          0.0\n",
            "316008               picking photos photo shoot wednesday         -2.0\n",
            "316009                                drown naked revenge          0.0\n",
            "316010      new blog post working miniminscom weight loss         -4.0\n"
          ]
        }
      ],
      "source": [
        "!pip install emoji\n",
        "import emoji\n",
        "import re\n",
        "import pandas as pd\n",
        "\n",
        "\n",
        "positive_emoji_list = [\n",
        "    '😊', '😂', '❤️', '😍', '🥰', '😄', '😃', '😆', '😇',\n",
        "    '✨', '🌈', '🥳', '🎉', '🎊', '😌', '🤗', '🌼', '💖',\n",
        "    '😸', '🤩', '😺', '🙌', '👍', '🤝', '🙏', '🎶', '🍀',\n",
        "    '💫', '🌟', '☀️', '🌹', '🥂', '💞', '🍓', '🦋', '🍉',\n",
        "    '😘', '😻', '😋', '🥇', '🏆', '🍧', '🍰', '🍦', '🌸',\n",
        "    '🌻', '🐶', '🐱', '🐰', '🚀', '🌺', '🌙', '🔆', '💗',\n",
        "    '💪', '🎈', '🦄', '😇', '🕊️', '🍕', '🤩', '🧁', '💖',\n",
        "    '🦩', '🎀', '🌻', '🌞', '🐼', '🧸', '🍕', '🤗', '🪴', '🎉'\n",
        "]\n",
        "\n",
        "\n",
        "negative_emoji_list = [\n",
        "    '😢', '😡', '😠', '💔', '😔', '😩', '😣', '😖', '😤',\n",
        "    '😱', '😵', '😷', '🤬', '👎', '💀', '☠️', '🖤', '🩸',\n",
        "    '🌧️', '⚡', '😓', '😥', '🥀', '😒', '😞', '🤯', '😿',\n",
        "    '😔', '🚫', '💔', '😭', '😰', '😳', '😨', '😬', '😩',\n",
        "    '😹', '👺', '🧟‍♂️', '🤮', '😕', '🤢', '🥵', '😤', '💩',\n",
        "    '👿', '🖤', '🩸', '🥀', '😫', '😰', '😵‍💫', '🔪', '🧨',\n",
        "    '🤕', '🧟‍♀️', '😨', '😳', '😞', '💩', '💔', '☠️', '🔪'\n",
        "]\n",
        "\n",
        "\n",
        "strong_positive_keywords = positive_words #['love', 'amazing', 'fantastic', 'great', 'happy', 'joy', 'wonderful', 'best', 'like', 'enjoy']\n",
        "strong_negative_keywords = negative_words #['hate', 'awful', 'terrible', 'bad', 'worst', 'sad', 'angry', 'dislike', 'despise', 'loathe']\n",
        "\n",
        "def calculate_emoji_score(text):\n",
        "    if isinstance(text, str):\n",
        "        score = 0\n",
        "        emojis_in_text = [char for char in text if char in emoji.EMOJI_DATA]\n",
        "        text_lower = text.lower()\n",
        "        for keyword in strong_positive_keywords:\n",
        "            if keyword in text_lower:\n",
        "                score += 2\n",
        "        for keyword in strong_negative_keywords:\n",
        "            if keyword in text_lower:\n",
        "                score -= 2\n",
        "\n",
        "        for e in emojis_in_text:\n",
        "            if e in positive_emoji_list:\n",
        "                score += 1\n",
        "            elif e in negative_emoji_list:\n",
        "                score -= 1\n",
        "\n",
        "        return score\n",
        "\n",
        "\n",
        "df2['emoji_score'] = df2['processed_text'].apply(calculate_emoji_score)\n",
        "\n",
        "# Print sample results\n",
        "print(df2[['processed_text', 'emoji_score']].head())\n",
        "print(df2[['processed_text', 'emoji_score']].tail())\n"
      ]
    },
    {
      "cell_type": "code",
      "execution_count": null,
      "metadata": {
        "id": "YN0ZuZDFtQmD"
      },
      "outputs": [],
      "source": []
    },
    {
      "cell_type": "code",
      "execution_count": null,
      "metadata": {
        "colab": {
          "base_uri": "https://localhost:8080/"
        },
        "id": "PNtbOGcQ8C58",
        "outputId": "8ed96aae-4464-46be-9dd2-617006e3f60c"
      },
      "outputs": [
        {
          "output_type": "stream",
          "name": "stdout",
          "text": [
            "                                                Text  Sentiment  \\\n",
            "0  @honkhaikey this one girl has cat maid q as th...          0   \n",
            "1                          So embarrassing. Lmfao. 😭          0   \n",
            "2  @BibIeCollege &amp; all the coloured people re...          0   \n",
            "3  @Sheer__Opulence Small Guards under 6feet...He...          0   \n",
            "4  @miIflvr I’m actually 5’9 just a cm off of 5’10 😭          0   \n",
            "\n",
            "                            processed_text  \\\n",
            "0                  one girl cat maid pfp 😭   \n",
            "1                     embarrassing lmfao 😭   \n",
            "2  amp coloured people reading kerimelle 😭   \n",
            "3      small guards 6feethere way get 65 😭   \n",
            "4                     actually 59 cm 510 😭   \n",
            "\n",
            "                           text_with_emojis_replaced  emoji_score  \\\n",
            "0         one girl cat maid pfp  loudly_crying_face           1.0   \n",
            "1            embarrassing lmfao  loudly_crying_face          -3.0   \n",
            "2  amp coloured people reading kerimelle  loudly_...         -1.0   \n",
            "3  small guards 6feethere way get 65  loudly_cryi...         -3.0   \n",
            "4            actually 59 cm 510  loudly_crying_face          -1.0   \n",
            "\n",
            "                                    emoji_embeddings  \n",
            "0  [0.7759947, 0.91619855, -0.03053476, 1.7538463...  \n",
            "1  [0.7759947, 0.91619855, -0.03053476, 1.7538463...  \n",
            "2  [0.7759947, 0.91619855, -0.03053476, 1.7538463...  \n",
            "3  [0.7759947, 0.91619855, -0.03053476, 1.7538463...  \n",
            "4  [0.7759947, 0.91619855, -0.03053476, 1.7538463...  \n",
            "                                                     Text  Sentiment  \\\n",
            "316006  @Issascrazyworld I was trying to win some of t...          0   \n",
            "316007  Lesson learned: Tennis, table tennis and badmi...          3   \n",
            "316008  Picking up my photos from my photo shoot this ...          3   \n",
            "316009                      is drown in naked in revenge           0   \n",
            "316010  New blog post: Why isn't it working for me?  -...          0   \n",
            "\n",
            "                                           processed_text  \\\n",
            "316006              trying win cash know get squat though   \n",
            "316007  lesson learned tennis table tennis badminton u...   \n",
            "316008               picking photos photo shoot wednesday   \n",
            "316009                                drown naked revenge   \n",
            "316010      new blog post working miniminscom weight loss   \n",
            "\n",
            "                                text_with_emojis_replaced  emoji_score  \\\n",
            "316006              trying win cash know get squat though         -2.0   \n",
            "316007  lesson learned tennis table tennis badminton u...          0.0   \n",
            "316008               picking photos photo shoot wednesday         -2.0   \n",
            "316009                                drown naked revenge          0.0   \n",
            "316010      new blog post working miniminscom weight loss         -4.0   \n",
            "\n",
            "                                         emoji_embeddings  \n",
            "316006  [0.0, 0.0, 0.0, 0.0, 0.0, 0.0, 0.0, 0.0, 0.0, ...  \n",
            "316007  [0.0, 0.0, 0.0, 0.0, 0.0, 0.0, 0.0, 0.0, 0.0, ...  \n",
            "316008  [0.0, 0.0, 0.0, 0.0, 0.0, 0.0, 0.0, 0.0, 0.0, ...  \n",
            "316009  [0.0, 0.0, 0.0, 0.0, 0.0, 0.0, 0.0, 0.0, 0.0, ...  \n",
            "316010  [0.0, 0.0, 0.0, 0.0, 0.0, 0.0, 0.0, 0.0, 0.0, ...  \n"
          ]
        }
      ],
      "source": [
        "import numpy as np\n",
        "\n",
        "def load_emoji2vec(embedding_file):\n",
        "    emoji_embeddings = {}\n",
        "    with open(embedding_file, 'r', encoding='utf-8') as f:\n",
        "        for line in f:\n",
        "            values = line.split()\n",
        "            emoji = values[0]\n",
        "            vector = np.asarray(values[1:], \"float32\")\n",
        "            emoji_embeddings[emoji] = vector\n",
        "    return emoji_embeddings\n",
        "\n",
        "emoji2vec = load_emoji2vec('/content/drive/MyDrive/emoji2vec.txt')\n",
        "\n",
        "def get_emoji_embeddings(text):\n",
        "  if isinstance(text, str):\n",
        "    embeddings = []\n",
        "    for char in text:\n",
        "        if char in emoji2vec:\n",
        "            embeddings.append(emoji2vec[char])\n",
        "    if embeddings:\n",
        "        return np.mean(embeddings, axis=0)\n",
        "    else:\n",
        "        return np.zeros(300)\n",
        "\n",
        "df2['emoji_embeddings'] = df2['processed_text'].apply(get_emoji_embeddings)\n",
        "print(df2.head())\n",
        "print(df2.tail())"
      ]
    },
    {
      "cell_type": "code",
      "execution_count": null,
      "metadata": {
        "id": "BDC9jbB4tRbT"
      },
      "outputs": [],
      "source": []
    },
    {
      "cell_type": "code",
      "execution_count": null,
      "metadata": {
        "id": "NZSHvJtx-t5S"
      },
      "outputs": [],
      "source": [
        "from sklearn.feature_extraction.text import TfidfVectorizer\n",
        "from sklearn.model_selection import train_test_split\n",
        "import numpy as np\n",
        "\n",
        "\n",
        "df2 = df2.dropna(subset=['text_with_emojis_replaced'])\n",
        "\n",
        "vectorizer = TfidfVectorizer(max_features=5000)\n",
        "X_text = vectorizer.fit_transform(df2['text_with_emojis_replaced'])\n",
        "\n",
        "# Convert emoji embeddings to a matrix format\n",
        "X_emoji = np.vstack(df2['emoji_embeddings'].values)\n",
        "\n",
        "# Combine text vectors and emoji embeddings\n",
        "X_combined = np.hstack([X_text.toarray(), X_emoji])\n",
        "\n",
        "y = df2['Sentiment'].values\n",
        "X_train, X_test, y_train, y_test = train_test_split(X_combined, y, test_size=0.2, random_state=42)\n",
        "print(X_text)\n",
        "\n",
        "\n",
        "\n"
      ]
    },
    {
      "cell_type": "code",
      "execution_count": null,
      "metadata": {
        "colab": {
          "base_uri": "https://localhost:8080/"
        },
        "id": "LGdPOnck-Uzl",
        "outputId": "d195b5c7-676c-46b1-f5c3-68ee68a5d308"
      },
      "outputs": [
        {
          "name": "stdout",
          "output_type": "stream",
          "text": [
            "BNB Accuracy: 0.7202023395510592, F1: 0.7256976517504977\n"
          ]
        }
      ],
      "source": [
        "from sklearn.naive_bayes import BernoulliNB\n",
        "from sklearn.svm import SVC\n",
        "from sklearn.linear_model import LogisticRegression\n",
        "from sklearn.metrics import accuracy_score, f1_score\n",
        "\n",
        "bnb = BernoulliNB()\n",
        "svm = SVC()\n",
        "lr = LogisticRegression(max_iter=1000)\n",
        "\n",
        "\n",
        "bnb.fit(X_train, y_train)\n",
        "bnb_preds = bnb.predict(X_test)\n",
        "print(f\"BNB Accuracy: {accuracy_score(y_test, bnb_preds)}, F1: {f1_score(y_test, bnb_preds, average='weighted')}\")\n",
        "\n",
        "svm.fit(X_train, y_train)\n",
        "svm_preds = svm.predict(X_test)\n",
        "print(f\"SVM Accuracy: {accuracy_score(y_test, svm_preds)}, F1: {f1_score(y_test, svm_preds, average='weighted')}\")\n",
        "\n",
        "lr.fit(X_train, y_train)\n",
        "lr_preds = lr.predict(X_test)\n",
        "test=\"\"\n",
        "print(f\"LR Accuracy: {accuracy_score(y_test, lr_preds)}, F1: {f1_score(y_test, lr_preds, average='weighted')}\")\n"
      ]
    },
    {
      "cell_type": "code",
      "execution_count": null,
      "metadata": {
        "id": "T4VaJazm_HQb"
      },
      "outputs": [],
      "source": [
        "from sklearn.feature_extraction.text import TfidfVectorizer\n",
        "\n",
        "vectorizer = TfidfVectorizer(max_features=5000)  # Set the max features as desired\n",
        "X_text = vectorizer.fit_transform(df2['text_with_emojis_replaced'])\n",
        "\n",
        "# Get vocabulary size\n",
        "vocab_size = len(vectorizer.vocabulary_)\n",
        "\n",
        "# Define max sequence length\n",
        "max_seq_length = 100\n",
        "\n",
        "from tensorflow.keras.preprocessing.sequence import pad_sequences\n",
        "\n",
        "\n",
        "X_train_padded = pad_sequences(X_train, maxlen=max_seq_length)\n",
        "X_test_padded = pad_sequences(X_test, maxlen=max_seq_length)\n"
      ]
    },
    {
      "cell_type": "code",
      "execution_count": null,
      "metadata": {
        "colab": {
          "base_uri": "https://localhost:8080/"
        },
        "id": "7nmoPCXK_nZH",
        "outputId": "61abe8b6-de9e-43eb-cfa3-f522739ac705"
      },
      "outputs": [
        {
          "name": "stdout",
          "output_type": "stream",
          "text": [
            "Epoch 1/5\n",
            "\u001b[1m396/396\u001b[0m \u001b[32m━━━━━━━━━━━━━━━━━━━━\u001b[0m\u001b[37m\u001b[0m \u001b[1m232s\u001b[0m 571ms/step - accuracy: 0.6146 - loss: 0.8405 - val_accuracy: 0.7126 - val_loss: 0.6446\n",
            "Epoch 2/5\n",
            "\u001b[1m396/396\u001b[0m \u001b[32m━━━━━━━━━━━━━━━━━━━━\u001b[0m\u001b[37m\u001b[0m \u001b[1m261s\u001b[0m 570ms/step - accuracy: 0.7017 - loss: 0.6417 - val_accuracy: 0.7161 - val_loss: 0.6177\n",
            "Epoch 3/5\n",
            "\u001b[1m396/396\u001b[0m \u001b[32m━━━━━━━━━━━━━━━━━━━━\u001b[0m\u001b[37m\u001b[0m \u001b[1m248s\u001b[0m 627ms/step - accuracy: 0.7001 - loss: 0.6417 - val_accuracy: 0.7167 - val_loss: 0.6218\n",
            "Epoch 4/5\n",
            "\u001b[1m396/396\u001b[0m \u001b[32m━━━━━━━━━━━━━━━━━━━━\u001b[0m\u001b[37m\u001b[0m \u001b[1m270s\u001b[0m 648ms/step - accuracy: 0.7066 - loss: 0.6266 - val_accuracy: 0.7148 - val_loss: 0.6342\n",
            "Epoch 5/5\n",
            "\u001b[1m396/396\u001b[0m \u001b[32m━━━━━━━━━━━━━━━━━━━━\u001b[0m\u001b[37m\u001b[0m \u001b[1m228s\u001b[0m 577ms/step - accuracy: 0.7153 - loss: 0.6320 - val_accuracy: 0.7189 - val_loss: 0.6042\n",
            "\u001b[1m99/99\u001b[0m \u001b[32m━━━━━━━━━━━━━━━━━━━━\u001b[0m\u001b[37m\u001b[0m \u001b[1m13s\u001b[0m 129ms/step\n",
            "DL Model Accuracy: 0.7189377173569396, F1: 0.7270869369871323\n"
          ]
        }
      ],
      "source": [
        "import tensorflow as tf\n",
        "  from tensorflow.keras.layers import Embedding, LSTM, Bidirectional, Conv1D, MaxPooling1D, Dense, Dropout, Flatten\n",
        "  from tensorflow.keras.models import Sequential\n",
        "  from sklearn.metrics import accuracy_score, f1_score\n",
        "\n",
        "\n",
        "  num_classes = len(np.unique(y_train))\n",
        "\n",
        "  # Building the BiLSTM-CNN Model for multiclass classification\n",
        "  model = Sequential([\n",
        "      Embedding(input_dim=vocab_size, output_dim=300),\n",
        "      Bidirectional(LSTM(128, return_sequences=True)),\n",
        "      Conv1D(64, kernel_size=5, activation='relu'),\n",
        "      MaxPooling1D(pool_size=2),\n",
        "      Flatten(),\n",
        "      Dense(64, activation='relu'),\n",
        "      Dropout(0.5),\n",
        "      Dense(num_classes, activation='softmax')  # Use softmax for multiclass classification\n",
        "  ])\n",
        "\n",
        "  # Compile the model with categorical crossentropy loss\n",
        "  model.compile(optimizer='adam', loss='sparse_categorical_crossentropy', metrics=['accuracy'])\n",
        "\n",
        "\n",
        "  # Training the model\n",
        "  model.fit(X_train_padded, y_train, validation_data=(X_test_padded, y_test), epochs=5, batch_size=32)\n",
        "\n",
        "  # Evaluating the model\n",
        "  dl_preds = model.predict(X_test_padded)\n",
        "  dl_preds = np.argmax(dl_preds, axis=1)  # Convert probabilities to class labels\n",
        "  print(f\"DL Model Accuracy: {accuracy_score(y_test, dl_preds)}, F1: {f1_score(y_test, dl_preds, average='weighted')}\")\n",
        "\n"
      ]
    },
    {
      "cell_type": "code",
      "execution_count": null,
      "metadata": {
        "colab": {
          "base_uri": "https://localhost:8080/",
          "height": 801
        },
        "id": "HiqJ1gmmX07t",
        "outputId": "0727d02a-5fba-4c51-db96-d47994b9078f"
      },
      "outputs": [
        {
          "output_type": "display_data",
          "data": {
            "text/plain": [
              "\u001b[1mModel: \"functional\"\u001b[0m\n"
            ],
            "text/html": [
              "<pre style=\"white-space:pre;overflow-x:auto;line-height:normal;font-family:Menlo,'DejaVu Sans Mono',consolas,'Courier New',monospace\"><span style=\"font-weight: bold\">Model: \"functional\"</span>\n",
              "</pre>\n"
            ]
          },
          "metadata": {}
        },
        {
          "output_type": "display_data",
          "data": {
            "text/plain": [
              "┏━━━━━━━━━━━━━━━━━━━━━━━━━━━┳━━━━━━━━━━━━━━━━━━━━━━━━┳━━━━━━━━━━━━━━━━┳━━━━━━━━━━━━━━━━━━━━━━━━┓\n",
              "┃\u001b[1m \u001b[0m\u001b[1mLayer (type)             \u001b[0m\u001b[1m \u001b[0m┃\u001b[1m \u001b[0m\u001b[1mOutput Shape          \u001b[0m\u001b[1m \u001b[0m┃\u001b[1m \u001b[0m\u001b[1m       Param #\u001b[0m\u001b[1m \u001b[0m┃\u001b[1m \u001b[0m\u001b[1mConnected to          \u001b[0m\u001b[1m \u001b[0m┃\n",
              "┡━━━━━━━━━━━━━━━━━━━━━━━━━━━╇━━━━━━━━━━━━━━━━━━━━━━━━╇━━━━━━━━━━━━━━━━╇━━━━━━━━━━━━━━━━━━━━━━━━┩\n",
              "│ text_input (\u001b[38;5;33mInputLayer\u001b[0m)   │ (\u001b[38;5;45mNone\u001b[0m, \u001b[38;5;34m100\u001b[0m)            │              \u001b[38;5;34m0\u001b[0m │ -                      │\n",
              "├───────────────────────────┼────────────────────────┼────────────────┼────────────────────────┤\n",
              "│ embedding (\u001b[38;5;33mEmbedding\u001b[0m)     │ (\u001b[38;5;45mNone\u001b[0m, \u001b[38;5;34m100\u001b[0m, \u001b[38;5;34m300\u001b[0m)       │      \u001b[38;5;34m1,500,000\u001b[0m │ text_input[\u001b[38;5;34m0\u001b[0m][\u001b[38;5;34m0\u001b[0m]       │\n",
              "├───────────────────────────┼────────────────────────┼────────────────┼────────────────────────┤\n",
              "│ bidirectional             │ (\u001b[38;5;45mNone\u001b[0m, \u001b[38;5;34m100\u001b[0m, \u001b[38;5;34m256\u001b[0m)       │        \u001b[38;5;34m439,296\u001b[0m │ embedding[\u001b[38;5;34m0\u001b[0m][\u001b[38;5;34m0\u001b[0m]        │\n",
              "│ (\u001b[38;5;33mBidirectional\u001b[0m)           │                        │                │                        │\n",
              "├───────────────────────────┼────────────────────────┼────────────────┼────────────────────────┤\n",
              "│ conv1d (\u001b[38;5;33mConv1D\u001b[0m)           │ (\u001b[38;5;45mNone\u001b[0m, \u001b[38;5;34m96\u001b[0m, \u001b[38;5;34m64\u001b[0m)         │         \u001b[38;5;34m81,984\u001b[0m │ bidirectional[\u001b[38;5;34m0\u001b[0m][\u001b[38;5;34m0\u001b[0m]    │\n",
              "├───────────────────────────┼────────────────────────┼────────────────┼────────────────────────┤\n",
              "│ max_pooling1d             │ (\u001b[38;5;45mNone\u001b[0m, \u001b[38;5;34m48\u001b[0m, \u001b[38;5;34m64\u001b[0m)         │              \u001b[38;5;34m0\u001b[0m │ conv1d[\u001b[38;5;34m0\u001b[0m][\u001b[38;5;34m0\u001b[0m]           │\n",
              "│ (\u001b[38;5;33mMaxPooling1D\u001b[0m)            │                        │                │                        │\n",
              "├───────────────────────────┼────────────────────────┼────────────────┼────────────────────────┤\n",
              "│ flatten (\u001b[38;5;33mFlatten\u001b[0m)         │ (\u001b[38;5;45mNone\u001b[0m, \u001b[38;5;34m3072\u001b[0m)           │              \u001b[38;5;34m0\u001b[0m │ max_pooling1d[\u001b[38;5;34m0\u001b[0m][\u001b[38;5;34m0\u001b[0m]    │\n",
              "├───────────────────────────┼────────────────────────┼────────────────┼────────────────────────┤\n",
              "│ emoji_input (\u001b[38;5;33mInputLayer\u001b[0m)  │ (\u001b[38;5;45mNone\u001b[0m, \u001b[38;5;34m300\u001b[0m)            │              \u001b[38;5;34m0\u001b[0m │ -                      │\n",
              "├───────────────────────────┼────────────────────────┼────────────────┼────────────────────────┤\n",
              "│ emoji_score_input         │ (\u001b[38;5;45mNone\u001b[0m, \u001b[38;5;34m1\u001b[0m)              │              \u001b[38;5;34m0\u001b[0m │ -                      │\n",
              "│ (\u001b[38;5;33mInputLayer\u001b[0m)              │                        │                │                        │\n",
              "├───────────────────────────┼────────────────────────┼────────────────┼────────────────────────┤\n",
              "│ concatenate (\u001b[38;5;33mConcatenate\u001b[0m) │ (\u001b[38;5;45mNone\u001b[0m, \u001b[38;5;34m3373\u001b[0m)           │              \u001b[38;5;34m0\u001b[0m │ flatten[\u001b[38;5;34m0\u001b[0m][\u001b[38;5;34m0\u001b[0m],         │\n",
              "│                           │                        │                │ emoji_input[\u001b[38;5;34m0\u001b[0m][\u001b[38;5;34m0\u001b[0m],     │\n",
              "│                           │                        │                │ emoji_score_input[\u001b[38;5;34m0\u001b[0m][\u001b[38;5;34m…\u001b[0m │\n",
              "├───────────────────────────┼────────────────────────┼────────────────┼────────────────────────┤\n",
              "│ dense (\u001b[38;5;33mDense\u001b[0m)             │ (\u001b[38;5;45mNone\u001b[0m, \u001b[38;5;34m64\u001b[0m)             │        \u001b[38;5;34m215,936\u001b[0m │ concatenate[\u001b[38;5;34m0\u001b[0m][\u001b[38;5;34m0\u001b[0m]      │\n",
              "├───────────────────────────┼────────────────────────┼────────────────┼────────────────────────┤\n",
              "│ dropout (\u001b[38;5;33mDropout\u001b[0m)         │ (\u001b[38;5;45mNone\u001b[0m, \u001b[38;5;34m64\u001b[0m)             │              \u001b[38;5;34m0\u001b[0m │ dense[\u001b[38;5;34m0\u001b[0m][\u001b[38;5;34m0\u001b[0m]            │\n",
              "├───────────────────────────┼────────────────────────┼────────────────┼────────────────────────┤\n",
              "│ dense_1 (\u001b[38;5;33mDense\u001b[0m)           │ (\u001b[38;5;45mNone\u001b[0m, \u001b[38;5;34m4\u001b[0m)              │            \u001b[38;5;34m260\u001b[0m │ dropout[\u001b[38;5;34m0\u001b[0m][\u001b[38;5;34m0\u001b[0m]          │\n",
              "└───────────────────────────┴────────────────────────┴────────────────┴────────────────────────┘\n"
            ],
            "text/html": [
              "<pre style=\"white-space:pre;overflow-x:auto;line-height:normal;font-family:Menlo,'DejaVu Sans Mono',consolas,'Courier New',monospace\">┏━━━━━━━━━━━━━━━━━━━━━━━━━━━┳━━━━━━━━━━━━━━━━━━━━━━━━┳━━━━━━━━━━━━━━━━┳━━━━━━━━━━━━━━━━━━━━━━━━┓\n",
              "┃<span style=\"font-weight: bold\"> Layer (type)              </span>┃<span style=\"font-weight: bold\"> Output Shape           </span>┃<span style=\"font-weight: bold\">        Param # </span>┃<span style=\"font-weight: bold\"> Connected to           </span>┃\n",
              "┡━━━━━━━━━━━━━━━━━━━━━━━━━━━╇━━━━━━━━━━━━━━━━━━━━━━━━╇━━━━━━━━━━━━━━━━╇━━━━━━━━━━━━━━━━━━━━━━━━┩\n",
              "│ text_input (<span style=\"color: #0087ff; text-decoration-color: #0087ff\">InputLayer</span>)   │ (<span style=\"color: #00d7ff; text-decoration-color: #00d7ff\">None</span>, <span style=\"color: #00af00; text-decoration-color: #00af00\">100</span>)            │              <span style=\"color: #00af00; text-decoration-color: #00af00\">0</span> │ -                      │\n",
              "├───────────────────────────┼────────────────────────┼────────────────┼────────────────────────┤\n",
              "│ embedding (<span style=\"color: #0087ff; text-decoration-color: #0087ff\">Embedding</span>)     │ (<span style=\"color: #00d7ff; text-decoration-color: #00d7ff\">None</span>, <span style=\"color: #00af00; text-decoration-color: #00af00\">100</span>, <span style=\"color: #00af00; text-decoration-color: #00af00\">300</span>)       │      <span style=\"color: #00af00; text-decoration-color: #00af00\">1,500,000</span> │ text_input[<span style=\"color: #00af00; text-decoration-color: #00af00\">0</span>][<span style=\"color: #00af00; text-decoration-color: #00af00\">0</span>]       │\n",
              "├───────────────────────────┼────────────────────────┼────────────────┼────────────────────────┤\n",
              "│ bidirectional             │ (<span style=\"color: #00d7ff; text-decoration-color: #00d7ff\">None</span>, <span style=\"color: #00af00; text-decoration-color: #00af00\">100</span>, <span style=\"color: #00af00; text-decoration-color: #00af00\">256</span>)       │        <span style=\"color: #00af00; text-decoration-color: #00af00\">439,296</span> │ embedding[<span style=\"color: #00af00; text-decoration-color: #00af00\">0</span>][<span style=\"color: #00af00; text-decoration-color: #00af00\">0</span>]        │\n",
              "│ (<span style=\"color: #0087ff; text-decoration-color: #0087ff\">Bidirectional</span>)           │                        │                │                        │\n",
              "├───────────────────────────┼────────────────────────┼────────────────┼────────────────────────┤\n",
              "│ conv1d (<span style=\"color: #0087ff; text-decoration-color: #0087ff\">Conv1D</span>)           │ (<span style=\"color: #00d7ff; text-decoration-color: #00d7ff\">None</span>, <span style=\"color: #00af00; text-decoration-color: #00af00\">96</span>, <span style=\"color: #00af00; text-decoration-color: #00af00\">64</span>)         │         <span style=\"color: #00af00; text-decoration-color: #00af00\">81,984</span> │ bidirectional[<span style=\"color: #00af00; text-decoration-color: #00af00\">0</span>][<span style=\"color: #00af00; text-decoration-color: #00af00\">0</span>]    │\n",
              "├───────────────────────────┼────────────────────────┼────────────────┼────────────────────────┤\n",
              "│ max_pooling1d             │ (<span style=\"color: #00d7ff; text-decoration-color: #00d7ff\">None</span>, <span style=\"color: #00af00; text-decoration-color: #00af00\">48</span>, <span style=\"color: #00af00; text-decoration-color: #00af00\">64</span>)         │              <span style=\"color: #00af00; text-decoration-color: #00af00\">0</span> │ conv1d[<span style=\"color: #00af00; text-decoration-color: #00af00\">0</span>][<span style=\"color: #00af00; text-decoration-color: #00af00\">0</span>]           │\n",
              "│ (<span style=\"color: #0087ff; text-decoration-color: #0087ff\">MaxPooling1D</span>)            │                        │                │                        │\n",
              "├───────────────────────────┼────────────────────────┼────────────────┼────────────────────────┤\n",
              "│ flatten (<span style=\"color: #0087ff; text-decoration-color: #0087ff\">Flatten</span>)         │ (<span style=\"color: #00d7ff; text-decoration-color: #00d7ff\">None</span>, <span style=\"color: #00af00; text-decoration-color: #00af00\">3072</span>)           │              <span style=\"color: #00af00; text-decoration-color: #00af00\">0</span> │ max_pooling1d[<span style=\"color: #00af00; text-decoration-color: #00af00\">0</span>][<span style=\"color: #00af00; text-decoration-color: #00af00\">0</span>]    │\n",
              "├───────────────────────────┼────────────────────────┼────────────────┼────────────────────────┤\n",
              "│ emoji_input (<span style=\"color: #0087ff; text-decoration-color: #0087ff\">InputLayer</span>)  │ (<span style=\"color: #00d7ff; text-decoration-color: #00d7ff\">None</span>, <span style=\"color: #00af00; text-decoration-color: #00af00\">300</span>)            │              <span style=\"color: #00af00; text-decoration-color: #00af00\">0</span> │ -                      │\n",
              "├───────────────────────────┼────────────────────────┼────────────────┼────────────────────────┤\n",
              "│ emoji_score_input         │ (<span style=\"color: #00d7ff; text-decoration-color: #00d7ff\">None</span>, <span style=\"color: #00af00; text-decoration-color: #00af00\">1</span>)              │              <span style=\"color: #00af00; text-decoration-color: #00af00\">0</span> │ -                      │\n",
              "│ (<span style=\"color: #0087ff; text-decoration-color: #0087ff\">InputLayer</span>)              │                        │                │                        │\n",
              "├───────────────────────────┼────────────────────────┼────────────────┼────────────────────────┤\n",
              "│ concatenate (<span style=\"color: #0087ff; text-decoration-color: #0087ff\">Concatenate</span>) │ (<span style=\"color: #00d7ff; text-decoration-color: #00d7ff\">None</span>, <span style=\"color: #00af00; text-decoration-color: #00af00\">3373</span>)           │              <span style=\"color: #00af00; text-decoration-color: #00af00\">0</span> │ flatten[<span style=\"color: #00af00; text-decoration-color: #00af00\">0</span>][<span style=\"color: #00af00; text-decoration-color: #00af00\">0</span>],         │\n",
              "│                           │                        │                │ emoji_input[<span style=\"color: #00af00; text-decoration-color: #00af00\">0</span>][<span style=\"color: #00af00; text-decoration-color: #00af00\">0</span>],     │\n",
              "│                           │                        │                │ emoji_score_input[<span style=\"color: #00af00; text-decoration-color: #00af00\">0</span>][<span style=\"color: #00af00; text-decoration-color: #00af00\">…</span> │\n",
              "├───────────────────────────┼────────────────────────┼────────────────┼────────────────────────┤\n",
              "│ dense (<span style=\"color: #0087ff; text-decoration-color: #0087ff\">Dense</span>)             │ (<span style=\"color: #00d7ff; text-decoration-color: #00d7ff\">None</span>, <span style=\"color: #00af00; text-decoration-color: #00af00\">64</span>)             │        <span style=\"color: #00af00; text-decoration-color: #00af00\">215,936</span> │ concatenate[<span style=\"color: #00af00; text-decoration-color: #00af00\">0</span>][<span style=\"color: #00af00; text-decoration-color: #00af00\">0</span>]      │\n",
              "├───────────────────────────┼────────────────────────┼────────────────┼────────────────────────┤\n",
              "│ dropout (<span style=\"color: #0087ff; text-decoration-color: #0087ff\">Dropout</span>)         │ (<span style=\"color: #00d7ff; text-decoration-color: #00d7ff\">None</span>, <span style=\"color: #00af00; text-decoration-color: #00af00\">64</span>)             │              <span style=\"color: #00af00; text-decoration-color: #00af00\">0</span> │ dense[<span style=\"color: #00af00; text-decoration-color: #00af00\">0</span>][<span style=\"color: #00af00; text-decoration-color: #00af00\">0</span>]            │\n",
              "├───────────────────────────┼────────────────────────┼────────────────┼────────────────────────┤\n",
              "│ dense_1 (<span style=\"color: #0087ff; text-decoration-color: #0087ff\">Dense</span>)           │ (<span style=\"color: #00d7ff; text-decoration-color: #00d7ff\">None</span>, <span style=\"color: #00af00; text-decoration-color: #00af00\">4</span>)              │            <span style=\"color: #00af00; text-decoration-color: #00af00\">260</span> │ dropout[<span style=\"color: #00af00; text-decoration-color: #00af00\">0</span>][<span style=\"color: #00af00; text-decoration-color: #00af00\">0</span>]          │\n",
              "└───────────────────────────┴────────────────────────┴────────────────┴────────────────────────┘\n",
              "</pre>\n"
            ]
          },
          "metadata": {}
        },
        {
          "output_type": "display_data",
          "data": {
            "text/plain": [
              "\u001b[1m Total params: \u001b[0m\u001b[38;5;34m2,237,476\u001b[0m (8.54 MB)\n"
            ],
            "text/html": [
              "<pre style=\"white-space:pre;overflow-x:auto;line-height:normal;font-family:Menlo,'DejaVu Sans Mono',consolas,'Courier New',monospace\"><span style=\"font-weight: bold\"> Total params: </span><span style=\"color: #00af00; text-decoration-color: #00af00\">2,237,476</span> (8.54 MB)\n",
              "</pre>\n"
            ]
          },
          "metadata": {}
        },
        {
          "output_type": "display_data",
          "data": {
            "text/plain": [
              "\u001b[1m Trainable params: \u001b[0m\u001b[38;5;34m2,237,476\u001b[0m (8.54 MB)\n"
            ],
            "text/html": [
              "<pre style=\"white-space:pre;overflow-x:auto;line-height:normal;font-family:Menlo,'DejaVu Sans Mono',consolas,'Courier New',monospace\"><span style=\"font-weight: bold\"> Trainable params: </span><span style=\"color: #00af00; text-decoration-color: #00af00\">2,237,476</span> (8.54 MB)\n",
              "</pre>\n"
            ]
          },
          "metadata": {}
        },
        {
          "output_type": "display_data",
          "data": {
            "text/plain": [
              "\u001b[1m Non-trainable params: \u001b[0m\u001b[38;5;34m0\u001b[0m (0.00 B)\n"
            ],
            "text/html": [
              "<pre style=\"white-space:pre;overflow-x:auto;line-height:normal;font-family:Menlo,'DejaVu Sans Mono',consolas,'Courier New',monospace\"><span style=\"font-weight: bold\"> Non-trainable params: </span><span style=\"color: #00af00; text-decoration-color: #00af00\">0</span> (0.00 B)\n",
              "</pre>\n"
            ]
          },
          "metadata": {}
        },
        {
          "output_type": "stream",
          "name": "stdout",
          "text": [
            "Epoch 1/5\n",
            "\u001b[1m396/396\u001b[0m \u001b[32m━━━━━━━━━━━━━━━━━━━━\u001b[0m\u001b[37m\u001b[0m \u001b[1m227s\u001b[0m 552ms/step - accuracy: 0.6986 - loss: 0.6853 - val_accuracy: 0.7215 - val_loss: 0.6223\n",
            "Epoch 2/5\n",
            "\u001b[1m396/396\u001b[0m \u001b[32m━━━━━━━━━━━━━━━━━━━━\u001b[0m\u001b[37m\u001b[0m \u001b[1m213s\u001b[0m 539ms/step - accuracy: 0.7100 - loss: 0.6214 - val_accuracy: 0.7227 - val_loss: 0.6048\n",
            "Epoch 3/5\n",
            "\u001b[1m396/396\u001b[0m \u001b[32m━━━━━━━━━━━━━━━━━━━━\u001b[0m\u001b[37m\u001b[0m \u001b[1m214s\u001b[0m 541ms/step - accuracy: 0.7131 - loss: 0.6246 - val_accuracy: 0.7199 - val_loss: 0.6029\n",
            "Epoch 4/5\n",
            "\u001b[1m396/396\u001b[0m \u001b[32m━━━━━━━━━━━━━━━━━━━━\u001b[0m\u001b[37m\u001b[0m \u001b[1m269s\u001b[0m 559ms/step - accuracy: 0.7239 - loss: 0.6086 - val_accuracy: 0.7215 - val_loss: 0.5999\n",
            "Epoch 5/5\n",
            "\u001b[1m396/396\u001b[0m \u001b[32m━━━━━━━━━━━━━━━━━━━━\u001b[0m\u001b[37m\u001b[0m \u001b[1m263s\u001b[0m 562ms/step - accuracy: 0.7223 - loss: 0.5939 - val_accuracy: 0.7237 - val_loss: 0.6028\n",
            "\u001b[1m99/99\u001b[0m \u001b[32m━━━━━━━━━━━━━━━━━━━━\u001b[0m\u001b[37m\u001b[0m \u001b[1m14s\u001b[0m 135ms/step\n",
            "DL Model Accuracy: 0.7236800505848877, F1: 0.731964406596462\n"
          ]
        }
      ],
      "source": [
        "import numpy as np\n",
        "import tensorflow as tf\n",
        "from sklearn.feature_extraction.text import TfidfVectorizer\n",
        "from sklearn.model_selection import train_test_split\n",
        "from tensorflow.keras.preprocessing.sequence import pad_sequences\n",
        "from tensorflow.keras.layers import Embedding, LSTM, Bidirectional, Conv1D, MaxPooling1D, Dense, Dropout, Flatten, Concatenate, Input\n",
        "from tensorflow.keras.models import Model\n",
        "from sklearn.metrics import accuracy_score, f1_score\n",
        "\n",
        "\n",
        "vectorizer = TfidfVectorizer(max_features=5000)\n",
        "X_text = vectorizer.fit_transform(df2['text_with_emojis_replaced'])\n",
        "\n",
        "\n",
        "vocab_size = len(vectorizer.vocabulary_)\n",
        "\n",
        "\n",
        "max_seq_length = 100\n",
        "\n",
        "X_text_array = X_text.toarray()\n",
        "X_text_padded = pad_sequences(X_text_array, maxlen=max_seq_length, padding='post')\n",
        "X_emoji_embeddings = np.vstack(df2['emoji_embeddings'].values)\n",
        "X_emoji_scores = df2['emoji_score'].values\n",
        "X_combined = np.hstack([X_text_padded, X_emoji_embeddings])\n",
        "y = df2['Sentiment'].values\n",
        "\n",
        "\n",
        "X_train_combined, X_test_combined, y_train, y_test = train_test_split(X_combined, y, test_size=0.2, random_state=42)\n",
        "X_train_padded = X_train_combined[:, :max_seq_length]\n",
        "X_train_emoji_embeddings = X_train_combined[:, max_seq_length:max_seq_length+300]\n",
        "X_train_emoji_scores = X_train_combined[:, -1]\n",
        "\n",
        "X_test_padded = X_test_combined[:, :max_seq_length]\n",
        "X_test_emoji_embeddings = X_test_combined[:, max_seq_length:max_seq_length+300]\n",
        "X_test_emoji_scores = X_test_combined[:, -1]  g\n",
        "\n",
        "num_classes = len(np.unique(y_train))\n",
        "\n",
        "text_input = Input(shape=(max_seq_length,), name='text_input')\n",
        "emoji_input = Input(shape=(300,), name='emoji_input')\n",
        "emoji_score_input = Input(shape=(1,), name='emoji_score_input')\n",
        "\n",
        "embedding_layer = Embedding(input_dim=vocab_size, output_dim=300)(text_input)  # Use the vocabulary size from TF-IDF\n",
        "bilstm = Bidirectional(LSTM(128, return_sequences=True))(embedding_layer)\n",
        "conv1d = Conv1D(64, kernel_size=5, activation='relu')(bilstm)\n",
        "maxpool = MaxPooling1D(pool_size=2)(conv1d)\n",
        "flatten = Flatten()(maxpool)\n",
        "\n",
        "\n",
        "combined_features = Concatenate()([flatten, emoji_input, emoji_score_input])\n",
        "\n",
        "\n",
        "dense1 = Dense(64, activation='relu')(combined_features)\n",
        "dropout = Dropout(0.5)(dense1)\n",
        "output = Dense(num_classes, activation='softmax')(dropout)  # For multiclass classification\n",
        "\n",
        "model = Model(inputs=[text_input, emoji_input, emoji_score_input], outputs=output)\n",
        "\n",
        "model.compile(optimizer='adam', loss='sparse_categorical_crossentropy', metrics=['accuracy'])\n",
        "model.summary()\n",
        "model.fit([X_train_padded, X_train_emoji_embeddings, X_train_emoji_scores], y_train,\n",
        "          validation_data=([X_test_padded, X_test_emoji_embeddings, X_test_emoji_scores], y_test),\n",
        "          epochs=5, batch_size=32)\n",
        "\n",
        "dl_preds = model.predict([X_test_padded, X_test_emoji_embeddings, X_test_emoji_scores])\n",
        "dl_preds = np.argmax(dl_preds, axis=1)  # Convert probabilities to class labels\n",
        "\n",
        "\n",
        "print(f\"DL Model Accuracy: {accuracy_score(y_test, dl_preds)}, F1: {f1_score(y_test, dl_preds, average='weighted')}\")\n",
        "\n",
        "\n"
      ]
    },
    {
      "cell_type": "code",
      "source": [
        "# using glove and experimenting more with the model\n",
        "import kagglehub\n",
        "import numpy as np\n",
        "import tensorflow as tf\n",
        "from sklearn.model_selection import train_test_split\n",
        "from tensorflow.keras.preprocessing.text import Tokenizer\n",
        "from tensorflow.keras.preprocessing.sequence import pad_sequences\n",
        "from tensorflow.keras.layers import Embedding, LSTM, Bidirectional, Conv1D, MaxPooling1D, Dense, Dropout, Flatten, Concatenate, Input, BatchNormalization, Attention\n",
        "from tensorflow.keras.models import Model\n",
        "from sklearn.metrics import accuracy_score, f1_score\n",
        "\n",
        "path = kagglehub.dataset_download(\"rtatman/glove-global-vectors-for-word-representation\")\n",
        "print(\"Path to dataset files:\", path)\n",
        "\n",
        "\n",
        "def load_glove_embeddings(glove_path, embedding_dim):\n",
        "    embeddings_index = {}\n",
        "    with open(glove_path, 'r', encoding='utf-8') as f:\n",
        "        for line in f:\n",
        "            values = line.split()\n",
        "            word = values[0]\n",
        "            coefs = np.asarray(values[1:], dtype='float32')\n",
        "            embeddings_index[word] = coefs\n",
        "    return embeddings_index\n",
        "\n",
        "\n",
        "glove_path = '/root/.cache/kagglehub/datasets/rtatman/glove-global-vectors-for-word-representation/versions/1/glove.6B.200d.txt'\n",
        "embedding_dim = 200\n",
        "glove_embeddings = load_glove_embeddings(glove_path, embedding_dim)\n",
        "\n",
        "# We are tokenizing here, previously we used TF-IDF vectors\n",
        "max_num_words = 5000\n",
        "max_seq_length = 100\n",
        "def fix_embedding_size(embedding, expected_size=300):\n",
        "    if isinstance(embedding, str):  # If it's a string representation\n",
        "        try:\n",
        "            embedding = np.array(ast.literal_eval(embedding), dtype=float)  # Safely convert string to array\n",
        "        except (ValueError, SyntaxError):\n",
        "            embedding = np.zeros(expected_size)  # If conversion fails, use zeros\n",
        "    elif not isinstance(embedding, np.ndarray) or embedding.size != expected_size:\n",
        "        embedding = np.zeros(expected_size)  # Default to zero if not correct size\n",
        "    return embedding\n",
        "\n",
        "df2['emoji_embeddings'] = df2['emoji_embeddings'].apply(lambda x: fix_embedding_size(x, expected_size=300))\n",
        "df2['text_with_emojis_replaced'] = df2['text_with_emojis_replaced'].fillna('')  # Replace NaNs with empty strings\n",
        "\n",
        "# Ensure all values are strings\n",
        "df2['text_with_emojis_replaced'] = df2['text_with_emojis_replaced'].astype(str)\n",
        "print(df2['text_with_emojis_replaced'].tail())\n",
        "print(df2['emoji_embeddings'])\n",
        "\n",
        "tokenizer = Tokenizer(num_words=max_num_words)\n",
        "tokenizer.fit_on_texts(df2['text_with_emojis_replaced'])\n",
        "X_text_sequences = tokenizer.texts_to_sequences(df2['text_with_emojis_replaced'])\n",
        "X_text_padded = pad_sequences(X_text_sequences, maxlen=max_seq_length)\n",
        "\n",
        "# Creating the embedding matrix\n",
        "word_index = tokenizer.word_index\n",
        "vocab_size = min(max_num_words, len(word_index)) + 1\n",
        "\n",
        "embedding_matrix = np.zeros((vocab_size, embedding_dim))\n",
        "for word, i in word_index.items():\n",
        "    if i >= max_num_words:\n",
        "        continue\n",
        "    embedding_vector = glove_embeddings.get(word)\n",
        "    if embedding_vector is not None:\n",
        "        embedding_matrix[i] = embedding_vector\n",
        "\n",
        "\n",
        "X_emoji_embeddings = np.vstack(df2['emoji_embeddings'].values)\n",
        "X_emoji_scores = df2['emoji_score'].values\n",
        "\n",
        "\n",
        "X_combined = np.hstack([X_text_padded, X_emoji_embeddings])\n",
        "y = df2['Sentiment'].values\n",
        "\n",
        "X_train_combined, X_test_combined, y_train, y_test = train_test_split(X_combined, y, test_size=0.2, random_state=42)\n",
        "\n",
        "X_train_padded = X_train_combined[:, :max_seq_length]\n",
        "X_train_emoji_embeddings = X_train_combined[:, max_seq_length:max_seq_length+300]\n",
        "X_train_emoji_scores = X_train_combined[:, -1]\n",
        "\n",
        "X_test_padded = X_test_combined[:, :max_seq_length]\n",
        "X_test_emoji_embeddings = X_test_combined[:, max_seq_length:max_seq_length+300]\n",
        "X_test_emoji_scores = X_test_combined[:, -1]\n",
        "\n",
        "\n",
        "\n",
        "num_classes = len(np.unique(y_train))\n",
        "\n",
        "\n",
        "text_input = Input(shape=(max_seq_length,), name='text_input')\n",
        "emoji_input = Input(shape=(300,), name='emoji_input')\n",
        "emoji_score_input = Input(shape=(1,), name='emoji_score_input')\n",
        "\n",
        "# GloVe Embedding layer\n",
        "embedding_layer = Embedding(input_dim=vocab_size,\n",
        "                            output_dim=embedding_dim,\n",
        "                            weights=[embedding_matrix],\n",
        "                            input_length=max_seq_length,\n",
        "                            trainable=False)(text_input)\n",
        "\n",
        "# using LSTM + Conv1D\n",
        "bilstm = Bidirectional(LSTM(128, return_sequences=True))(embedding_layer)\n",
        "conv1d = Conv1D(64, kernel_size=5, activation='relu')(bilstm)\n",
        "maxpool = MaxPooling1D(pool_size=2)(conv1d)\n",
        "\n",
        "# Attention mechanism\n",
        "attention = Attention()([maxpool, maxpool])\n",
        "flatten = Flatten()(attention)\n",
        "\n",
        "# Combine text and emoji features\n",
        "combined_features = Concatenate()([flatten, emoji_input, emoji_score_input])\n",
        "\n",
        "# Dense layers\n",
        "dense1 = Dense(128, activation='relu', kernel_regularizer=tf.keras.regularizers.l2(0.01))(combined_features)\n",
        "batch_norm = BatchNormalization()(dense1)\n",
        "dropout = Dropout(0.1)(batch_norm)\n",
        "\n",
        "# Output layer for multiclass classification\n",
        "output = Dense(num_classes, activation='softmax')(dropout)\n",
        "\n",
        "\n",
        "model = Model(inputs=[text_input, emoji_input, emoji_score_input], outputs=output)\n",
        "\n",
        "\n",
        "model.compile(optimizer=tf.keras.optimizers.Adam(learning_rate=1e-4), loss='sparse_categorical_crossentropy', metrics=['accuracy'])\n",
        "\n",
        "model.summary()\n",
        "\n",
        "#Early stopping to complete the process faster\n",
        "early_stopping = tf.keras.callbacks.EarlyStopping(monitor='val_loss', patience=10, restore_best_weights=True)\n",
        "\n",
        "model.fit([X_train_padded, X_train_emoji_embeddings, X_train_emoji_scores], y_train,\n",
        "          validation_data=([X_test_padded, X_test_emoji_embeddings, X_test_emoji_scores], y_test),\n",
        "          epochs=20, batch_size=32, callbacks=[early_stopping])\n",
        "\n",
        "dl_preds = model.predict([X_test_padded, X_test_emoji_embeddings, X_test_emoji_scores])\n",
        "dl_preds = np.argmax(dl_preds, axis=1)\n",
        "\n",
        "print(f\"DL Model Accuracy: {accuracy_score(y_test, dl_preds)}, F1: {f1_score(y_test, dl_preds, average='weighted')}\")\n"
      ],
      "metadata": {
        "colab": {
          "base_uri": "https://localhost:8080/",
          "height": 1000
        },
        "id": "BbjGb4nK5bx8",
        "outputId": "8575fa06-7e40-4c47-f56d-5c0d907e5121"
      },
      "execution_count": null,
      "outputs": [
        {
          "output_type": "stream",
          "name": "stdout",
          "text": [
            "Warning: Looks like you're using an outdated `kagglehub` version, please consider updating (latest version: 0.3.3)\n",
            "Downloading from https://www.kaggle.com/api/v1/datasets/download/rtatman/glove-global-vectors-for-word-representation?dataset_version_number=1...\n"
          ]
        },
        {
          "output_type": "stream",
          "name": "stderr",
          "text": [
            "100%|██████████| 458M/458M [00:07<00:00, 62.1MB/s]"
          ]
        },
        {
          "output_type": "stream",
          "name": "stdout",
          "text": [
            "Extracting files...\n"
          ]
        },
        {
          "output_type": "stream",
          "name": "stderr",
          "text": [
            "\n"
          ]
        },
        {
          "output_type": "stream",
          "name": "stdout",
          "text": [
            "Path to dataset files: /root/.cache/kagglehub/datasets/rtatman/glove-global-vectors-for-word-representation/versions/1\n",
            "316006                trying win cash know get squat though\n",
            "316007    lesson learned tennis table tennis badminton u...\n",
            "316008                 picking photos photo shoot wednesday\n",
            "316009                                  drown naked revenge\n",
            "316010        new blog post working miniminscom weight loss\n",
            "Name: text_with_emojis_replaced, dtype: object\n",
            "0         [0.7759947, 0.91619855, -0.03053476, 1.7538463...\n",
            "1         [0.7759947, 0.91619855, -0.03053476, 1.7538463...\n",
            "2         [0.7759947, 0.91619855, -0.03053476, 1.7538463...\n",
            "3         [0.7759947, 0.91619855, -0.03053476, 1.7538463...\n",
            "4         [0.7759947, 0.91619855, -0.03053476, 1.7538463...\n",
            "                                ...                        \n",
            "316006    [0.0, 0.0, 0.0, 0.0, 0.0, 0.0, 0.0, 0.0, 0.0, ...\n",
            "316007    [0.0, 0.0, 0.0, 0.0, 0.0, 0.0, 0.0, 0.0, 0.0, ...\n",
            "316008    [0.0, 0.0, 0.0, 0.0, 0.0, 0.0, 0.0, 0.0, 0.0, ...\n",
            "316009    [0.0, 0.0, 0.0, 0.0, 0.0, 0.0, 0.0, 0.0, 0.0, ...\n",
            "316010    [0.0, 0.0, 0.0, 0.0, 0.0, 0.0, 0.0, 0.0, 0.0, ...\n",
            "Name: emoji_embeddings, Length: 316011, dtype: object\n"
          ]
        },
        {
          "output_type": "stream",
          "name": "stderr",
          "text": [
            "/usr/local/lib/python3.10/dist-packages/keras/src/layers/core/embedding.py:90: UserWarning: Argument `input_length` is deprecated. Just remove it.\n",
            "  warnings.warn(\n"
          ]
        },
        {
          "output_type": "display_data",
          "data": {
            "text/plain": [
              "\u001b[1mModel: \"functional\"\u001b[0m\n"
            ],
            "text/html": [
              "<pre style=\"white-space:pre;overflow-x:auto;line-height:normal;font-family:Menlo,'DejaVu Sans Mono',consolas,'Courier New',monospace\"><span style=\"font-weight: bold\">Model: \"functional\"</span>\n",
              "</pre>\n"
            ]
          },
          "metadata": {}
        },
        {
          "output_type": "display_data",
          "data": {
            "text/plain": [
              "┏━━━━━━━━━━━━━━━━━━━━━━━━━━━┳━━━━━━━━━━━━━━━━━━━━━━━━┳━━━━━━━━━━━━━━━━┳━━━━━━━━━━━━━━━━━━━━━━━━┓\n",
              "┃\u001b[1m \u001b[0m\u001b[1mLayer (type)             \u001b[0m\u001b[1m \u001b[0m┃\u001b[1m \u001b[0m\u001b[1mOutput Shape          \u001b[0m\u001b[1m \u001b[0m┃\u001b[1m \u001b[0m\u001b[1m       Param #\u001b[0m\u001b[1m \u001b[0m┃\u001b[1m \u001b[0m\u001b[1mConnected to          \u001b[0m\u001b[1m \u001b[0m┃\n",
              "┡━━━━━━━━━━━━━━━━━━━━━━━━━━━╇━━━━━━━━━━━━━━━━━━━━━━━━╇━━━━━━━━━━━━━━━━╇━━━━━━━━━━━━━━━━━━━━━━━━┩\n",
              "│ text_input (\u001b[38;5;33mInputLayer\u001b[0m)   │ (\u001b[38;5;45mNone\u001b[0m, \u001b[38;5;34m100\u001b[0m)            │              \u001b[38;5;34m0\u001b[0m │ -                      │\n",
              "├───────────────────────────┼────────────────────────┼────────────────┼────────────────────────┤\n",
              "│ embedding (\u001b[38;5;33mEmbedding\u001b[0m)     │ (\u001b[38;5;45mNone\u001b[0m, \u001b[38;5;34m100\u001b[0m, \u001b[38;5;34m200\u001b[0m)       │      \u001b[38;5;34m1,000,200\u001b[0m │ text_input[\u001b[38;5;34m0\u001b[0m][\u001b[38;5;34m0\u001b[0m]       │\n",
              "├───────────────────────────┼────────────────────────┼────────────────┼────────────────────────┤\n",
              "│ bidirectional             │ (\u001b[38;5;45mNone\u001b[0m, \u001b[38;5;34m100\u001b[0m, \u001b[38;5;34m256\u001b[0m)       │        \u001b[38;5;34m336,896\u001b[0m │ embedding[\u001b[38;5;34m0\u001b[0m][\u001b[38;5;34m0\u001b[0m]        │\n",
              "│ (\u001b[38;5;33mBidirectional\u001b[0m)           │                        │                │                        │\n",
              "├───────────────────────────┼────────────────────────┼────────────────┼────────────────────────┤\n",
              "│ conv1d (\u001b[38;5;33mConv1D\u001b[0m)           │ (\u001b[38;5;45mNone\u001b[0m, \u001b[38;5;34m96\u001b[0m, \u001b[38;5;34m64\u001b[0m)         │         \u001b[38;5;34m81,984\u001b[0m │ bidirectional[\u001b[38;5;34m0\u001b[0m][\u001b[38;5;34m0\u001b[0m]    │\n",
              "├───────────────────────────┼────────────────────────┼────────────────┼────────────────────────┤\n",
              "│ max_pooling1d             │ (\u001b[38;5;45mNone\u001b[0m, \u001b[38;5;34m48\u001b[0m, \u001b[38;5;34m64\u001b[0m)         │              \u001b[38;5;34m0\u001b[0m │ conv1d[\u001b[38;5;34m0\u001b[0m][\u001b[38;5;34m0\u001b[0m]           │\n",
              "│ (\u001b[38;5;33mMaxPooling1D\u001b[0m)            │                        │                │                        │\n",
              "├───────────────────────────┼────────────────────────┼────────────────┼────────────────────────┤\n",
              "│ attention (\u001b[38;5;33mAttention\u001b[0m)     │ (\u001b[38;5;45mNone\u001b[0m, \u001b[38;5;34m48\u001b[0m, \u001b[38;5;34m64\u001b[0m)         │              \u001b[38;5;34m0\u001b[0m │ max_pooling1d[\u001b[38;5;34m0\u001b[0m][\u001b[38;5;34m0\u001b[0m],   │\n",
              "│                           │                        │                │ max_pooling1d[\u001b[38;5;34m0\u001b[0m][\u001b[38;5;34m0\u001b[0m]    │\n",
              "├───────────────────────────┼────────────────────────┼────────────────┼────────────────────────┤\n",
              "│ flatten (\u001b[38;5;33mFlatten\u001b[0m)         │ (\u001b[38;5;45mNone\u001b[0m, \u001b[38;5;34m3072\u001b[0m)           │              \u001b[38;5;34m0\u001b[0m │ attention[\u001b[38;5;34m0\u001b[0m][\u001b[38;5;34m0\u001b[0m]        │\n",
              "├───────────────────────────┼────────────────────────┼────────────────┼────────────────────────┤\n",
              "│ emoji_input (\u001b[38;5;33mInputLayer\u001b[0m)  │ (\u001b[38;5;45mNone\u001b[0m, \u001b[38;5;34m300\u001b[0m)            │              \u001b[38;5;34m0\u001b[0m │ -                      │\n",
              "├───────────────────────────┼────────────────────────┼────────────────┼────────────────────────┤\n",
              "│ emoji_score_input         │ (\u001b[38;5;45mNone\u001b[0m, \u001b[38;5;34m1\u001b[0m)              │              \u001b[38;5;34m0\u001b[0m │ -                      │\n",
              "│ (\u001b[38;5;33mInputLayer\u001b[0m)              │                        │                │                        │\n",
              "├───────────────────────────┼────────────────────────┼────────────────┼────────────────────────┤\n",
              "│ concatenate (\u001b[38;5;33mConcatenate\u001b[0m) │ (\u001b[38;5;45mNone\u001b[0m, \u001b[38;5;34m3373\u001b[0m)           │              \u001b[38;5;34m0\u001b[0m │ flatten[\u001b[38;5;34m0\u001b[0m][\u001b[38;5;34m0\u001b[0m],         │\n",
              "│                           │                        │                │ emoji_input[\u001b[38;5;34m0\u001b[0m][\u001b[38;5;34m0\u001b[0m],     │\n",
              "│                           │                        │                │ emoji_score_input[\u001b[38;5;34m0\u001b[0m][\u001b[38;5;34m…\u001b[0m │\n",
              "├───────────────────────────┼────────────────────────┼────────────────┼────────────────────────┤\n",
              "│ dense (\u001b[38;5;33mDense\u001b[0m)             │ (\u001b[38;5;45mNone\u001b[0m, \u001b[38;5;34m128\u001b[0m)            │        \u001b[38;5;34m431,872\u001b[0m │ concatenate[\u001b[38;5;34m0\u001b[0m][\u001b[38;5;34m0\u001b[0m]      │\n",
              "├───────────────────────────┼────────────────────────┼────────────────┼────────────────────────┤\n",
              "│ batch_normalization       │ (\u001b[38;5;45mNone\u001b[0m, \u001b[38;5;34m128\u001b[0m)            │            \u001b[38;5;34m512\u001b[0m │ dense[\u001b[38;5;34m0\u001b[0m][\u001b[38;5;34m0\u001b[0m]            │\n",
              "│ (\u001b[38;5;33mBatchNormalization\u001b[0m)      │                        │                │                        │\n",
              "├───────────────────────────┼────────────────────────┼────────────────┼────────────────────────┤\n",
              "│ dropout (\u001b[38;5;33mDropout\u001b[0m)         │ (\u001b[38;5;45mNone\u001b[0m, \u001b[38;5;34m128\u001b[0m)            │              \u001b[38;5;34m0\u001b[0m │ batch_normalization[\u001b[38;5;34m0\u001b[0m… │\n",
              "├───────────────────────────┼────────────────────────┼────────────────┼────────────────────────┤\n",
              "│ dense_1 (\u001b[38;5;33mDense\u001b[0m)           │ (\u001b[38;5;45mNone\u001b[0m, \u001b[38;5;34m4\u001b[0m)              │            \u001b[38;5;34m516\u001b[0m │ dropout[\u001b[38;5;34m0\u001b[0m][\u001b[38;5;34m0\u001b[0m]          │\n",
              "└───────────────────────────┴────────────────────────┴────────────────┴────────────────────────┘\n"
            ],
            "text/html": [
              "<pre style=\"white-space:pre;overflow-x:auto;line-height:normal;font-family:Menlo,'DejaVu Sans Mono',consolas,'Courier New',monospace\">┏━━━━━━━━━━━━━━━━━━━━━━━━━━━┳━━━━━━━━━━━━━━━━━━━━━━━━┳━━━━━━━━━━━━━━━━┳━━━━━━━━━━━━━━━━━━━━━━━━┓\n",
              "┃<span style=\"font-weight: bold\"> Layer (type)              </span>┃<span style=\"font-weight: bold\"> Output Shape           </span>┃<span style=\"font-weight: bold\">        Param # </span>┃<span style=\"font-weight: bold\"> Connected to           </span>┃\n",
              "┡━━━━━━━━━━━━━━━━━━━━━━━━━━━╇━━━━━━━━━━━━━━━━━━━━━━━━╇━━━━━━━━━━━━━━━━╇━━━━━━━━━━━━━━━━━━━━━━━━┩\n",
              "│ text_input (<span style=\"color: #0087ff; text-decoration-color: #0087ff\">InputLayer</span>)   │ (<span style=\"color: #00d7ff; text-decoration-color: #00d7ff\">None</span>, <span style=\"color: #00af00; text-decoration-color: #00af00\">100</span>)            │              <span style=\"color: #00af00; text-decoration-color: #00af00\">0</span> │ -                      │\n",
              "├───────────────────────────┼────────────────────────┼────────────────┼────────────────────────┤\n",
              "│ embedding (<span style=\"color: #0087ff; text-decoration-color: #0087ff\">Embedding</span>)     │ (<span style=\"color: #00d7ff; text-decoration-color: #00d7ff\">None</span>, <span style=\"color: #00af00; text-decoration-color: #00af00\">100</span>, <span style=\"color: #00af00; text-decoration-color: #00af00\">200</span>)       │      <span style=\"color: #00af00; text-decoration-color: #00af00\">1,000,200</span> │ text_input[<span style=\"color: #00af00; text-decoration-color: #00af00\">0</span>][<span style=\"color: #00af00; text-decoration-color: #00af00\">0</span>]       │\n",
              "├───────────────────────────┼────────────────────────┼────────────────┼────────────────────────┤\n",
              "│ bidirectional             │ (<span style=\"color: #00d7ff; text-decoration-color: #00d7ff\">None</span>, <span style=\"color: #00af00; text-decoration-color: #00af00\">100</span>, <span style=\"color: #00af00; text-decoration-color: #00af00\">256</span>)       │        <span style=\"color: #00af00; text-decoration-color: #00af00\">336,896</span> │ embedding[<span style=\"color: #00af00; text-decoration-color: #00af00\">0</span>][<span style=\"color: #00af00; text-decoration-color: #00af00\">0</span>]        │\n",
              "│ (<span style=\"color: #0087ff; text-decoration-color: #0087ff\">Bidirectional</span>)           │                        │                │                        │\n",
              "├───────────────────────────┼────────────────────────┼────────────────┼────────────────────────┤\n",
              "│ conv1d (<span style=\"color: #0087ff; text-decoration-color: #0087ff\">Conv1D</span>)           │ (<span style=\"color: #00d7ff; text-decoration-color: #00d7ff\">None</span>, <span style=\"color: #00af00; text-decoration-color: #00af00\">96</span>, <span style=\"color: #00af00; text-decoration-color: #00af00\">64</span>)         │         <span style=\"color: #00af00; text-decoration-color: #00af00\">81,984</span> │ bidirectional[<span style=\"color: #00af00; text-decoration-color: #00af00\">0</span>][<span style=\"color: #00af00; text-decoration-color: #00af00\">0</span>]    │\n",
              "├───────────────────────────┼────────────────────────┼────────────────┼────────────────────────┤\n",
              "│ max_pooling1d             │ (<span style=\"color: #00d7ff; text-decoration-color: #00d7ff\">None</span>, <span style=\"color: #00af00; text-decoration-color: #00af00\">48</span>, <span style=\"color: #00af00; text-decoration-color: #00af00\">64</span>)         │              <span style=\"color: #00af00; text-decoration-color: #00af00\">0</span> │ conv1d[<span style=\"color: #00af00; text-decoration-color: #00af00\">0</span>][<span style=\"color: #00af00; text-decoration-color: #00af00\">0</span>]           │\n",
              "│ (<span style=\"color: #0087ff; text-decoration-color: #0087ff\">MaxPooling1D</span>)            │                        │                │                        │\n",
              "├───────────────────────────┼────────────────────────┼────────────────┼────────────────────────┤\n",
              "│ attention (<span style=\"color: #0087ff; text-decoration-color: #0087ff\">Attention</span>)     │ (<span style=\"color: #00d7ff; text-decoration-color: #00d7ff\">None</span>, <span style=\"color: #00af00; text-decoration-color: #00af00\">48</span>, <span style=\"color: #00af00; text-decoration-color: #00af00\">64</span>)         │              <span style=\"color: #00af00; text-decoration-color: #00af00\">0</span> │ max_pooling1d[<span style=\"color: #00af00; text-decoration-color: #00af00\">0</span>][<span style=\"color: #00af00; text-decoration-color: #00af00\">0</span>],   │\n",
              "│                           │                        │                │ max_pooling1d[<span style=\"color: #00af00; text-decoration-color: #00af00\">0</span>][<span style=\"color: #00af00; text-decoration-color: #00af00\">0</span>]    │\n",
              "├───────────────────────────┼────────────────────────┼────────────────┼────────────────────────┤\n",
              "│ flatten (<span style=\"color: #0087ff; text-decoration-color: #0087ff\">Flatten</span>)         │ (<span style=\"color: #00d7ff; text-decoration-color: #00d7ff\">None</span>, <span style=\"color: #00af00; text-decoration-color: #00af00\">3072</span>)           │              <span style=\"color: #00af00; text-decoration-color: #00af00\">0</span> │ attention[<span style=\"color: #00af00; text-decoration-color: #00af00\">0</span>][<span style=\"color: #00af00; text-decoration-color: #00af00\">0</span>]        │\n",
              "├───────────────────────────┼────────────────────────┼────────────────┼────────────────────────┤\n",
              "│ emoji_input (<span style=\"color: #0087ff; text-decoration-color: #0087ff\">InputLayer</span>)  │ (<span style=\"color: #00d7ff; text-decoration-color: #00d7ff\">None</span>, <span style=\"color: #00af00; text-decoration-color: #00af00\">300</span>)            │              <span style=\"color: #00af00; text-decoration-color: #00af00\">0</span> │ -                      │\n",
              "├───────────────────────────┼────────────────────────┼────────────────┼────────────────────────┤\n",
              "│ emoji_score_input         │ (<span style=\"color: #00d7ff; text-decoration-color: #00d7ff\">None</span>, <span style=\"color: #00af00; text-decoration-color: #00af00\">1</span>)              │              <span style=\"color: #00af00; text-decoration-color: #00af00\">0</span> │ -                      │\n",
              "│ (<span style=\"color: #0087ff; text-decoration-color: #0087ff\">InputLayer</span>)              │                        │                │                        │\n",
              "├───────────────────────────┼────────────────────────┼────────────────┼────────────────────────┤\n",
              "│ concatenate (<span style=\"color: #0087ff; text-decoration-color: #0087ff\">Concatenate</span>) │ (<span style=\"color: #00d7ff; text-decoration-color: #00d7ff\">None</span>, <span style=\"color: #00af00; text-decoration-color: #00af00\">3373</span>)           │              <span style=\"color: #00af00; text-decoration-color: #00af00\">0</span> │ flatten[<span style=\"color: #00af00; text-decoration-color: #00af00\">0</span>][<span style=\"color: #00af00; text-decoration-color: #00af00\">0</span>],         │\n",
              "│                           │                        │                │ emoji_input[<span style=\"color: #00af00; text-decoration-color: #00af00\">0</span>][<span style=\"color: #00af00; text-decoration-color: #00af00\">0</span>],     │\n",
              "│                           │                        │                │ emoji_score_input[<span style=\"color: #00af00; text-decoration-color: #00af00\">0</span>][<span style=\"color: #00af00; text-decoration-color: #00af00\">…</span> │\n",
              "├───────────────────────────┼────────────────────────┼────────────────┼────────────────────────┤\n",
              "│ dense (<span style=\"color: #0087ff; text-decoration-color: #0087ff\">Dense</span>)             │ (<span style=\"color: #00d7ff; text-decoration-color: #00d7ff\">None</span>, <span style=\"color: #00af00; text-decoration-color: #00af00\">128</span>)            │        <span style=\"color: #00af00; text-decoration-color: #00af00\">431,872</span> │ concatenate[<span style=\"color: #00af00; text-decoration-color: #00af00\">0</span>][<span style=\"color: #00af00; text-decoration-color: #00af00\">0</span>]      │\n",
              "├───────────────────────────┼────────────────────────┼────────────────┼────────────────────────┤\n",
              "│ batch_normalization       │ (<span style=\"color: #00d7ff; text-decoration-color: #00d7ff\">None</span>, <span style=\"color: #00af00; text-decoration-color: #00af00\">128</span>)            │            <span style=\"color: #00af00; text-decoration-color: #00af00\">512</span> │ dense[<span style=\"color: #00af00; text-decoration-color: #00af00\">0</span>][<span style=\"color: #00af00; text-decoration-color: #00af00\">0</span>]            │\n",
              "│ (<span style=\"color: #0087ff; text-decoration-color: #0087ff\">BatchNormalization</span>)      │                        │                │                        │\n",
              "├───────────────────────────┼────────────────────────┼────────────────┼────────────────────────┤\n",
              "│ dropout (<span style=\"color: #0087ff; text-decoration-color: #0087ff\">Dropout</span>)         │ (<span style=\"color: #00d7ff; text-decoration-color: #00d7ff\">None</span>, <span style=\"color: #00af00; text-decoration-color: #00af00\">128</span>)            │              <span style=\"color: #00af00; text-decoration-color: #00af00\">0</span> │ batch_normalization[<span style=\"color: #00af00; text-decoration-color: #00af00\">0</span>… │\n",
              "├───────────────────────────┼────────────────────────┼────────────────┼────────────────────────┤\n",
              "│ dense_1 (<span style=\"color: #0087ff; text-decoration-color: #0087ff\">Dense</span>)           │ (<span style=\"color: #00d7ff; text-decoration-color: #00d7ff\">None</span>, <span style=\"color: #00af00; text-decoration-color: #00af00\">4</span>)              │            <span style=\"color: #00af00; text-decoration-color: #00af00\">516</span> │ dropout[<span style=\"color: #00af00; text-decoration-color: #00af00\">0</span>][<span style=\"color: #00af00; text-decoration-color: #00af00\">0</span>]          │\n",
              "└───────────────────────────┴────────────────────────┴────────────────┴────────────────────────┘\n",
              "</pre>\n"
            ]
          },
          "metadata": {}
        },
        {
          "output_type": "display_data",
          "data": {
            "text/plain": [
              "\u001b[1m Total params: \u001b[0m\u001b[38;5;34m1,851,980\u001b[0m (7.06 MB)\n"
            ],
            "text/html": [
              "<pre style=\"white-space:pre;overflow-x:auto;line-height:normal;font-family:Menlo,'DejaVu Sans Mono',consolas,'Courier New',monospace\"><span style=\"font-weight: bold\"> Total params: </span><span style=\"color: #00af00; text-decoration-color: #00af00\">1,851,980</span> (7.06 MB)\n",
              "</pre>\n"
            ]
          },
          "metadata": {}
        },
        {
          "output_type": "display_data",
          "data": {
            "text/plain": [
              "\u001b[1m Trainable params: \u001b[0m\u001b[38;5;34m851,524\u001b[0m (3.25 MB)\n"
            ],
            "text/html": [
              "<pre style=\"white-space:pre;overflow-x:auto;line-height:normal;font-family:Menlo,'DejaVu Sans Mono',consolas,'Courier New',monospace\"><span style=\"font-weight: bold\"> Trainable params: </span><span style=\"color: #00af00; text-decoration-color: #00af00\">851,524</span> (3.25 MB)\n",
              "</pre>\n"
            ]
          },
          "metadata": {}
        },
        {
          "output_type": "display_data",
          "data": {
            "text/plain": [
              "\u001b[1m Non-trainable params: \u001b[0m\u001b[38;5;34m1,000,456\u001b[0m (3.82 MB)\n"
            ],
            "text/html": [
              "<pre style=\"white-space:pre;overflow-x:auto;line-height:normal;font-family:Menlo,'DejaVu Sans Mono',consolas,'Courier New',monospace\"><span style=\"font-weight: bold\"> Non-trainable params: </span><span style=\"color: #00af00; text-decoration-color: #00af00\">1,000,456</span> (3.82 MB)\n",
              "</pre>\n"
            ]
          },
          "metadata": {}
        },
        {
          "output_type": "stream",
          "name": "stdout",
          "text": [
            "Epoch 1/20\n",
            "\u001b[1m7901/7901\u001b[0m \u001b[32m━━━━━━━━━━━━━━━━━━━━\u001b[0m\u001b[37m\u001b[0m \u001b[1m126s\u001b[0m 15ms/step - accuracy: 0.6907 - loss: 1.2015 - val_accuracy: 0.7294 - val_loss: 0.5892\n",
            "Epoch 2/20\n",
            "\u001b[1m7901/7901\u001b[0m \u001b[32m━━━━━━━━━━━━━━━━━━━━\u001b[0m\u001b[37m\u001b[0m \u001b[1m137s\u001b[0m 15ms/step - accuracy: 0.7414 - loss: 0.5682 - val_accuracy: 0.7510 - val_loss: 0.5470\n",
            "Epoch 3/20\n",
            "\u001b[1m7901/7901\u001b[0m \u001b[32m━━━━━━━━━━━━━━━━━━━━\u001b[0m\u001b[37m\u001b[0m \u001b[1m141s\u001b[0m 15ms/step - accuracy: 0.7522 - loss: 0.5451 - val_accuracy: 0.7568 - val_loss: 0.5409\n",
            "Epoch 4/20\n",
            "\u001b[1m7901/7901\u001b[0m \u001b[32m━━━━━━━━━━━━━━━━━━━━\u001b[0m\u001b[37m\u001b[0m \u001b[1m143s\u001b[0m 15ms/step - accuracy: 0.7615 - loss: 0.5299 - val_accuracy: 0.7325 - val_loss: 0.5707\n",
            "Epoch 5/20\n",
            "\u001b[1m7901/7901\u001b[0m \u001b[32m━━━━━━━━━━━━━━━━━━━━\u001b[0m\u001b[37m\u001b[0m \u001b[1m142s\u001b[0m 15ms/step - accuracy: 0.7676 - loss: 0.5194 - val_accuracy: 0.7629 - val_loss: 0.5282\n",
            "Epoch 6/20\n",
            "\u001b[1m7901/7901\u001b[0m \u001b[32m━━━━━━━━━━━━━━━━━━━━\u001b[0m\u001b[37m\u001b[0m \u001b[1m142s\u001b[0m 15ms/step - accuracy: 0.7738 - loss: 0.5107 - val_accuracy: 0.7371 - val_loss: 0.5664\n",
            "Epoch 7/20\n",
            "\u001b[1m7901/7901\u001b[0m \u001b[32m━━━━━━━━━━━━━━━━━━━━\u001b[0m\u001b[37m\u001b[0m \u001b[1m141s\u001b[0m 15ms/step - accuracy: 0.7790 - loss: 0.5007 - val_accuracy: 0.7613 - val_loss: 0.5320\n",
            "Epoch 8/20\n",
            "\u001b[1m7901/7901\u001b[0m \u001b[32m━━━━━━━━━━━━━━━━━━━━\u001b[0m\u001b[37m\u001b[0m \u001b[1m143s\u001b[0m 15ms/step - accuracy: 0.7827 - loss: 0.4926 - val_accuracy: 0.7633 - val_loss: 0.5271\n",
            "Epoch 9/20\n",
            "\u001b[1m7901/7901\u001b[0m \u001b[32m━━━━━━━━━━━━━━━━━━━━\u001b[0m\u001b[37m\u001b[0m \u001b[1m142s\u001b[0m 15ms/step - accuracy: 0.7902 - loss: 0.4827 - val_accuracy: 0.7597 - val_loss: 0.5331\n",
            "Epoch 10/20\n",
            "\u001b[1m7901/7901\u001b[0m \u001b[32m━━━━━━━━━━━━━━━━━━━━\u001b[0m\u001b[37m\u001b[0m \u001b[1m118s\u001b[0m 15ms/step - accuracy: 0.7948 - loss: 0.4738 - val_accuracy: 0.7512 - val_loss: 0.5532\n",
            "Epoch 11/20\n",
            "\u001b[1m2679/7901\u001b[0m \u001b[32m━━━━━━\u001b[0m\u001b[37m━━━━━━━━━━━━━━\u001b[0m \u001b[1m1:11\u001b[0m 14ms/step - accuracy: 0.8046 - loss: 0.4595"
          ]
        }
      ]
    },
    {
      "cell_type": "code",
      "execution_count": null,
      "metadata": {
        "colab": {
          "base_uri": "https://localhost:8080/"
        },
        "id": "71FMGL-peQwb",
        "outputId": "1b118e94-3bbb-46fa-8082-d2272b5b9bdf"
      },
      "outputs": [
        {
          "output_type": "stream",
          "name": "stdout",
          "text": [
            "[3 0 0 0 0 0 3 3 2 3 0 3 0 0 3 0 3 3 3 0 3 3 0 0 3 0 0 0 0 3 0 0 0 3 0 0 0\n",
            " 0 0 3 3 0 3 0 0 3 0 3 3 0 3 3 3 0 0 0 3 3 0 3 3 3 3 0 3 3 0 0 0 0 3 3 0 3\n",
            " 0 0 0 0 3 3 0 3 3 0 3 0 0 0 3 0 3 0 0 0 0 0 0 0 3 3]\n"
          ]
        }
      ],
      "source": [
        "print(dl_preds[0:100])"
      ]
    },
    {
      "cell_type": "code",
      "execution_count": null,
      "metadata": {
        "colab": {
          "base_uri": "https://localhost:8080/"
        },
        "id": "mGQcKB58ZUwo",
        "outputId": "23ff04ef-2aea-44b6-b651-f7ab35589c7a"
      },
      "outputs": [
        {
          "output_type": "stream",
          "name": "stdout",
          "text": [
            "\u001b[1m1/1\u001b[0m \u001b[32m━━━━━━━━━━━━━━━━━━━━\u001b[0m\u001b[37m\u001b[0m \u001b[1m0s\u001b[0m 29ms/step\n",
            "Prediction probabilities: [[0.08034454 0.00118669 0.01307686 0.9053919 ]]\n",
            "Sentiment: Positive\n",
            "\u001b[1m1/1\u001b[0m \u001b[32m━━━━━━━━━━━━━━━━━━━━\u001b[0m\u001b[37m\u001b[0m \u001b[1m0s\u001b[0m 31ms/step\n",
            "Prediction probabilities: [[0.21834981 0.00278788 0.00835688 0.7705054 ]]\n",
            "Sentiment: Positive\n",
            "\u001b[1m1/1\u001b[0m \u001b[32m━━━━━━━━━━━━━━━━━━━━\u001b[0m\u001b[37m\u001b[0m \u001b[1m0s\u001b[0m 32ms/step\n",
            "Prediction probabilities: [[0.8530772  0.0016243  0.00343605 0.14186253]]\n",
            "Sentiment: Negative\n",
            "\u001b[1m1/1\u001b[0m \u001b[32m━━━━━━━━━━━━━━━━━━━━\u001b[0m\u001b[37m\u001b[0m \u001b[1m0s\u001b[0m 30ms/step\n",
            "Prediction probabilities: [[0.24439757 0.00356866 0.01174893 0.7402849 ]]\n",
            "Sentiment: Positive\n",
            "\u001b[1m1/1\u001b[0m \u001b[32m━━━━━━━━━━━━━━━━━━━━\u001b[0m\u001b[37m\u001b[0m \u001b[1m0s\u001b[0m 31ms/step\n",
            "Prediction probabilities: [[0.48973805 0.00301614 0.00817899 0.4990668 ]]\n",
            "Sentiment: Positive\n",
            "\u001b[1m1/1\u001b[0m \u001b[32m━━━━━━━━━━━━━━━━━━━━\u001b[0m\u001b[37m\u001b[0m \u001b[1m0s\u001b[0m 37ms/step\n",
            "Prediction probabilities: [[0.42446664 0.00410646 0.00985809 0.56156886]]\n",
            "Sentiment: Positive\n",
            "\u001b[1m1/1\u001b[0m \u001b[32m━━━━━━━━━━━━━━━━━━━━\u001b[0m\u001b[37m\u001b[0m \u001b[1m0s\u001b[0m 31ms/step\n",
            "Prediction probabilities: [[0.24848492 0.00232698 0.00658084 0.74260724]]\n",
            "Sentiment: Positive\n",
            "\u001b[1m1/1\u001b[0m \u001b[32m━━━━━━━━━━━━━━━━━━━━\u001b[0m\u001b[37m\u001b[0m \u001b[1m0s\u001b[0m 30ms/step\n",
            "Prediction probabilities: [[0.5241241  0.00321613 0.00820819 0.46445158]]\n",
            "Sentiment: Negative\n",
            "\u001b[1m1/1\u001b[0m \u001b[32m━━━━━━━━━━━━━━━━━━━━\u001b[0m\u001b[37m\u001b[0m \u001b[1m0s\u001b[0m 34ms/step\n",
            "Prediction probabilities: [[0.37186587 0.00407636 0.00942083 0.61463696]]\n",
            "Sentiment: Positive\n",
            "\u001b[1m1/1\u001b[0m \u001b[32m━━━━━━━━━━━━━━━━━━━━\u001b[0m\u001b[37m\u001b[0m \u001b[1m0s\u001b[0m 33ms/step\n",
            "Prediction probabilities: [[0.91627264 0.00393231 0.00766554 0.07212947]]\n",
            "Sentiment: Negative\n",
            "\u001b[1m1/1\u001b[0m \u001b[32m━━━━━━━━━━━━━━━━━━━━\u001b[0m\u001b[37m\u001b[0m \u001b[1m0s\u001b[0m 31ms/step\n",
            "Prediction probabilities: [[0.12890127 0.00248699 0.00692263 0.8616892 ]]\n",
            "Sentiment: Positive\n",
            "\u001b[1m1/1\u001b[0m \u001b[32m━━━━━━━━━━━━━━━━━━━━\u001b[0m\u001b[37m\u001b[0m \u001b[1m0s\u001b[0m 30ms/step\n",
            "Prediction probabilities: [[0.30654904 0.00370483 0.00750451 0.6822416 ]]\n",
            "Sentiment: Positive\n",
            "\u001b[1m1/1\u001b[0m \u001b[32m━━━━━━━━━━━━━━━━━━━━\u001b[0m\u001b[37m\u001b[0m \u001b[1m0s\u001b[0m 29ms/step\n",
            "Prediction probabilities: [[0.85394907 0.00448377 0.00929328 0.13227393]]\n",
            "Sentiment: Negative\n",
            "\u001b[1m1/1\u001b[0m \u001b[32m━━━━━━━━━━━━━━━━━━━━\u001b[0m\u001b[37m\u001b[0m \u001b[1m0s\u001b[0m 32ms/step\n",
            "Prediction probabilities: [[0.9606779  0.00299623 0.00582123 0.03050457]]\n",
            "Sentiment: Negative\n",
            "\u001b[1m1/1\u001b[0m \u001b[32m━━━━━━━━━━━━━━━━━━━━\u001b[0m\u001b[37m\u001b[0m \u001b[1m0s\u001b[0m 51ms/step\n",
            "Prediction probabilities: [[0.84436446 0.00427509 0.00829624 0.14306426]]\n",
            "Sentiment: Negative\n"
          ]
        }
      ],
      "source": [
        "# import numpy as np\n",
        "# import tensorflow as tf\n",
        "# from sklearn.feature_extraction.text import TfidfVectorizer\n",
        "# from sklearn.model_selection import train_test_split\n",
        "# from tensorflow.keras.preprocessing.sequence import pad_sequences\n",
        "# from tensorflow.keras.layers import Embedding, LSTM, Bidirectional, Conv1D, MaxPooling1D, Dense, Dropout, Flatten, Concatenate, Input\n",
        "# from tensorflow.keras.models import Model\n",
        "# from sklearn.metrics import accuracy_score, f1_score\n",
        "\n",
        "# # Function to preprocess input text and predict sentiment\n",
        "# def predict_sentiment(input_text):\n",
        "\n",
        "#     # Preprocess the input text similar to training\n",
        "#     processed_text = preprocess_text(input_text)\n",
        "#     processed_text = replace_emojis(processed_text)\n",
        "#     padded_text = pad_sequences([vectorizer.transform([processed_text]).toarray()[0]],maxlen=100)\n",
        "\n",
        "#     # Get emoji score and embeddings for the input text\n",
        "#     emoji_score = calculate_emoji_score(processed_text)\n",
        "#     emoji_embedding = get_emoji_embeddings(processed_text)\n",
        "\n",
        "#     # Predict sentiment\n",
        "#     prediction = model.predict([padded_text, np.array([emoji_embedding]), np.array([emoji_score])])\n",
        "#     sentiment_label = np.argmax(prediction)\n",
        "#     print(np.array([emoji_embedding]), np.array([emoji_score]))\n",
        "\n",
        "#     # Mapping numerical prediction to sentiment label\n",
        "#     sentiment_map = {0: \"Sad\", 1: \"Happy\", 2: \"Angry\", 3:\"Love\"}\n",
        "#     sentiment_text = sentiment_map[sentiment_label]\n",
        "#     print(f\"Sentiment: {sentiment_text}\")\n",
        "\n",
        "# #inText = input(\"Enter a sentence with emoji or not:\")\n",
        "# predict_sentiment(\" happy\")\n",
        "import numpy as np\n",
        "import tensorflow as tf\n",
        "from tensorflow.keras.preprocessing.sequence import pad_sequences\n",
        "\n",
        "\n",
        "def predict_sentiment(input_text):\n",
        "\n",
        "    processed_text = preprocess_text(input_text)\n",
        "    processed_text = replace_emojis(processed_text)\n",
        "    tokenized_text = tokenizer.texts_to_sequences([processed_text])\n",
        "    padded_text = pad_sequences(tokenized_text, maxlen=max_seq_length, padding='post')\n",
        "    emoji_score = calculate_emoji_score(processed_text)\n",
        "    emoji_embedding = get_emoji_embeddings(processed_text)\n",
        "    emoji_embedding = np.reshape(emoji_embedding, (1, 300))\n",
        "    emoji_score = np.reshape(emoji_score, (1, 1))\n",
        "    prediction = model.predict([padded_text, emoji_embedding, emoji_score])\n",
        "    print(\"Prediction probabilities:\", prediction)\n",
        "    sentiment_label = np.argmax(prediction)\n",
        "    sentiment_map = {0: \"Negative\", 1: \"Positive\", 2: \"Negative\", 3: \"Positive\"}\n",
        "    sentiment_text = sentiment_map[sentiment_label]\n",
        "    print(f\"Sentiment: {sentiment_text}\")\n",
        "\n",
        "\n",
        "test_sentences = [\n",
        "    \"I really didn't enjoy the book I read. 😒\",\n",
        "    \"I need to finish my report by Friday.\",\n",
        "    \"I’m excited about the concert, but I hope the weather holds up. 🎶🌧️\",\n",
        "    \"I'm so grateful for my supportive friends. 🙏\",\n",
        "    \"The traffic today was unbearable! 😤\",\n",
        "    \"My friend is coming over later today.\",\n",
        "    \"I enjoyed the movie, but it was a bit too long for my taste. 😅\",\n",
        "    \"This is the best cake I've ever tasted! 🍰\",\n",
        "    \"I feel so tired and unmotivated today. 😩\",\n",
        "    \"The weather is nice but a bit chilly.\",\n",
        "    \"The service at that restaurant was disappointing. 😠\",\n",
        "    \"I plan to go for a run after work.\",\n",
        "    \"I can't stand how rude people can be sometimes. 👎\",\n",
        "    \"Just another day in the office.\",\n",
        "    \"I appreciate the help, but I wish it had been offered sooner. 🤔\"\n",
        "]\n",
        "\n",
        "for sentence in test_sentences:\n",
        "    predict_sentiment(sentence)\n",
        "\n",
        "\n",
        "\n",
        "\n"
      ]
    },
    {
      "cell_type": "markdown",
      "metadata": {
        "id": "-UoSM4Ynxzwr"
      },
      "source": []
    },
    {
      "cell_type": "code",
      "source": [
        "pip install lime\n"
      ],
      "metadata": {
        "id": "3w9k6Na3XM3F"
      },
      "execution_count": null,
      "outputs": []
    },
    {
      "cell_type": "code",
      "source": [
        "import numpy as np\n",
        "import tensorflow as tf\n",
        "from tensorflow.keras.preprocessing.sequence import pad_sequences\n",
        "from lime.lime_text import LimeTextExplainer\n",
        "\n",
        "# Function to preprocess and predict sentiment\n",
        "def predict_sentiment(input_text):\n",
        "    processed_text = preprocess_text(input_text)\n",
        "    processed_text = replace_emojis(processed_text)\n",
        "    tokenized_text = tokenizer.texts_to_sequences([processed_text])\n",
        "    padded_text = pad_sequences(tokenized_text, maxlen=max_seq_length, padding='post')\n",
        "    emoji_score = calculate_emoji_score(processed_text)\n",
        "    emoji_embedding = get_emoji_embeddings(processed_text)\n",
        "    emoji_embedding = np.reshape(emoji_embedding, (1, 300))\n",
        "    emoji_score = np.reshape(emoji_score, (1, 1))\n",
        "\n",
        "    prediction = model.predict([padded_text, emoji_embedding, emoji_score])\n",
        "    return prediction  # Returning the prediction probabilities\n",
        "\n",
        "# Function that LIME will use to get prediction probabilities from input text\n",
        "def lime_predict(texts):\n",
        "    # For LIME, we need to process the text and get predictions\n",
        "    predictions = []\n",
        "    for text in texts:\n",
        "        pred = predict_sentiment(text)\n",
        "        predictions.append(pred[0])  # Append the predicted probabilities for each class\n",
        "    return np.array(predictions)\n",
        "\n",
        "# Initialize the LIME text explainer\n",
        "explainer = LimeTextExplainer(class_names=['Negative', 'Positive'])\n",
        "\n",
        "# Test sentences from your sample\n",
        "test_sentences = [\n",
        "    \"I really didn't enjoy the book I read. 😒\",\n",
        "    \"I need to finish my report by Friday.\",\n",
        "    \"I’m excited about the concert, but I hope the weather holds up. 🎶🌧️\",\n",
        "    \"I'm so grateful for my supportive friends. 🙏\",\n",
        "    \"The traffic today was unbearable! 😤\",\n",
        "    \"My friend is coming over later today.\",\n",
        "    \"I enjoyed the movie, but it was a bit too long for my taste. 😅\",\n",
        "    \"This is the best cake I've ever tasted! 🍰\",\n",
        "    \"I feel so tired and unmotivated today. 😩\",\n",
        "    \"The weather is nice but a bit chilly.\",\n",
        "    \"The service at that restaurant was disappointing. 😠\",\n",
        "    \"I plan to go for a run after work.\",\n",
        "    \"I can't stand how rude people can be sometimes. 👎\",\n",
        "    \"Just another day in the office.\",\n",
        "    \"I appreciate the help, but I wish it had been offered sooner. 🤔\"\n",
        "]\n",
        "\n",
        "# Iterate over each sentence and generate LIME explanations\n",
        "for sentence in test_sentences:\n",
        "    # Explain the prediction for each sentence\n",
        "    exp = explainer.explain_instance(sentence, lime_predict, num_features=10)\n",
        "\n",
        "    # Display explanation in notebook or terminal\n",
        "    exp.show_in_notebook(text=True)  # If running in a Jupyter notebook\n",
        "    # Alternatively, you can save the explanations to HTML files\n",
        "    exp.save_to_file(f'lime_explanation_{sentence[:10]}.html')\n"
      ],
      "metadata": {
        "id": "m8h_jO0hZe-O"
      },
      "execution_count": null,
      "outputs": []
    },
    {
      "cell_type": "markdown",
      "source": [
        "Example output:\n",
        "\n",
        "Explanation for sentence: \"I really didn't enjoy the book I read. 😒\"\n",
        "Positive prediction contribution: \"really didn't enjoy\" (strongly negative sentiment)\n",
        "Negative prediction contribution: \"book\" (neutral/weak negative)\n",
        "Emoji contribution: \"😒\" (strong negative sentiment)\n",
        "Final Sentiment: Negative (0.85 confidence)\n"
      ],
      "metadata": {
        "id": "L35x8eYMaGUv"
      }
    },
    {
      "cell_type": "code",
      "source": [],
      "metadata": {
        "id": "98VDJZ50aF0t"
      },
      "execution_count": null,
      "outputs": []
    }
  ],
  "metadata": {
    "colab": {
      "provenance": [],
      "gpuType": "T4"
    },
    "kernelspec": {
      "display_name": "Python 3",
      "name": "python3"
    },
    "language_info": {
      "name": "python"
    },
    "accelerator": "GPU"
  },
  "nbformat": 4,
  "nbformat_minor": 0
}